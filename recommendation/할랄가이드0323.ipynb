{
  "nbformat": 4,
  "nbformat_minor": 0,
  "metadata": {
    "colab": {
      "name": "할랄가이드.ipynb",
      "provenance": [],
      "collapsed_sections": [],
      "toc_visible": true
    },
    "kernelspec": {
      "name": "python3",
      "display_name": "Python 3"
    }
  },
  "cells": [
    {
      "cell_type": "code",
      "metadata": {
        "colab": {
          "base_uri": "https://localhost:8080/"
        },
        "id": "KvOajVqZw1WD",
        "outputId": "ab8798b0-713c-440c-a401-d0425b99564d"
      },
      "source": [
        "from google.colab import drive\n",
        "drive.mount('/gdrive')"
      ],
      "execution_count": null,
      "outputs": [
        {
          "output_type": "stream",
          "text": [
            "Mounted at /gdrive\n"
          ],
          "name": "stdout"
        }
      ]
    },
    {
      "cell_type": "markdown",
      "metadata": {
        "id": "7UW7IUgoz-xk"
      },
      "source": [
        "# skeleton"
      ]
    },
    {
      "cell_type": "code",
      "metadata": {
        "id": "QMtuayKdrf2e",
        "colab": {
          "base_uri": "https://localhost:8080/"
        },
        "outputId": "9776299b-10f2-4c68-ea83-0a2080dafa3d"
      },
      "source": [
        "import json\n",
        "import pandas as pd\n",
        "import os\n",
        "\n",
        "DATA_FILE = \"/gdrive/MyDrive/Colab Notebooks/ssafy/data/data.json\"\n",
        "DUMP_FILE = \"/gdrive/MyDrive/Colab Notebooks/ssafy/data/dump.pkl\"\n",
        "\n",
        "store_columns = (\n",
        "    \"id\",  # 음식점 고유번호\n",
        "    \"store_name\",  # 음식점 이름\n",
        "    \"branch\",  # 음식점 지점 여부\n",
        "    \"area\",  # 음식점 위치\n",
        "    \"tel\",  # 음식점 번호\n",
        "    \"address\",  # 음식점 주소\n",
        "    \"latitude\",  # 음식점 위도\n",
        "    \"longitude\",  # 음식점 경도\n",
        "    \"category\",  # 음식점 카테고리\n",
        ")\n",
        "\n",
        "review_columns = (\n",
        "    \"id\",  # 리뷰 고유번호\n",
        "    \"store\",  # 음식점 고유번호\n",
        "    \"user\",  # 유저 고유번호\n",
        "    \"score\",  # 평점\n",
        "    \"content\",  # 리뷰 내용\n",
        "    \"reg_time\",  # 리뷰 등록 시간\n",
        ")\n",
        "\n",
        "menu_columns = (\n",
        "    \"id\",\n",
        "    \"store\",\n",
        "    \"menu_name\",\n",
        "    \"price\",\n",
        ")\n",
        "\n",
        "user_columns = (\n",
        "    \"id\",\n",
        "    \"gender\",\n",
        "    \"age\",\n",
        ")\n",
        "\n",
        "\n",
        "def import_data(data_path=DATA_FILE):\n",
        "    try:\n",
        "        with open(data_path, encoding=\"utf-8\") as f:\n",
        "            data = json.loads(f.read())\n",
        "    except FileNotFoundError as e:\n",
        "        print(f\"`{data_path}` 가 존재하지 않습니다.\")\n",
        "        exit(1)\n",
        "\n",
        "    stores = []  # 음식점 테이블\n",
        "    reviews = []  # 리뷰 테이블\n",
        "    menus = [] # 메뉴 테이블\n",
        "    users = [] # 유저 테이블\n",
        "    menu_id = 0\n",
        "\n",
        "    for d in data:\n",
        "        categories = [c[\"category\"] for c in d[\"category_list\"]]\n",
        "        stores.append(\n",
        "            [\n",
        "                d[\"id\"],\n",
        "                d[\"name\"],\n",
        "                d[\"branch\"],\n",
        "                d[\"area\"],\n",
        "                d[\"tel\"],\n",
        "                d[\"address\"],\n",
        "                d[\"latitude\"],\n",
        "                d[\"longitude\"],\n",
        "                \"|\".join(categories),\n",
        "            ]\n",
        "        )\n",
        "\n",
        "        for review in d[\"review_list\"]:\n",
        "            r = review[\"review_info\"]\n",
        "            u = review[\"writer_info\"]\n",
        "            user_age = 2021 - int(u[\"born_year\"]) + 1\n",
        "\n",
        "            reviews.append(\n",
        "                [r[\"id\"], d[\"id\"], u[\"id\"], r[\"score\"], r[\"content\"], r[\"reg_time\"]]\n",
        "            )\n",
        "            users.append(\n",
        "                [u[\"id\"], u[\"gender\"], user_age]\n",
        "            )\n",
        "\n",
        "        for menu in d[\"menu_list\"]:\n",
        "            menus.append(\n",
        "                [menu_id, d[\"id\"], menu[\"menu\"], menu[\"price\"]]\n",
        "            )\n",
        "            menu_id +=1\n",
        "\n",
        "    store_frame = pd.DataFrame(data=stores, columns=store_columns)\n",
        "    review_frame = pd.DataFrame(data=reviews, columns=review_columns)\n",
        "    memu_frame = pd.DataFrame(data=menus, columns=menu_columns)\n",
        "    user_frame = pd.DataFrame(data=users, columns=user_columns)\n",
        "\n",
        "    return {\"stores\": store_frame, \"reviews\": review_frame, \"menus\": memu_frame, \"users\":user_frame}\n",
        "\n",
        "\n",
        "def dump_dataframes(dataframes):\n",
        "    pd.to_pickle(dataframes, DUMP_FILE)\n",
        "\n",
        "\n",
        "def load_dataframes():\n",
        "    return pd.read_pickle(DUMP_FILE)\n",
        "\n",
        "\n",
        "print(\"[*] Parsing data...\")\n",
        "raw_data = import_data()\n",
        "print(\"[+] Done\")\n",
        "\n",
        "print(\"[*] Dumping data...\")\n",
        "dump_dataframes(raw_data)\n",
        "print(\"[+] Done\\n\")\n",
        "\n",
        "raw_data = load_dataframes()"
      ],
      "execution_count": null,
      "outputs": [
        {
          "output_type": "stream",
          "text": [
            "[*] Parsing data...\n",
            "[+] Done\n",
            "[*] Dumping data...\n",
            "[+] Done\n",
            "\n"
          ],
          "name": "stdout"
        }
      ]
    },
    {
      "cell_type": "code",
      "metadata": {
        "colab": {
          "base_uri": "https://localhost:8080/"
        },
        "id": "IAN1UjV9SLDF",
        "outputId": "7445353c-dd5d-44de-c8fc-9de70dfb54ba"
      },
      "source": [
        "print(raw_data[\"stores\"].head())\n",
        "# print(data[\"reviews\"].head())\n",
        "# print(data[\"users\"].head())"
      ],
      "execution_count": null,
      "outputs": [
        {
          "output_type": "stream",
          "text": [
            "   id     store_name branch  ...   latitude   longitude   category\n",
            "0   1           Agal   None  ...  37.556862  126.926666   아구찜|포장마차\n",
            "1   2         Assisy   None  ...  35.150746  126.890062         카페\n",
            "2   3  Battered Sole   None  ...  37.535032  126.991664    피쉬앤칩스|펍\n",
            "3   4      Chakyoung   None  ...  35.158587  129.175004  레스토랑|카프레제\n",
            "4   5       Delabobo   None  ...  37.559904  126.840512  디저트카페|디저트\n",
            "\n",
            "[5 rows x 9 columns]\n"
          ],
          "name": "stdout"
        }
      ]
    },
    {
      "cell_type": "markdown",
      "metadata": {
        "id": "RrJDiNJ30IE1"
      },
      "source": [
        "# 무슬림친화레스토랑"
      ]
    },
    {
      "cell_type": "code",
      "metadata": {
        "colab": {
          "base_uri": "https://localhost:8080/"
        },
        "id": "xFJm7tk4Ot_X",
        "outputId": "f0870a96-3ee5-4e88-f43b-8076e5ed79b2"
      },
      "source": [
        "MUSLIM_PATH = '/gdrive/MyDrive/Colab Notebooks/ssafy/data/무슬림친화레스토랑.csv'\n",
        "CSV_MUSLIM_PATH = pd.read_csv(MUSLIM_PATH, engine='python', encoding='cp949')\n",
        "print(CSV_MUSLIM_PATH.head())"
      ],
      "execution_count": null,
      "outputs": [
        {
          "output_type": "stream",
          "text": [
            "        레스토랑명     무슬림친화도  지역  ...      휴일 주차                관광지\n",
            "0       우스마니아  무슬림 자가 인증  서울  ...     NaN  X  국립중앙박물관, 이태원 쇼핑거리\n",
            "1   미스터케밥 2호점   할랄 공식 인증  서울  ...     NaN  X  국립중앙박물관, 이태원 쇼핑거리\n",
            "2       카파도키아  무슬림 자가 인증  부산  ...    연중무휴  O                범어사\n",
            "3     올리브레스토랑  무슬림 자가 인증  인천  ...     NaN  O            송도센트럴파크\n",
            "4  봄베이인도요리전문점   무슬림 프렌들리  경남  ...  매주 월요일  O          창원시립마산박물관\n",
            "\n",
            "[5 rows x 10 columns]\n"
          ],
          "name": "stdout"
        }
      ]
    },
    {
      "cell_type": "markdown",
      "metadata": {
        "id": "hqAqANcA_VdH"
      },
      "source": [
        "# 기초통계"
      ]
    },
    {
      "cell_type": "markdown",
      "metadata": {
        "id": "b5PUwmLKuSmm"
      },
      "source": [
        "Store_name 최대 글자 길이"
      ]
    },
    {
      "cell_type": "code",
      "metadata": {
        "id": "zr2VJFcTqoH_",
        "colab": {
          "base_uri": "https://localhost:8080/"
        },
        "outputId": "f25631bb-948b-4486-e798-ad4448040440"
      },
      "source": [
        "max(raw_data['stores'].store_name.map(lambda x: len(x)).max(), CSV_MUSLIM_PATH['레스토랑명'].map(lambda x: len(x)).max())"
      ],
      "execution_count": null,
      "outputs": [
        {
          "output_type": "execute_result",
          "data": {
            "text/plain": [
              "30"
            ]
          },
          "metadata": {
            "tags": []
          },
          "execution_count": 60
        }
      ]
    },
    {
      "cell_type": "markdown",
      "metadata": {
        "id": "w6Btb6SKun4k"
      },
      "source": [
        "MUSLIM_FRIENDLY 최대 길이"
      ]
    },
    {
      "cell_type": "code",
      "metadata": {
        "colab": {
          "base_uri": "https://localhost:8080/"
        },
        "id": "aq6-Sb0insQq",
        "outputId": "fcdae8e9-c3fd-43b7-e6c6-7bcae44280eb"
      },
      "source": [
        "CSV_MUSLIM_PATH[\"무슬림친화도\"].map(lambda x: len(x)).max()"
      ],
      "execution_count": null,
      "outputs": [
        {
          "output_type": "execute_result",
          "data": {
            "text/plain": [
              "9"
            ]
          },
          "metadata": {
            "tags": []
          },
          "execution_count": 61
        }
      ]
    },
    {
      "cell_type": "markdown",
      "metadata": {
        "id": "M7Coqj4mu2mt"
      },
      "source": [
        "무슬림레스토랑 지역 종류 및 빈도수"
      ]
    },
    {
      "cell_type": "code",
      "metadata": {
        "colab": {
          "base_uri": "https://localhost:8080/"
        },
        "id": "VN3EM-UYu0YO",
        "outputId": "376e5a8c-3bf2-4139-875c-e3438d20bc1a"
      },
      "source": [
        "CSV_MUSLIM_PATH['지역'].value_counts()"
      ],
      "execution_count": null,
      "outputs": [
        {
          "output_type": "execute_result",
          "data": {
            "text/plain": [
              "서울    135\n",
              "경기     46\n",
              "부산     30\n",
              "강원     26\n",
              "제주     23\n",
              "대구     19\n",
              "전북     12\n",
              "경북     12\n",
              "인천     11\n",
              "경남     10\n",
              "울산      9\n",
              "충북      5\n",
              "전남      4\n",
              "광주      3\n",
              "대전      1\n",
              "충남      1\n",
              "Name: 지역, dtype: int64"
            ]
          },
          "metadata": {
            "tags": []
          },
          "execution_count": 63
        }
      ]
    },
    {
      "cell_type": "markdown",
      "metadata": {
        "id": "TnztMfZgvv1t"
      },
      "source": [
        "주소 최대 길이"
      ]
    },
    {
      "cell_type": "code",
      "metadata": {
        "colab": {
          "base_uri": "https://localhost:8080/"
        },
        "id": "mzn-EzIJv2vS",
        "outputId": "1d7437ea-e04a-4b2e-c496-0af916fe046f"
      },
      "source": [
        "# print(raw_data['stores']['address'].map(lambda x: len(x)).max())\n",
        "print(CSV_MUSLIM_PATH['주소'].map(lambda x: len(x)).max())"
      ],
      "execution_count": null,
      "outputs": [
        {
          "output_type": "stream",
          "text": [
            "46\n"
          ],
          "name": "stdout"
        }
      ]
    },
    {
      "cell_type": "markdown",
      "metadata": {
        "id": "5nh8wqhbTYiG"
      },
      "source": [
        "# merge : skeleton + 무슬림레스토랑\n"
      ]
    },
    {
      "cell_type": "code",
      "metadata": {
        "id": "Fhbe0LFFvmN3"
      },
      "source": [
        "store_table = raw_data[\"stores\"].copy()\n",
        "muslim_table = CSV_MUSLIM_PATH.copy()"
      ],
      "execution_count": null,
      "outputs": []
    },
    {
      "cell_type": "code",
      "metadata": {
        "id": "csLpPXfjU0Or"
      },
      "source": [
        "# store_table['full_store_name'] = store_table[['store_name', 'branch']].apply(' '.join, axis=1)\n",
        "# store_table['full_store_name'] = store_table[\"store_name\"] + \" \" + store_table[\"branch\"]"
      ],
      "execution_count": null,
      "outputs": []
    },
    {
      "cell_type": "code",
      "metadata": {
        "colab": {
          "base_uri": "https://localhost:8080/"
        },
        "id": "9qOfWkT0Vrm9",
        "outputId": "c641c693-42e5-461a-e2d4-8d9ba410c113"
      },
      "source": [
        "print(store_table.head())"
      ],
      "execution_count": null,
      "outputs": [
        {
          "output_type": "stream",
          "text": [
            "   id     store_name branch  ...   latitude   longitude   category\n",
            "0   1           Agal   None  ...  37.556862  126.926666   아구찜|포장마차\n",
            "1   2         Assisy   None  ...  35.150746  126.890062         카페\n",
            "2   3  Battered Sole   None  ...  37.535032  126.991664    피쉬앤칩스|펍\n",
            "3   4      Chakyoung   None  ...  35.158587  129.175004  레스토랑|카프레제\n",
            "4   5       Delabobo   None  ...  37.559904  126.840512  디저트카페|디저트\n",
            "\n",
            "[5 rows x 9 columns]\n"
          ],
          "name": "stdout"
        }
      ]
    },
    {
      "cell_type": "code",
      "metadata": {
        "colab": {
          "base_uri": "https://localhost:8080/",
          "height": 407
        },
        "id": "r-tKZq7_XVb1",
        "outputId": "65d1cb9d-5857-4c34-888f-effbe8915723"
      },
      "source": [
        "store_table.drop_duplicates()"
      ],
      "execution_count": null,
      "outputs": [
        {
          "output_type": "execute_result",
          "data": {
            "text/html": [
              "<div>\n",
              "<style scoped>\n",
              "    .dataframe tbody tr th:only-of-type {\n",
              "        vertical-align: middle;\n",
              "    }\n",
              "\n",
              "    .dataframe tbody tr th {\n",
              "        vertical-align: top;\n",
              "    }\n",
              "\n",
              "    .dataframe thead th {\n",
              "        text-align: right;\n",
              "    }\n",
              "</style>\n",
              "<table border=\"1\" class=\"dataframe\">\n",
              "  <thead>\n",
              "    <tr style=\"text-align: right;\">\n",
              "      <th></th>\n",
              "      <th>id</th>\n",
              "      <th>store_name</th>\n",
              "      <th>branch</th>\n",
              "      <th>area</th>\n",
              "      <th>tel</th>\n",
              "      <th>address</th>\n",
              "      <th>latitude</th>\n",
              "      <th>longitude</th>\n",
              "      <th>category</th>\n",
              "    </tr>\n",
              "  </thead>\n",
              "  <tbody>\n",
              "    <tr>\n",
              "      <th>0</th>\n",
              "      <td>1</td>\n",
              "      <td>Agal</td>\n",
              "      <td>None</td>\n",
              "      <td>홍대</td>\n",
              "      <td>010-6689-5886</td>\n",
              "      <td>서울특별시 마포구 동교동 170-13</td>\n",
              "      <td>37.556862</td>\n",
              "      <td>126.926666</td>\n",
              "      <td>아구찜|포장마차</td>\n",
              "    </tr>\n",
              "    <tr>\n",
              "      <th>1</th>\n",
              "      <td>2</td>\n",
              "      <td>Assisy</td>\n",
              "      <td>None</td>\n",
              "      <td>광주</td>\n",
              "      <td>062-367-0700</td>\n",
              "      <td>광주광역시 서구 농성동 631-33</td>\n",
              "      <td>35.150746</td>\n",
              "      <td>126.890062</td>\n",
              "      <td>카페</td>\n",
              "    </tr>\n",
              "    <tr>\n",
              "      <th>2</th>\n",
              "      <td>3</td>\n",
              "      <td>Battered Sole</td>\n",
              "      <td>None</td>\n",
              "      <td>이태원</td>\n",
              "      <td>02-749-6867</td>\n",
              "      <td>서울특별시 용산구 이태원동 118-9</td>\n",
              "      <td>37.535032</td>\n",
              "      <td>126.991664</td>\n",
              "      <td>피쉬앤칩스|펍</td>\n",
              "    </tr>\n",
              "    <tr>\n",
              "      <th>3</th>\n",
              "      <td>4</td>\n",
              "      <td>Chakyoung</td>\n",
              "      <td>None</td>\n",
              "      <td>달맞이길</td>\n",
              "      <td>051-756-5566</td>\n",
              "      <td>부산광역시 해운대구 중2동 1509-5</td>\n",
              "      <td>35.158587</td>\n",
              "      <td>129.175004</td>\n",
              "      <td>레스토랑|카프레제</td>\n",
              "    </tr>\n",
              "    <tr>\n",
              "      <th>4</th>\n",
              "      <td>5</td>\n",
              "      <td>Delabobo</td>\n",
              "      <td>None</td>\n",
              "      <td>발산역</td>\n",
              "      <td>02-2667-9854</td>\n",
              "      <td>서울특별시 강서구 등촌동 689</td>\n",
              "      <td>37.559904</td>\n",
              "      <td>126.840512</td>\n",
              "      <td>디저트카페|디저트</td>\n",
              "    </tr>\n",
              "    <tr>\n",
              "      <th>...</th>\n",
              "      <td>...</td>\n",
              "      <td>...</td>\n",
              "      <td>...</td>\n",
              "      <td>...</td>\n",
              "      <td>...</td>\n",
              "      <td>...</td>\n",
              "      <td>...</td>\n",
              "      <td>...</td>\n",
              "      <td>...</td>\n",
              "    </tr>\n",
              "    <tr>\n",
              "      <th>459983</th>\n",
              "      <td>459996</td>\n",
              "      <td>행복부대찌개</td>\n",
              "      <td>None</td>\n",
              "      <td>녹양동</td>\n",
              "      <td>031-877-2410</td>\n",
              "      <td>경기도 의정부시 녹양동 154-6</td>\n",
              "      <td>37.757939</td>\n",
              "      <td>127.032758</td>\n",
              "      <td></td>\n",
              "    </tr>\n",
              "    <tr>\n",
              "      <th>459984</th>\n",
              "      <td>459997</td>\n",
              "      <td>행복부페</td>\n",
              "      <td>None</td>\n",
              "      <td>안중읍</td>\n",
              "      <td>031-682-1733</td>\n",
              "      <td>경기도 평택시 안중읍 용성리 718-3</td>\n",
              "      <td>37.002743</td>\n",
              "      <td>126.944991</td>\n",
              "      <td></td>\n",
              "    </tr>\n",
              "    <tr>\n",
              "      <th>459985</th>\n",
              "      <td>459998</td>\n",
              "      <td>행복분식</td>\n",
              "      <td>None</td>\n",
              "      <td>퇴촌면</td>\n",
              "      <td>031-8071-2668</td>\n",
              "      <td>경기도 광주 퇴촌면 도수리 611-6</td>\n",
              "      <td>37.471677</td>\n",
              "      <td>127.315744</td>\n",
              "      <td></td>\n",
              "    </tr>\n",
              "    <tr>\n",
              "      <th>459986</th>\n",
              "      <td>459999</td>\n",
              "      <td>행복분식</td>\n",
              "      <td>None</td>\n",
              "      <td>소주동</td>\n",
              "      <td>055-312-3713</td>\n",
              "      <td>경상남도 양산시 소주동 147-1</td>\n",
              "      <td>35.407860</td>\n",
              "      <td>129.158564</td>\n",
              "      <td></td>\n",
              "    </tr>\n",
              "    <tr>\n",
              "      <th>459987</th>\n",
              "      <td>460000</td>\n",
              "      <td>행복분식</td>\n",
              "      <td>None</td>\n",
              "      <td>의정부동</td>\n",
              "      <td>031-772-6624</td>\n",
              "      <td>경기도 의정부시 의정부동 479-7</td>\n",
              "      <td>37.739845</td>\n",
              "      <td>127.038074</td>\n",
              "      <td></td>\n",
              "    </tr>\n",
              "  </tbody>\n",
              "</table>\n",
              "<p>459988 rows × 9 columns</p>\n",
              "</div>"
            ],
            "text/plain": [
              "            id     store_name branch  ...   latitude   longitude   category\n",
              "0            1           Agal   None  ...  37.556862  126.926666   아구찜|포장마차\n",
              "1            2         Assisy   None  ...  35.150746  126.890062         카페\n",
              "2            3  Battered Sole   None  ...  37.535032  126.991664    피쉬앤칩스|펍\n",
              "3            4      Chakyoung   None  ...  35.158587  129.175004  레스토랑|카프레제\n",
              "4            5       Delabobo   None  ...  37.559904  126.840512  디저트카페|디저트\n",
              "...        ...            ...    ...  ...        ...         ...        ...\n",
              "459983  459996         행복부대찌개   None  ...  37.757939  127.032758           \n",
              "459984  459997           행복부페   None  ...  37.002743  126.944991           \n",
              "459985  459998           행복분식   None  ...  37.471677  127.315744           \n",
              "459986  459999           행복분식   None  ...  35.407860  129.158564           \n",
              "459987  460000           행복분식   None  ...  37.739845  127.038074           \n",
              "\n",
              "[459988 rows x 9 columns]"
            ]
          },
          "metadata": {
            "tags": []
          },
          "execution_count": 9
        }
      ]
    },
    {
      "cell_type": "code",
      "metadata": {
        "colab": {
          "base_uri": "https://localhost:8080/"
        },
        "id": "8U6Lsd8ba1fV",
        "outputId": "7786d396-3aa5-4f1f-afbd-7705bf955c1b"
      },
      "source": [
        "store_table.columns"
      ],
      "execution_count": null,
      "outputs": [
        {
          "output_type": "execute_result",
          "data": {
            "text/plain": [
              "Index(['id', 'store_name', 'branch', 'area', 'tel', 'address', 'latitude',\n",
              "       'longitude', 'category'],\n",
              "      dtype='object')"
            ]
          },
          "metadata": {
            "tags": []
          },
          "execution_count": 10
        }
      ]
    },
    {
      "cell_type": "code",
      "metadata": {
        "colab": {
          "base_uri": "https://localhost:8080/",
          "height": 319
        },
        "id": "tXFVNiOeZCiu",
        "outputId": "e3b31487-bb0f-404e-ff1f-a09b4c98df79"
      },
      "source": [
        "muslim_table.columns = ['store_name', 'muslim_friendly', 'location_region', 'food_category', 'address', 'tel', 'working_time', 'days_closed','parking','tourism']\n",
        "muslim_table.head()"
      ],
      "execution_count": null,
      "outputs": [
        {
          "output_type": "execute_result",
          "data": {
            "text/html": [
              "<div>\n",
              "<style scoped>\n",
              "    .dataframe tbody tr th:only-of-type {\n",
              "        vertical-align: middle;\n",
              "    }\n",
              "\n",
              "    .dataframe tbody tr th {\n",
              "        vertical-align: top;\n",
              "    }\n",
              "\n",
              "    .dataframe thead th {\n",
              "        text-align: right;\n",
              "    }\n",
              "</style>\n",
              "<table border=\"1\" class=\"dataframe\">\n",
              "  <thead>\n",
              "    <tr style=\"text-align: right;\">\n",
              "      <th></th>\n",
              "      <th>store_name</th>\n",
              "      <th>muslim_friendly</th>\n",
              "      <th>location_region</th>\n",
              "      <th>food_category</th>\n",
              "      <th>address</th>\n",
              "      <th>tel</th>\n",
              "      <th>working_time</th>\n",
              "      <th>days_closed</th>\n",
              "      <th>parking</th>\n",
              "      <th>tourism</th>\n",
              "    </tr>\n",
              "  </thead>\n",
              "  <tbody>\n",
              "    <tr>\n",
              "      <th>0</th>\n",
              "      <td>우스마니아</td>\n",
              "      <td>무슬림 자가 인증</td>\n",
              "      <td>서울</td>\n",
              "      <td>파키스탄음식</td>\n",
              "      <td>서울 용산구 우사단로 34</td>\n",
              "      <td>02-798-7155</td>\n",
              "      <td>11:00-22:00</td>\n",
              "      <td>NaN</td>\n",
              "      <td>X</td>\n",
              "      <td>국립중앙박물관, 이태원 쇼핑거리</td>\n",
              "    </tr>\n",
              "    <tr>\n",
              "      <th>1</th>\n",
              "      <td>미스터케밥 2호점</td>\n",
              "      <td>할랄 공식 인증</td>\n",
              "      <td>서울</td>\n",
              "      <td>터키음식</td>\n",
              "      <td>서울 용산구 우사단로 42</td>\n",
              "      <td>070-7532-1997</td>\n",
              "      <td>08:00-05:00</td>\n",
              "      <td>NaN</td>\n",
              "      <td>X</td>\n",
              "      <td>국립중앙박물관, 이태원 쇼핑거리</td>\n",
              "    </tr>\n",
              "    <tr>\n",
              "      <th>2</th>\n",
              "      <td>카파도키아</td>\n",
              "      <td>무슬림 자가 인증</td>\n",
              "      <td>부산</td>\n",
              "      <td>터키음식</td>\n",
              "      <td>부산 금정구 금단로 123-9</td>\n",
              "      <td>051-515-5981</td>\n",
              "      <td>11:30-22:00</td>\n",
              "      <td>연중무휴</td>\n",
              "      <td>O</td>\n",
              "      <td>범어사</td>\n",
              "    </tr>\n",
              "    <tr>\n",
              "      <th>3</th>\n",
              "      <td>올리브레스토랑</td>\n",
              "      <td>무슬림 자가 인증</td>\n",
              "      <td>인천</td>\n",
              "      <td>아랍음식</td>\n",
              "      <td>인천 연수구 옥련로 31</td>\n",
              "      <td>032-874-2800</td>\n",
              "      <td>10.30-22:00</td>\n",
              "      <td>NaN</td>\n",
              "      <td>O</td>\n",
              "      <td>송도센트럴파크</td>\n",
              "    </tr>\n",
              "    <tr>\n",
              "      <th>4</th>\n",
              "      <td>봄베이인도요리전문점</td>\n",
              "      <td>무슬림 프렌들리</td>\n",
              "      <td>경남</td>\n",
              "      <td>인도음식</td>\n",
              "      <td>경남 창원시 성산구 용지로 74</td>\n",
              "      <td>055-263-4111</td>\n",
              "      <td>11:30-22:00(브레이크 타임 15:00-17:00, 주말에는 브레이크 타임 없음)</td>\n",
              "      <td>매주 월요일</td>\n",
              "      <td>O</td>\n",
              "      <td>창원시립마산박물관</td>\n",
              "    </tr>\n",
              "  </tbody>\n",
              "</table>\n",
              "</div>"
            ],
            "text/plain": [
              "   store_name muslim_friendly  ... parking            tourism\n",
              "0       우스마니아       무슬림 자가 인증  ...       X  국립중앙박물관, 이태원 쇼핑거리\n",
              "1   미스터케밥 2호점        할랄 공식 인증  ...       X  국립중앙박물관, 이태원 쇼핑거리\n",
              "2       카파도키아       무슬림 자가 인증  ...       O                범어사\n",
              "3     올리브레스토랑       무슬림 자가 인증  ...       O            송도센트럴파크\n",
              "4  봄베이인도요리전문점        무슬림 프렌들리  ...       O          창원시립마산박물관\n",
              "\n",
              "[5 rows x 10 columns]"
            ]
          },
          "metadata": {
            "tags": []
          },
          "execution_count": 11
        }
      ]
    },
    {
      "cell_type": "markdown",
      "metadata": {
        "id": "j2h6ouyw9xFJ"
      },
      "source": [
        "## 가게 이름으로 묶기\n"
      ]
    },
    {
      "cell_type": "code",
      "metadata": {
        "colab": {
          "base_uri": "https://localhost:8080/"
        },
        "id": "jKaf63ACYE_E",
        "outputId": "8e8d6a0b-a155-4e43-e306-c773f982f0c1"
      },
      "source": [
        "df_merge = pd.merge(muslim_table, store_table, on='store_name', how='left')\n",
        "print(df_merge)"
      ],
      "execution_count": null,
      "outputs": [
        {
          "output_type": "stream",
          "text": [
            "     store_name muslim_friendly  ...   longitude  category\n",
            "0         우스마니아       무슬림 자가 인증  ...  126.995705        인도\n",
            "1     미스터케밥 2호점        할랄 공식 인증  ...         NaN       NaN\n",
            "2         카파도키아       무슬림 자가 인증  ...  129.092210    터키|이슬람\n",
            "3       올리브레스토랑       무슬림 자가 인증  ...  128.872874          \n",
            "4    봄베이인도요리전문점        무슬림 프렌들리  ...         NaN       NaN\n",
            "..          ...             ...  ...         ...       ...\n",
            "972       카사블랑카        무슬림 프렌들리  ...  126.987046  모로코|샌드위치\n",
            "973       카사블랑카        무슬림 프렌들리  ...  128.612449          \n",
            "974       카사블랑카        무슬림 프렌들리  ...  128.423302          \n",
            "975       카사블랑카        무슬림 프렌들리  ...  127.029000  모로코|샌드위치\n",
            "976      카페 다스티        할랄 공식 인증  ...         NaN       NaN\n",
            "\n",
            "[977 rows x 18 columns]\n"
          ],
          "name": "stdout"
        }
      ]
    },
    {
      "cell_type": "code",
      "metadata": {
        "colab": {
          "base_uri": "https://localhost:8080/"
        },
        "id": "TVnvtIpzcJyN",
        "outputId": "2bdbe367-ee1d-4769-a6b5-40f299a622aa"
      },
      "source": [
        "df_merge.drop_duplicates(\"store_name\", inplace=True)\n",
        "print(df_merge.shape)"
      ],
      "execution_count": null,
      "outputs": [
        {
          "output_type": "stream",
          "text": [
            "(345, 18)\n"
          ],
          "name": "stdout"
        }
      ]
    },
    {
      "cell_type": "code",
      "metadata": {
        "colab": {
          "base_uri": "https://localhost:8080/"
        },
        "id": "j5XE4RTtcL2a",
        "outputId": "89380a64-5b7e-42fc-c657-63c0f2a9a830"
      },
      "source": [
        "print(muslim_table.shape)"
      ],
      "execution_count": null,
      "outputs": [
        {
          "output_type": "stream",
          "text": [
            "(347, 10)\n"
          ],
          "name": "stdout"
        }
      ]
    },
    {
      "cell_type": "markdown",
      "metadata": {
        "id": "7vRjncl8sYdF"
      },
      "source": [
        "### 가게이름으로 기초통계"
      ]
    },
    {
      "cell_type": "code",
      "metadata": {
        "colab": {
          "base_uri": "https://localhost:8080/"
        },
        "id": "JKV4pWvre58o",
        "outputId": "028ba954-4e07-4775-fe5b-49253623f408"
      },
      "source": [
        "df_merge.info()"
      ],
      "execution_count": null,
      "outputs": [
        {
          "output_type": "stream",
          "text": [
            "<class 'pandas.core.frame.DataFrame'>\n",
            "Int64Index: 345 entries, 0 to 976\n",
            "Data columns (total 18 columns):\n",
            " #   Column           Non-Null Count  Dtype  \n",
            "---  ------           --------------  -----  \n",
            " 0   store_name       345 non-null    object \n",
            " 1   muslim_friendly  345 non-null    object \n",
            " 2   location_region  345 non-null    object \n",
            " 3   food_category    288 non-null    object \n",
            " 4   address_x        345 non-null    object \n",
            " 5   tel_x            345 non-null    object \n",
            " 6   working_time     345 non-null    object \n",
            " 7   days_closed      222 non-null    object \n",
            " 8   parking          345 non-null    object \n",
            " 9   tourism          345 non-null    object \n",
            " 10  id               141 non-null    float64\n",
            " 11  branch           11 non-null     object \n",
            " 12  area             139 non-null    object \n",
            " 13  tel_y            140 non-null    object \n",
            " 14  address_y        141 non-null    object \n",
            " 15  latitude         141 non-null    object \n",
            " 16  longitude        141 non-null    object \n",
            " 17  category         141 non-null    object \n",
            "dtypes: float64(1), object(17)\n",
            "memory usage: 51.2+ KB\n"
          ],
          "name": "stdout"
        }
      ]
    },
    {
      "cell_type": "markdown",
      "metadata": {
        "id": "zhfRl_c6wrCm"
      },
      "source": [
        "주소 교집합"
      ]
    },
    {
      "cell_type": "code",
      "metadata": {
        "colab": {
          "base_uri": "https://localhost:8080/"
        },
        "id": "IgB066tavQkE",
        "outputId": "95648d11-2b18-49ee-8dae-c3f66329a3e0"
      },
      "source": [
        "df_merge.columns"
      ],
      "execution_count": null,
      "outputs": [
        {
          "output_type": "execute_result",
          "data": {
            "text/plain": [
              "Index(['store_name', 'muslim_friendly', 'location_region', 'food_category',\n",
              "       'address_x', 'tel_x', 'working_time', 'days_closed', 'parking',\n",
              "       'tourism', 'id', 'branch', 'area', 'tel_y', 'address_y', 'latitude',\n",
              "       'longitude', 'category'],\n",
              "      dtype='object')"
            ]
          },
          "metadata": {
            "tags": []
          },
          "execution_count": 24
        }
      ]
    },
    {
      "cell_type": "code",
      "metadata": {
        "colab": {
          "base_uri": "https://localhost:8080/",
          "height": 68
        },
        "id": "t1f5TPMiw14l",
        "outputId": "e7ecbcad-e535-42ef-fcd6-a4f2bd4c7f32"
      },
      "source": [
        "df_merge[df_merge['address_x'] == df_merge['address_y']]"
      ],
      "execution_count": null,
      "outputs": [
        {
          "output_type": "execute_result",
          "data": {
            "text/html": [
              "<div>\n",
              "<style scoped>\n",
              "    .dataframe tbody tr th:only-of-type {\n",
              "        vertical-align: middle;\n",
              "    }\n",
              "\n",
              "    .dataframe tbody tr th {\n",
              "        vertical-align: top;\n",
              "    }\n",
              "\n",
              "    .dataframe thead th {\n",
              "        text-align: right;\n",
              "    }\n",
              "</style>\n",
              "<table border=\"1\" class=\"dataframe\">\n",
              "  <thead>\n",
              "    <tr style=\"text-align: right;\">\n",
              "      <th></th>\n",
              "      <th>store_name</th>\n",
              "      <th>muslim_friendly</th>\n",
              "      <th>location_region</th>\n",
              "      <th>food_category</th>\n",
              "      <th>address_x</th>\n",
              "      <th>tel_x</th>\n",
              "      <th>working_time</th>\n",
              "      <th>days_closed</th>\n",
              "      <th>parking</th>\n",
              "      <th>tourism</th>\n",
              "      <th>id</th>\n",
              "      <th>branch</th>\n",
              "      <th>area</th>\n",
              "      <th>tel_y</th>\n",
              "      <th>address_y</th>\n",
              "      <th>latitude</th>\n",
              "      <th>longitude</th>\n",
              "      <th>category</th>\n",
              "    </tr>\n",
              "  </thead>\n",
              "  <tbody>\n",
              "  </tbody>\n",
              "</table>\n",
              "</div>"
            ],
            "text/plain": [
              "Empty DataFrame\n",
              "Columns: [store_name, muslim_friendly, location_region, food_category, address_x, tel_x, working_time, days_closed, parking, tourism, id, branch, area, tel_y, address_y, latitude, longitude, category]\n",
              "Index: []"
            ]
          },
          "metadata": {
            "tags": []
          },
          "execution_count": 34
        }
      ]
    },
    {
      "cell_type": "code",
      "metadata": {
        "colab": {
          "base_uri": "https://localhost:8080/"
        },
        "id": "EX7rr0bsxcoC",
        "outputId": "cd73522b-62b3-4c2e-adec-92a1f6ef3f40"
      },
      "source": [
        "df_merge[df_merge['tel_x'] == df_merge['tel_y']].info()"
      ],
      "execution_count": null,
      "outputs": [
        {
          "output_type": "stream",
          "text": [
            "<class 'pandas.core.frame.DataFrame'>\n",
            "Int64Index: 74 entries, 0 to 962\n",
            "Data columns (total 18 columns):\n",
            " #   Column           Non-Null Count  Dtype  \n",
            "---  ------           --------------  -----  \n",
            " 0   store_name       74 non-null     object \n",
            " 1   muslim_friendly  74 non-null     object \n",
            " 2   location_region  74 non-null     object \n",
            " 3   food_category    63 non-null     object \n",
            " 4   address_x        74 non-null     object \n",
            " 5   tel_x            74 non-null     object \n",
            " 6   working_time     74 non-null     object \n",
            " 7   days_closed      48 non-null     object \n",
            " 8   parking          74 non-null     object \n",
            " 9   tourism          74 non-null     object \n",
            " 10  id               74 non-null     float64\n",
            " 11  branch           4 non-null      object \n",
            " 12  area             72 non-null     object \n",
            " 13  tel_y            74 non-null     object \n",
            " 14  address_y        74 non-null     object \n",
            " 15  latitude         74 non-null     object \n",
            " 16  longitude        74 non-null     object \n",
            " 17  category         74 non-null     object \n",
            "dtypes: float64(1), object(17)\n",
            "memory usage: 11.0+ KB\n"
          ],
          "name": "stdout"
        }
      ]
    },
    {
      "cell_type": "markdown",
      "metadata": {
        "id": "nKK8HLZT9rMu"
      },
      "source": [
        "## 전화번호로 묶기"
      ]
    },
    {
      "cell_type": "code",
      "metadata": {
        "colab": {
          "base_uri": "https://localhost:8080/"
        },
        "id": "y-obI4M9-QpR",
        "outputId": "2552388d-669c-4d7e-8ebb-bdf109f14998"
      },
      "source": [
        "# null 값 일 수도  있음\n",
        "df_tel.drop_duplicates(\"tel\").shape"
      ],
      "execution_count": null,
      "outputs": [
        {
          "output_type": "execute_result",
          "data": {
            "text/plain": [
              "(234, 18)"
            ]
          },
          "metadata": {
            "tags": []
          },
          "execution_count": 56
        }
      ]
    },
    {
      "cell_type": "code",
      "metadata": {
        "colab": {
          "base_uri": "https://localhost:8080/"
        },
        "id": "SWSvf44282VV",
        "outputId": "995d26f8-39ca-48f8-c249-edda3a5cebb7"
      },
      "source": [
        "df_tel= pd.merge(muslim_table, store_table, on='tel')\n",
        "df_tel.info()"
      ],
      "execution_count": null,
      "outputs": [
        {
          "output_type": "stream",
          "text": [
            "<class 'pandas.core.frame.DataFrame'>\n",
            "Int64Index: 244 entries, 0 to 243\n",
            "Data columns (total 18 columns):\n",
            " #   Column           Non-Null Count  Dtype \n",
            "---  ------           --------------  ----- \n",
            " 0   store_name_x     244 non-null    object\n",
            " 1   muslim_friendly  244 non-null    object\n",
            " 2   location_region  244 non-null    object\n",
            " 3   food_category    200 non-null    object\n",
            " 4   address_x        244 non-null    object\n",
            " 5   tel              244 non-null    object\n",
            " 6   working_time     244 non-null    object\n",
            " 7   days_closed      162 non-null    object\n",
            " 8   parking          244 non-null    object\n",
            " 9   tourism          244 non-null    object\n",
            " 10  id               244 non-null    int64 \n",
            " 11  store_name_y     244 non-null    object\n",
            " 12  branch           32 non-null     object\n",
            " 13  area             240 non-null    object\n",
            " 14  address_y        244 non-null    object\n",
            " 15  latitude         244 non-null    object\n",
            " 16  longitude        244 non-null    object\n",
            " 17  category         244 non-null    object\n",
            "dtypes: int64(1), object(17)\n",
            "memory usage: 36.2+ KB\n"
          ],
          "name": "stdout"
        }
      ]
    },
    {
      "cell_type": "markdown",
      "metadata": {
        "id": "UGwSM4Sx6VB3"
      },
      "source": [
        "# merge : review + user"
      ]
    },
    {
      "cell_type": "code",
      "metadata": {
        "colab": {
          "base_uri": "https://localhost:8080/"
        },
        "id": "Isam1SKL64tb",
        "outputId": "ebd53c7b-fe24-490e-f37c-3675b4bfd664"
      },
      "source": [
        "user_table = raw_data[\"users\"].copy()\n",
        "user_table.columns"
      ],
      "execution_count": null,
      "outputs": [
        {
          "output_type": "execute_result",
          "data": {
            "text/plain": [
              "Index(['id', 'gender', 'age'], dtype='object')"
            ]
          },
          "metadata": {
            "tags": []
          },
          "execution_count": 40
        }
      ]
    },
    {
      "cell_type": "code",
      "metadata": {
        "colab": {
          "base_uri": "https://localhost:8080/"
        },
        "id": "6WabFd-345vo",
        "outputId": "a1b1e242-90c2-4ff9-f76e-a3086608058c"
      },
      "source": [
        "review_table = raw_data[\"reviews\"].copy()\n",
        "review_table.columns"
      ],
      "execution_count": null,
      "outputs": [
        {
          "output_type": "execute_result",
          "data": {
            "text/plain": [
              "Index(['id', 'store', 'user', 'score', 'content', 'reg_time'], dtype='object')"
            ]
          },
          "metadata": {
            "tags": []
          },
          "execution_count": 39
        }
      ]
    },
    {
      "cell_type": "code",
      "metadata": {
        "colab": {
          "base_uri": "https://localhost:8080/"
        },
        "id": "FJhOsBrc6-nf",
        "outputId": "a7da3720-4bf8-4b43-cf9f-c7ee89e75530"
      },
      "source": [
        "df_review_user = pd.merge(review_table, user_table, left_on='user', right_on='id')\n",
        "df_review_user.drop_duplicates(\"content\", inplace=True)\n",
        "df_review_user.columns"
      ],
      "execution_count": null,
      "outputs": [
        {
          "output_type": "execute_result",
          "data": {
            "text/plain": [
              "Index(['id_x', 'store', 'user', 'score', 'content', 'reg_time', 'id_y',\n",
              "       'gender', 'age'],\n",
              "      dtype='object')"
            ]
          },
          "metadata": {
            "tags": []
          },
          "execution_count": 47
        }
      ]
    },
    {
      "cell_type": "markdown",
      "metadata": {
        "id": "Lfj5xiAb7808"
      },
      "source": [
        "# merge: merged + reivew_merged"
      ]
    },
    {
      "cell_type": "code",
      "metadata": {
        "colab": {
          "base_uri": "https://localhost:8080/"
        },
        "id": "k7DDt3K06sEb",
        "outputId": "8be28558-940b-4615-ebb1-5545de1cae18"
      },
      "source": [
        "df_merged = pd.merge(df_merge, df_review_user, left_on='id', right_on='store')\n",
        "df_merged.shape"
      ],
      "execution_count": null,
      "outputs": [
        {
          "output_type": "execute_result",
          "data": {
            "text/plain": [
              "(113, 27)"
            ]
          },
          "metadata": {
            "tags": []
          },
          "execution_count": 50
        }
      ]
    },
    {
      "cell_type": "code",
      "metadata": {
        "colab": {
          "base_uri": "https://localhost:8080/"
        },
        "id": "WepMdB518g9x",
        "outputId": "122f7f52-be4b-4193-f07a-72b263fd7249"
      },
      "source": [
        "df_tel_merged = pd.merge(df_tel, df_review_user, left_on='id', right_on='store')\n",
        "df_tel_merged.shape"
      ],
      "execution_count": null,
      "outputs": [
        {
          "output_type": "execute_result",
          "data": {
            "text/plain": [
              "(179, 27)"
            ]
          },
          "metadata": {
            "tags": []
          },
          "execution_count": 78
        }
      ]
    },
    {
      "cell_type": "code",
      "metadata": {
        "id": "HCuQLXpNQsPn"
      },
      "source": [
        "df_tel_merged.head()"
      ],
      "execution_count": null,
      "outputs": []
    },
    {
      "cell_type": "markdown",
      "metadata": {
        "id": "gRZ9_iWfLPkf"
      },
      "source": [
        ""
      ]
    },
    {
      "cell_type": "markdown",
      "metadata": {
        "id": "bSX8jWmYLROB"
      },
      "source": [
        "# 이미지 크롤링"
      ]
    },
    {
      "cell_type": "code",
      "metadata": {
        "colab": {
          "base_uri": "https://localhost:8080/"
        },
        "id": "y6-3SsoFMutx",
        "outputId": "2a398640-36cb-4321-cfdd-e13de48d9a0e"
      },
      "source": [
        "!pip install icrawler"
      ],
      "execution_count": 81,
      "outputs": [
        {
          "output_type": "stream",
          "text": [
            "Collecting icrawler\n",
            "  Downloading https://files.pythonhosted.org/packages/b4/b2/c58ff189f662fb5807a921a590a55bad3ce29bd42252135916711ee00a59/icrawler-0.6.4.tar.gz\n",
            "Requirement already satisfied: beautifulsoup4>=4.4.1 in /usr/local/lib/python3.7/dist-packages (from icrawler) (4.6.3)\n",
            "Requirement already satisfied: lxml in /usr/local/lib/python3.7/dist-packages (from icrawler) (4.2.6)\n",
            "Requirement already satisfied: requests>=2.9.1 in /usr/local/lib/python3.7/dist-packages (from icrawler) (2.23.0)\n",
            "Requirement already satisfied: six>=1.10.0 in /usr/local/lib/python3.7/dist-packages (from icrawler) (1.15.0)\n",
            "Requirement already satisfied: Pillow in /usr/local/lib/python3.7/dist-packages (from icrawler) (7.0.0)\n",
            "Requirement already satisfied: idna<3,>=2.5 in /usr/local/lib/python3.7/dist-packages (from requests>=2.9.1->icrawler) (2.10)\n",
            "Requirement already satisfied: certifi>=2017.4.17 in /usr/local/lib/python3.7/dist-packages (from requests>=2.9.1->icrawler) (2020.12.5)\n",
            "Requirement already satisfied: urllib3!=1.25.0,!=1.25.1,<1.26,>=1.21.1 in /usr/local/lib/python3.7/dist-packages (from requests>=2.9.1->icrawler) (1.24.3)\n",
            "Requirement already satisfied: chardet<4,>=3.0.2 in /usr/local/lib/python3.7/dist-packages (from requests>=2.9.1->icrawler) (3.0.4)\n",
            "Building wheels for collected packages: icrawler\n",
            "  Building wheel for icrawler (setup.py) ... \u001b[?25l\u001b[?25hdone\n",
            "  Created wheel for icrawler: filename=icrawler-0.6.4-py2.py3-none-any.whl size=35063 sha256=9697284a534146731ee5d8b701576cba8aca48761f5709b5260f436b176e9fca\n",
            "  Stored in directory: /root/.cache/pip/wheels/57/f7/08/e89027083863374b83f7b3e3ce52a9afa1674424a379c7faf9\n",
            "Successfully built icrawler\n",
            "Installing collected packages: icrawler\n",
            "Successfully installed icrawler-0.6.4\n"
          ],
          "name": "stdout"
        }
      ]
    },
    {
      "cell_type": "code",
      "metadata": {
        "id": "byglbPgNLUYL"
      },
      "source": [
        "from icrawler.builtin import GoogleImageCrawler"
      ],
      "execution_count": 82,
      "outputs": []
    },
    {
      "cell_type": "code",
      "metadata": {
        "id": "yeLE0bSDNMhf"
      },
      "source": [
        "def load_img(word):\n",
        "    dir_name = '/gdrive/MyDrive/Colab Notebooks/ssafy/data/image'\n",
        "\n",
        "    google_crawler = GoogleImageCrawler(\n",
        "        feeder_threads=1,\n",
        "        parser_threads=1,\n",
        "        downloader_threads=4,\n",
        "        storage={'root_dir': dir_name})\n",
        "\n",
        "    google_crawler.crawl(keyword=word, offset=0, max_num=2, max_size=None, file_idx_offset=0)\n"
      ],
      "execution_count": 83,
      "outputs": []
    },
    {
      "cell_type": "code",
      "metadata": {
        "colab": {
          "base_uri": "https://localhost:8080/"
        },
        "id": "z1FAJbmmNrIm",
        "outputId": "35b5a350-865d-46e7-aa6d-095a52182d5c"
      },
      "source": [
        "load_img(\"우스마니아\")"
      ],
      "execution_count": 84,
      "outputs": [
        {
          "output_type": "stream",
          "text": [
            "2021-03-23 08:32:43,656 - INFO - icrawler.crawler - start crawling...\n",
            "2021-03-23 08:32:43,660 - INFO - icrawler.crawler - starting 1 feeder threads...\n",
            "2021-03-23 08:32:43,665 - INFO - feeder - thread feeder-001 exit\n",
            "2021-03-23 08:32:43,666 - INFO - icrawler.crawler - starting 1 parser threads...\n",
            "2021-03-23 08:32:43,672 - INFO - icrawler.crawler - starting 4 downloader threads...\n",
            "2021-03-23 08:32:44,433 - INFO - parser - parsing result page https://www.google.com/search?q=%EC%9A%B0%EC%8A%A4%EB%A7%88%EB%8B%88%EC%95%84&ijn=0&start=0&tbs=&tbm=isch\n",
            "2021-03-23 08:32:44,537 - ERROR - downloader - Exception caught when downloading file https://image.%EC%97%AC%EA%B8%B0%EC%9C%A0.com/content_place_info/2020021317331515815827950440.jpg, error: HTTPSConnectionPool(host='image.%ec%97%ac%ea%b8%b0%ec%9c%a0.com', port=443): Max retries exceeded with url: /content_place_info/2020021317331515815827950440.jpg (Caused by NewConnectionError('<urllib3.connection.VerifiedHTTPSConnection object at 0x7fd18ae6f890>: Failed to establish a new connection: [Errno -2] Name or service not known')), remaining retry times: 2\n",
            "2021-03-23 08:32:44,547 - ERROR - downloader - Exception caught when downloading file https://image.%EC%97%AC%EA%B8%B0%EC%9C%A0.com/content_place_info/2020021317331515815827950440.jpg, error: HTTPSConnectionPool(host='image.%ec%97%ac%ea%b8%b0%ec%9c%a0.com', port=443): Max retries exceeded with url: /content_place_info/2020021317331515815827950440.jpg (Caused by NewConnectionError('<urllib3.connection.VerifiedHTTPSConnection object at 0x7fd18ae6fc10>: Failed to establish a new connection: [Errno -2] Name or service not known')), remaining retry times: 1\n",
            "2021-03-23 08:32:44,562 - ERROR - downloader - Exception caught when downloading file https://image.%EC%97%AC%EA%B8%B0%EC%9C%A0.com/content_place_info/2020021317331515815827950440.jpg, error: HTTPSConnectionPool(host='image.%ec%97%ac%ea%b8%b0%ec%9c%a0.com', port=443): Max retries exceeded with url: /content_place_info/2020021317331515815827950440.jpg (Caused by NewConnectionError('<urllib3.connection.VerifiedHTTPSConnection object at 0x7fd18ae6f3d0>: Failed to establish a new connection: [Errno -2] Name or service not known')), remaining retry times: 0\n",
            "2021-03-23 08:32:44,608 - ERROR - downloader - Response status code 403, file https://scontent-yyz1-1.cdninstagram.com/v/t51.2885-15/sh0.08/e35/c135.0.810.810a/s640x640/72788581_2399568003630667_8427915776387088869_n.jpg\n",
            "2021-03-23 08:32:44,729 - INFO - downloader - image #1\thttps://media-cdn.tripadvisor.com/media/photo-s/02/1c/fa/14/view-1.jpg\n",
            "2021-03-23 08:32:44,775 - ERROR - downloader - Response status code 403, file https://scontent-yyz1-1.cdninstagram.com/v/t51.2885-15/sh0.08/e35/c135.0.810.810a/s640x640/61690717_141515416916906_7822252514720978367_n.jpg\n",
            "2021-03-23 08:32:45,333 - INFO - downloader - image #2\thttps://s3-ap-northeast-1.amazonaws.com/dcreviewsresized/300_300_20191208041936_menu3_48116a3bd063.jpg\n",
            "2021-03-23 08:32:45,421 - INFO - downloader - downloaded images reach max num, thread downloader-004 is ready to exit\n",
            "2021-03-23 08:32:45,423 - INFO - downloader - thread downloader-004 exit\n",
            "2021-03-23 08:32:45,765 - INFO - downloader - downloaded images reach max num, thread downloader-003 is ready to exit\n",
            "2021-03-23 08:32:45,766 - INFO - downloader - thread downloader-003 exit\n",
            "2021-03-23 08:32:46,439 - INFO - downloader - downloaded images reach max num, thread downloader-002 is ready to exit\n",
            "2021-03-23 08:32:46,441 - INFO - downloader - thread downloader-002 exit\n",
            "2021-03-23 08:32:46,527 - INFO - downloader - downloaded images reach max num, thread downloader-001 is ready to exit\n",
            "2021-03-23 08:32:46,528 - INFO - downloader - thread downloader-001 exit\n",
            "2021-03-23 08:32:46,686 - INFO - icrawler.crawler - Crawling task done!\n"
          ],
          "name": "stderr"
        }
      ]
    },
    {
      "cell_type": "code",
      "metadata": {
        "id": "_8RvoTDKNvZJ"
      },
      "source": [
        ""
      ],
      "execution_count": null,
      "outputs": []
    }
  ]
}