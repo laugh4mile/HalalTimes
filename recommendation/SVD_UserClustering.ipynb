{
  "nbformat": 4,
  "nbformat_minor": 0,
  "metadata": {
    "colab": {
      "name": "SVD.ipynb",
      "provenance": []
    },
    "kernelspec": {
      "name": "python3",
      "display_name": "Python 3"
    },
    "language_info": {
      "name": "python"
    }
  },
  "cells": [
    {
      "cell_type": "code",
      "metadata": {
        "colab": {
          "base_uri": "https://localhost:8080/"
        },
        "id": "NlWG4_mGvuOG",
        "outputId": "b8ab5079-e19f-4481-fad4-f5d5de72adcd"
      },
      "source": [
        "from google.colab import drive\n",
        "drive.mount('/gdrive')"
      ],
      "execution_count": 3,
      "outputs": [
        {
          "output_type": "stream",
          "text": [
            "Mounted at /gdrive\n"
          ],
          "name": "stdout"
        }
      ]
    },
    {
      "cell_type": "code",
      "metadata": {
        "id": "hGvNJbLzvyDk"
      },
      "source": [
        "import json\n",
        "import pandas as pd\n",
        "import numpy as np\n",
        "import os\n",
        "from matplotlib import pyplot as plt\n",
        "from sklearn.cluster import KMeans\n",
        "# import sklearn.cluster.hierarchical as hclust\n",
        "from sklearn import preprocessing\n",
        "import seaborn as sns"
      ],
      "execution_count": 39,
      "outputs": []
    },
    {
      "cell_type": "markdown",
      "metadata": {
        "id": "3YpuvOxswKTQ"
      },
      "source": [
        "# import data "
      ]
    },
    {
      "cell_type": "code",
      "metadata": {
        "colab": {
          "base_uri": "https://localhost:8080/"
        },
        "id": "nHCKI8Vyv49_",
        "outputId": "e29ace30-d2b4-4241-ee58-fbf535385a05"
      },
      "source": [
        "DATA_FILE = \"/gdrive/MyDrive/Colab Notebooks/ssafy/data/data.json\"\n",
        "DUMP_FILE = \"/gdrive/MyDrive/Colab Notebooks/ssafy/data/dump.pkl\"\n",
        "\n",
        "store_columns = (\n",
        "    \"id\",  # 음식점 고유번호\n",
        "    \"store_name\",  # 음식점 이름\n",
        "    \"branch\",  # 음식점 지점 여부\n",
        "    \"area\",  # 음식점 위치\n",
        "    \"tel\",  # 음식점 번호\n",
        "    \"address\",  # 음식점 주소\n",
        "    \"latitude\",  # 음식점 위도\n",
        "    \"longitude\",  # 음식점 경도\n",
        "    \"category\",  # 음식점 카테고리\n",
        ")\n",
        "\n",
        "review_columns = (\n",
        "    \"id\",  # 리뷰 고유번호\n",
        "    \"store\",  # 음식점 고유번호\n",
        "    \"user\",  # 유저 고유번호\n",
        "    \"score\",  # 평점\n",
        "    \"content\",  # 리뷰 내용\n",
        "    \"reg_time\",  # 리뷰 등록 시간\n",
        ")\n",
        "\n",
        "menu_columns = (\n",
        "    \"id\",\n",
        "    \"store\",\n",
        "    \"menu_name\",\n",
        "    \"price\",\n",
        ")\n",
        "\n",
        "user_columns = (\n",
        "    \"id\",\n",
        "    \"gender\",\n",
        "    \"age\",\n",
        ")\n",
        "\n",
        "\n",
        "def import_data(data_path=DATA_FILE):\n",
        "    try:\n",
        "        with open(data_path, encoding=\"utf-8\") as f:\n",
        "            data = json.loads(f.read())\n",
        "    except FileNotFoundError as e:\n",
        "        print(f\"`{data_path}` 가 존재하지 않습니다.\")\n",
        "        exit(1)\n",
        "\n",
        "    stores = []  # 음식점 테이블\n",
        "    reviews = []  # 리뷰 테이블\n",
        "    menus = [] # 메뉴 테이블\n",
        "    users = [] # 유저 테이블\n",
        "    menu_id = 0\n",
        "\n",
        "    for d in data:\n",
        "        categories = [c[\"category\"] for c in d[\"category_list\"]]\n",
        "        stores.append(\n",
        "            [\n",
        "                d[\"id\"],\n",
        "                d[\"name\"],\n",
        "                d[\"branch\"],\n",
        "                d[\"area\"],\n",
        "                d[\"tel\"],\n",
        "                d[\"address\"],\n",
        "                d[\"latitude\"],\n",
        "                d[\"longitude\"],\n",
        "                \"|\".join(categories),\n",
        "            ]\n",
        "        )\n",
        "\n",
        "        for review in d[\"review_list\"]:\n",
        "            r = review[\"review_info\"]\n",
        "            u = review[\"writer_info\"]\n",
        "            user_age = 2021 - int(u[\"born_year\"]) + 1\n",
        "\n",
        "            reviews.append(\n",
        "                [r[\"id\"], d[\"id\"], u[\"id\"], r[\"score\"], r[\"content\"], r[\"reg_time\"]]\n",
        "            )\n",
        "            users.append(\n",
        "                [u[\"id\"], u[\"gender\"], user_age]\n",
        "            )\n",
        "\n",
        "        for menu in d[\"menu_list\"]:\n",
        "            menus.append(\n",
        "                [menu_id, d[\"id\"], menu[\"menu\"], menu[\"price\"]]\n",
        "            )\n",
        "            menu_id +=1\n",
        "\n",
        "    store_frame = pd.DataFrame(data=stores, columns=store_columns)\n",
        "    review_frame = pd.DataFrame(data=reviews, columns=review_columns)\n",
        "    memu_frame = pd.DataFrame(data=menus, columns=menu_columns)\n",
        "    user_frame = pd.DataFrame(data=users, columns=user_columns)\n",
        "\n",
        "    return {\"stores\": store_frame, \"reviews\": review_frame, \"menus\": memu_frame, \"users\":user_frame}\n",
        "\n",
        "\n",
        "def dump_dataframes(dataframes):\n",
        "    pd.to_pickle(dataframes, DUMP_FILE)\n",
        "\n",
        "\n",
        "def load_dataframes():\n",
        "    return pd.read_pickle(DUMP_FILE)\n",
        "\n",
        "\n",
        "print(\"[*] Parsing data...\")\n",
        "raw_data = import_data()\n",
        "print(\"[+] Done\")\n",
        "\n",
        "print(\"[*] Dumping data...\")\n",
        "dump_dataframes(raw_data)\n",
        "print(\"[+] Done\\n\")\n",
        "\n",
        "raw_data = load_dataframes()"
      ],
      "execution_count": 5,
      "outputs": [
        {
          "output_type": "stream",
          "text": [
            "[*] Parsing data...\n",
            "[+] Done\n",
            "[*] Dumping data...\n",
            "[+] Done\n",
            "\n"
          ],
          "name": "stdout"
        }
      ]
    },
    {
      "cell_type": "code",
      "metadata": {
        "id": "i0mnkVoEv9QU",
        "colab": {
          "base_uri": "https://localhost:8080/"
        },
        "outputId": "b0f311e4-1686-4415-a067-4387fcb5d529"
      },
      "source": [
        "MUSLIM_PATH = '/gdrive/MyDrive/Colab Notebooks/ssafy/data/무슬림친화레스토랑.csv'\n",
        "CSV_MUSLIM_PATH = pd.read_csv(MUSLIM_PATH, engine='python', encoding='cp949')\n",
        "print(CSV_MUSLIM_PATH[\"주소\"].head())"
      ],
      "execution_count": 6,
      "outputs": [
        {
          "output_type": "stream",
          "text": [
            "0       서울 용산구 우사단로 34 \n",
            "1       서울 용산구 우사단로 42 \n",
            "2     부산 금정구 금단로 123-9 \n",
            "3        인천 연수구 옥련로 31 \n",
            "4    경남 창원시 성산구 용지로 74 \n",
            "Name: 주소, dtype: object\n"
          ],
          "name": "stdout"
        }
      ]
    },
    {
      "cell_type": "code",
      "metadata": {
        "id": "uDpWhbUZwH1L",
        "colab": {
          "base_uri": "https://localhost:8080/"
        },
        "outputId": "cdf9cdcf-0ae7-4e3d-a747-e384838d09f0"
      },
      "source": [
        "MUSLIM_SEOUL_PATH = '/gdrive/MyDrive/Colab Notebooks/ssafy/data/무슬림서울만.csv'\n",
        "CSV_MUSLIM_SEOUL = pd.read_csv(MUSLIM_SEOUL_PATH, engine='python', encoding='cp949')\n",
        "print(CSV_MUSLIM_SEOUL.head())"
      ],
      "execution_count": 7,
      "outputs": [
        {
          "output_type": "stream",
          "text": [
            "   idx store_name                            address category\n",
            "0    0      우스마니아              서울특별시 용산구 이태원동 137-56   파키스탄음식\n",
            "1    1  미스터케밥 2호점              서울특별시 용산구 이태원동 136-45     터키음식\n",
            "2    7        미가미     서울특별시 서초구 서초동 1337-32 서초동 광일빌딩       일식\n",
            "3    8       패밀리아  서울특별시 강남구 논현동 248-7 임피리얼 팰리스호텔 1층      뷔페식\n",
            "4    9         깔리                 서울특별시 종로구 명륜4가 171     인도음식\n"
          ],
          "name": "stdout"
        }
      ]
    },
    {
      "cell_type": "code",
      "metadata": {
        "colab": {
          "base_uri": "https://localhost:8080/"
        },
        "id": "6J-USovRzmZ5",
        "outputId": "c8091492-0251-4f09-82c2-ec2fc9558b4c"
      },
      "source": [
        "MUSLIM_REVIEW_PATH = '/gdrive/MyDrive/Colab Notebooks/ssafy/data/무슬림리뷰만.csv'\n",
        "CSV_MUSLIM_REVIEW = pd.read_csv(MUSLIM_REVIEW_PATH, engine='python', encoding='cp949')\n",
        "print(CSV_MUSLIM_REVIEW.head())"
      ],
      "execution_count": 8,
      "outputs": [
        {
          "output_type": "stream",
          "text": [
            "  store_name   store\n",
            "0      우스마니아  308561\n",
            "1        미가미  155677\n",
            "2       패밀리아  430186\n",
            "3         깔리   55195\n",
            "4      세븐스퀘어  224459\n"
          ],
          "name": "stdout"
        }
      ]
    },
    {
      "cell_type": "markdown",
      "metadata": {
        "id": "V0W7T_70Cff4"
      },
      "source": [
        "# 전처리"
      ]
    },
    {
      "cell_type": "markdown",
      "metadata": {
        "id": "LaXmNp8xEgqn"
      },
      "source": [
        " userID, storeID, rating, title 로 만들기"
      ]
    },
    {
      "cell_type": "code",
      "metadata": {
        "id": "7cSzCPL1CfPy"
      },
      "source": [
        "#skD\n",
        "raw_store_table = raw_data[\"stores\"].copy()\n",
        "store_table = raw_store_table[['id', 'store_name','address']]\n",
        "\n",
        "raw_review_table = raw_data[\"reviews\"].copy()\n",
        "review_table = raw_review_table[['store','user','score']]\n",
        "\n",
        "raw_user_table = raw_data[\"users\"].copy()\n",
        "user_table = raw_user_table[['id','gender','age']]\n",
        "\n",
        "#muD\n",
        "raw_muslim_table = CSV_MUSLIM_SEOUL.copy()\n",
        "muslim_table = raw_muslim_table[[\"store_name\",'address']]\n",
        "# muslim_table.columns = ['store_name','M_address']\n",
        "raw_muslim_review = CSV_MUSLIM_REVIEW.copy()"
      ],
      "execution_count": 15,
      "outputs": []
    },
    {
      "cell_type": "code",
      "metadata": {
        "colab": {
          "base_uri": "https://localhost:8080/"
        },
        "id": "iNw8NmE_6G-W",
        "outputId": "3a6d2068-b43f-4371-a1d8-c116456468a8"
      },
      "source": [
        "review_table[\"store\"].replace(159620, 159619)\n",
        "review_table[\"store\"].replace(159622, 159619)"
      ],
      "execution_count": 17,
      "outputs": [
        {
          "output_type": "execute_result",
          "data": {
            "text/plain": [
              "0            15\n",
              "1            18\n",
              "2            19\n",
              "3            37\n",
              "4            38\n",
              "          ...  \n",
              "91393    360499\n",
              "91394    360505\n",
              "91395    360514\n",
              "91396    360514\n",
              "91397    360515\n",
              "Name: store, Length: 91398, dtype: int64"
            ]
          },
          "metadata": {
            "tags": []
          },
          "execution_count": 17
        }
      ]
    },
    {
      "cell_type": "code",
      "metadata": {
        "colab": {
          "base_uri": "https://localhost:8080/",
          "height": 666
        },
        "id": "DjWbHRjtCl9n",
        "outputId": "0665dcd1-dbf7-4b5a-d183-8240fdaf0afe"
      },
      "source": [
        "musilm_review_table = pd.merge(raw_muslim_review, review_table, on='store', how='left')\n",
        "print(musilm_review_table.shape)\n",
        "musilm_review_table.head(20)"
      ],
      "execution_count": 18,
      "outputs": [
        {
          "output_type": "stream",
          "text": [
            "(128, 4)\n"
          ],
          "name": "stdout"
        },
        {
          "output_type": "execute_result",
          "data": {
            "text/html": [
              "<div>\n",
              "<style scoped>\n",
              "    .dataframe tbody tr th:only-of-type {\n",
              "        vertical-align: middle;\n",
              "    }\n",
              "\n",
              "    .dataframe tbody tr th {\n",
              "        vertical-align: top;\n",
              "    }\n",
              "\n",
              "    .dataframe thead th {\n",
              "        text-align: right;\n",
              "    }\n",
              "</style>\n",
              "<table border=\"1\" class=\"dataframe\">\n",
              "  <thead>\n",
              "    <tr style=\"text-align: right;\">\n",
              "      <th></th>\n",
              "      <th>store_name</th>\n",
              "      <th>store</th>\n",
              "      <th>user</th>\n",
              "      <th>score</th>\n",
              "    </tr>\n",
              "  </thead>\n",
              "  <tbody>\n",
              "    <tr>\n",
              "      <th>0</th>\n",
              "      <td>우스마니아</td>\n",
              "      <td>308561</td>\n",
              "      <td>225842.0</td>\n",
              "      <td>4.0</td>\n",
              "    </tr>\n",
              "    <tr>\n",
              "      <th>1</th>\n",
              "      <td>우스마니아</td>\n",
              "      <td>308561</td>\n",
              "      <td>90292.0</td>\n",
              "      <td>4.0</td>\n",
              "    </tr>\n",
              "    <tr>\n",
              "      <th>2</th>\n",
              "      <td>미가미</td>\n",
              "      <td>155677</td>\n",
              "      <td>52663.0</td>\n",
              "      <td>5.0</td>\n",
              "    </tr>\n",
              "    <tr>\n",
              "      <th>3</th>\n",
              "      <td>패밀리아</td>\n",
              "      <td>430186</td>\n",
              "      <td>NaN</td>\n",
              "      <td>NaN</td>\n",
              "    </tr>\n",
              "    <tr>\n",
              "      <th>4</th>\n",
              "      <td>깔리</td>\n",
              "      <td>55195</td>\n",
              "      <td>442382.0</td>\n",
              "      <td>5.0</td>\n",
              "    </tr>\n",
              "    <tr>\n",
              "      <th>5</th>\n",
              "      <td>깔리</td>\n",
              "      <td>55195</td>\n",
              "      <td>688218.0</td>\n",
              "      <td>4.0</td>\n",
              "    </tr>\n",
              "    <tr>\n",
              "      <th>6</th>\n",
              "      <td>깔리</td>\n",
              "      <td>55195</td>\n",
              "      <td>816257.0</td>\n",
              "      <td>5.0</td>\n",
              "    </tr>\n",
              "    <tr>\n",
              "      <th>7</th>\n",
              "      <td>깔리</td>\n",
              "      <td>55195</td>\n",
              "      <td>510431.0</td>\n",
              "      <td>3.0</td>\n",
              "    </tr>\n",
              "    <tr>\n",
              "      <th>8</th>\n",
              "      <td>깔리</td>\n",
              "      <td>55195</td>\n",
              "      <td>362703.0</td>\n",
              "      <td>5.0</td>\n",
              "    </tr>\n",
              "    <tr>\n",
              "      <th>9</th>\n",
              "      <td>깔리</td>\n",
              "      <td>55195</td>\n",
              "      <td>213564.0</td>\n",
              "      <td>4.0</td>\n",
              "    </tr>\n",
              "    <tr>\n",
              "      <th>10</th>\n",
              "      <td>깔리</td>\n",
              "      <td>55195</td>\n",
              "      <td>856000.0</td>\n",
              "      <td>4.0</td>\n",
              "    </tr>\n",
              "    <tr>\n",
              "      <th>11</th>\n",
              "      <td>깔리</td>\n",
              "      <td>55195</td>\n",
              "      <td>151032.0</td>\n",
              "      <td>5.0</td>\n",
              "    </tr>\n",
              "    <tr>\n",
              "      <th>12</th>\n",
              "      <td>깔리</td>\n",
              "      <td>55195</td>\n",
              "      <td>148144.0</td>\n",
              "      <td>3.0</td>\n",
              "    </tr>\n",
              "    <tr>\n",
              "      <th>13</th>\n",
              "      <td>깔리</td>\n",
              "      <td>55195</td>\n",
              "      <td>157653.0</td>\n",
              "      <td>5.0</td>\n",
              "    </tr>\n",
              "    <tr>\n",
              "      <th>14</th>\n",
              "      <td>깔리</td>\n",
              "      <td>55195</td>\n",
              "      <td>110279.0</td>\n",
              "      <td>4.0</td>\n",
              "    </tr>\n",
              "    <tr>\n",
              "      <th>15</th>\n",
              "      <td>깔리</td>\n",
              "      <td>55195</td>\n",
              "      <td>276312.0</td>\n",
              "      <td>4.0</td>\n",
              "    </tr>\n",
              "    <tr>\n",
              "      <th>16</th>\n",
              "      <td>깔리</td>\n",
              "      <td>55195</td>\n",
              "      <td>51405.0</td>\n",
              "      <td>5.0</td>\n",
              "    </tr>\n",
              "    <tr>\n",
              "      <th>17</th>\n",
              "      <td>깔리</td>\n",
              "      <td>55195</td>\n",
              "      <td>782157.0</td>\n",
              "      <td>4.0</td>\n",
              "    </tr>\n",
              "    <tr>\n",
              "      <th>18</th>\n",
              "      <td>깔리</td>\n",
              "      <td>55195</td>\n",
              "      <td>132504.0</td>\n",
              "      <td>4.0</td>\n",
              "    </tr>\n",
              "    <tr>\n",
              "      <th>19</th>\n",
              "      <td>깔리</td>\n",
              "      <td>55195</td>\n",
              "      <td>664880.0</td>\n",
              "      <td>3.0</td>\n",
              "    </tr>\n",
              "  </tbody>\n",
              "</table>\n",
              "</div>"
            ],
            "text/plain": [
              "   store_name   store      user  score\n",
              "0       우스마니아  308561  225842.0    4.0\n",
              "1       우스마니아  308561   90292.0    4.0\n",
              "2         미가미  155677   52663.0    5.0\n",
              "3        패밀리아  430186       NaN    NaN\n",
              "4          깔리   55195  442382.0    5.0\n",
              "5          깔리   55195  688218.0    4.0\n",
              "6          깔리   55195  816257.0    5.0\n",
              "7          깔리   55195  510431.0    3.0\n",
              "8          깔리   55195  362703.0    5.0\n",
              "9          깔리   55195  213564.0    4.0\n",
              "10         깔리   55195  856000.0    4.0\n",
              "11         깔리   55195  151032.0    5.0\n",
              "12         깔리   55195  148144.0    3.0\n",
              "13         깔리   55195  157653.0    5.0\n",
              "14         깔리   55195  110279.0    4.0\n",
              "15         깔리   55195  276312.0    4.0\n",
              "16         깔리   55195   51405.0    5.0\n",
              "17         깔리   55195  782157.0    4.0\n",
              "18         깔리   55195  132504.0    4.0\n",
              "19         깔리   55195  664880.0    3.0"
            ]
          },
          "metadata": {
            "tags": []
          },
          "execution_count": 18
        }
      ]
    },
    {
      "cell_type": "code",
      "metadata": {
        "id": "Z0GSuJp8piKB"
      },
      "source": [
        "musilm_store_table.to_csv('/gdrive/MyDrive/Colab Notebooks/ssafy/MyDF2.csv',encoding=\"utf-8-sig\")"
      ],
      "execution_count": 40,
      "outputs": []
    },
    {
      "cell_type": "code",
      "metadata": {
        "colab": {
          "base_uri": "https://localhost:8080/",
          "height": 198
        },
        "id": "dDxs9wBICl64",
        "outputId": "1710854c-9b3b-4562-932d-2c27ca79a38d"
      },
      "source": [
        "store_table.head"
      ],
      "execution_count": 13,
      "outputs": [
        {
          "output_type": "execute_result",
          "data": {
            "text/html": [
              "<div>\n",
              "<style scoped>\n",
              "    .dataframe tbody tr th:only-of-type {\n",
              "        vertical-align: middle;\n",
              "    }\n",
              "\n",
              "    .dataframe tbody tr th {\n",
              "        vertical-align: top;\n",
              "    }\n",
              "\n",
              "    .dataframe thead th {\n",
              "        text-align: right;\n",
              "    }\n",
              "</style>\n",
              "<table border=\"1\" class=\"dataframe\">\n",
              "  <thead>\n",
              "    <tr style=\"text-align: right;\">\n",
              "      <th></th>\n",
              "      <th>id</th>\n",
              "      <th>store_name</th>\n",
              "    </tr>\n",
              "  </thead>\n",
              "  <tbody>\n",
              "    <tr>\n",
              "      <th>0</th>\n",
              "      <td>1</td>\n",
              "      <td>Agal</td>\n",
              "    </tr>\n",
              "    <tr>\n",
              "      <th>1</th>\n",
              "      <td>2</td>\n",
              "      <td>Assisy</td>\n",
              "    </tr>\n",
              "    <tr>\n",
              "      <th>2</th>\n",
              "      <td>3</td>\n",
              "      <td>Battered Sole</td>\n",
              "    </tr>\n",
              "    <tr>\n",
              "      <th>3</th>\n",
              "      <td>4</td>\n",
              "      <td>Chakyoung</td>\n",
              "    </tr>\n",
              "    <tr>\n",
              "      <th>4</th>\n",
              "      <td>5</td>\n",
              "      <td>Delabobo</td>\n",
              "    </tr>\n",
              "  </tbody>\n",
              "</table>\n",
              "</div>"
            ],
            "text/plain": [
              "   id     store_name\n",
              "0   1           Agal\n",
              "1   2         Assisy\n",
              "2   3  Battered Sole\n",
              "3   4      Chakyoung\n",
              "4   5       Delabobo"
            ]
          },
          "metadata": {
            "tags": []
          },
          "execution_count": 13
        }
      ]
    },
    {
      "cell_type": "code",
      "metadata": {
        "id": "TQoI-sLMEZ9B"
      },
      "source": [
        ""
      ],
      "execution_count": null,
      "outputs": []
    },
    {
      "cell_type": "markdown",
      "metadata": {
        "id": "kWMZea8dwOyw"
      },
      "source": [
        "# 분석"
      ]
    },
    {
      "cell_type": "code",
      "metadata": {
        "id": "ZCVRsT-pxLp8"
      },
      "source": [
        "from sklearn.decomposition import TruncatedSVD"
      ],
      "execution_count": 83,
      "outputs": []
    },
    {
      "cell_type": "markdown",
      "metadata": {
        "id": "GZXkDebkwVG-"
      },
      "source": [
        "user_review_data = userID, storeID, rating, title"
      ]
    },
    {
      "cell_type": "code",
      "metadata": {
        "id": "6glZ63v-09mY"
      },
      "source": [
        "user_store_data = musilm_review_table.copy()"
      ],
      "execution_count": 107,
      "outputs": []
    },
    {
      "cell_type": "code",
      "metadata": {
        "colab": {
          "base_uri": "https://localhost:8080/"
        },
        "id": "dS3hV_1y79um",
        "outputId": "15607ddf-0c9b-49a6-d408-bdbf3fb08007"
      },
      "source": [
        "min(user_store_data[\"score\"])"
      ],
      "execution_count": 108,
      "outputs": [
        {
          "output_type": "execute_result",
          "data": {
            "text/plain": [
              "1.0"
            ]
          },
          "metadata": {
            "tags": []
          },
          "execution_count": 108
        }
      ]
    },
    {
      "cell_type": "code",
      "metadata": {
        "id": "2ZuFqGuMwHyR",
        "colab": {
          "base_uri": "https://localhost:8080/"
        },
        "outputId": "7a0c9b12-c7e5-4388-c240-8600eb9f9c73"
      },
      "source": [
        "user_store_rating = user_store_data.pivot_table('score',index='user', columns='store_name').fillna(min(user_store_data[\"score\"]))\n",
        "store_user_rating = user_store_rating.values.T\n",
        "store_user_rating.shape"
      ],
      "execution_count": 113,
      "outputs": [
        {
          "output_type": "execute_result",
          "data": {
            "text/plain": [
              "(25, 89)"
            ]
          },
          "metadata": {
            "tags": []
          },
          "execution_count": 113
        }
      ]
    },
    {
      "cell_type": "code",
      "metadata": {
        "id": "K8PzTzrhwHv6"
      },
      "source": [
        "SVD = TruncatedSVD(n_components=3)"
      ],
      "execution_count": 138,
      "outputs": []
    },
    {
      "cell_type": "code",
      "metadata": {
        "id": "tYtugIbwwHm2",
        "colab": {
          "base_uri": "https://localhost:8080/"
        },
        "outputId": "b401563e-71a8-4a75-93d9-c83e746b70fe"
      },
      "source": [
        "matrix = SVD.fit_transform(store_user_rating)\n",
        "matrix.shape"
      ],
      "execution_count": 139,
      "outputs": [
        {
          "output_type": "execute_result",
          "data": {
            "text/plain": [
              "(25, 3)"
            ]
          },
          "metadata": {
            "tags": []
          },
          "execution_count": 139
        }
      ]
    },
    {
      "cell_type": "code",
      "metadata": {
        "id": "hGbxA5mzxuAV",
        "colab": {
          "base_uri": "https://localhost:8080/"
        },
        "outputId": "ba62901e-b80c-4b45-a414-64040747377f"
      },
      "source": [
        "corr = np.corrcoef(matrix)\n",
        "corr.shape"
      ],
      "execution_count": 140,
      "outputs": [
        {
          "output_type": "execute_result",
          "data": {
            "text/plain": [
              "(25, 25)"
            ]
          },
          "metadata": {
            "tags": []
          },
          "execution_count": 140
        }
      ]
    },
    {
      "cell_type": "code",
      "metadata": {
        "colab": {
          "base_uri": "https://localhost:8080/"
        },
        "id": "OhOg3WQI8UEV",
        "outputId": "08845407-7ca8-429e-d8c9-a3ed9168148b"
      },
      "source": [
        "store_title = user_store_rating.columns\n",
        "store_title_list = list(store_title)\n",
        "store_title_list"
      ],
      "execution_count": 141,
      "outputs": [
        {
          "output_type": "execute_result",
          "data": {
            "text/plain": [
              "['그랜드 키친',\n",
              " '깔리',\n",
              " '델리인디아',\n",
              " '델리팰리스',\n",
              " '루나아시아',\n",
              " '리틀인디아',\n",
              " '명동정',\n",
              " '모로코코 카페',\n",
              " '미가미',\n",
              " '미스터케밥',\n",
              " '바바인디아',\n",
              " '발우공양',\n",
              " '사마르칸트',\n",
              " '세븐스퀘어',\n",
              " '아건 레스토랑',\n",
              " '여우골초밥',\n",
              " '예티',\n",
              " '오샬',\n",
              " '오세계향',\n",
              " '옷살',\n",
              " '우스마니아',\n",
              " '이지인디아',\n",
              " '전주식당',\n",
              " '종로설렁탕',\n",
              " '카페 우즈베키스탄']"
            ]
          },
          "metadata": {
            "tags": []
          },
          "execution_count": 141
        }
      ]
    },
    {
      "cell_type": "code",
      "metadata": {
        "id": "EBV2La1cx32_",
        "colab": {
          "base_uri": "https://localhost:8080/"
        },
        "outputId": "0463c945-f85c-414b-8736-04a676bb201e"
      },
      "source": [
        "store_title = user_store_rating.columns\n",
        "store_title_list = list(store_title)\n",
        "coffey_hands = store_title_list.index(\"예티\")\n",
        "print(coffey_hands) #인덱스 값 찾기"
      ],
      "execution_count": 154,
      "outputs": [
        {
          "output_type": "stream",
          "text": [
            "16\n"
          ],
          "name": "stdout"
        }
      ]
    },
    {
      "cell_type": "code",
      "metadata": {
        "id": "i4eyWnKgx30W",
        "colab": {
          "base_uri": "https://localhost:8080/"
        },
        "outputId": "7a714087-a504-4f95-b5e9-c47dc26ad0d6"
      },
      "source": [
        "corr_coffey_hands = corr[coffey_hands]\n",
        "list(store_title[(corr_coffey_hands >= 0.9)])[:6] # 유사한 식당 10개"
      ],
      "execution_count": 155,
      "outputs": [
        {
          "output_type": "execute_result",
          "data": {
            "text/plain": [
              "['그랜드 키친', '델리인디아', '델리팰리스', '루나아시아', '리틀인디아', '명동정']"
            ]
          },
          "metadata": {
            "tags": []
          },
          "execution_count": 155
        }
      ]
    },
    {
      "cell_type": "code",
      "metadata": {
        "id": "91gDEiY3x3xl"
      },
      "source": [
        ""
      ],
      "execution_count": null,
      "outputs": []
    },
    {
      "cell_type": "code",
      "metadata": {
        "id": "eygWyM3zx3iG"
      },
      "source": [
        ""
      ],
      "execution_count": null,
      "outputs": []
    },
    {
      "cell_type": "code",
      "metadata": {
        "id": "yonFMiuxza3y"
      },
      "source": [
        ""
      ],
      "execution_count": null,
      "outputs": []
    },
    {
      "cell_type": "markdown",
      "metadata": {
        "id": "XiaF3PovzcD7"
      },
      "source": [
        "Matrix Factorization\n",
        "\n",
        "\n",
        "https://yamalab.tistory.com/92?category=747907\n",
        "\n"
      ]
    },
    {
      "cell_type": "code",
      "metadata": {
        "colab": {
          "base_uri": "https://localhost:8080/"
        },
        "id": "bRu7R39ezfln",
        "outputId": "3e0d0095-5057-4fbd-b2a2-fd5d5bba9737"
      },
      "source": [
        "import numpy as np\n",
        "\n",
        "\n",
        "class MatrixFactorization():\n",
        "    def __init__(self, R, k, learning_rate, reg_param, epochs, verbose=False):\n",
        "        \"\"\"\n",
        "        :param R: rating matrix\n",
        "        :param k: latent parameter\n",
        "        :param learning_rate: alpha on weight update\n",
        "        :param reg_param: beta on weight update\n",
        "        :param epochs: training epochs\n",
        "        :param verbose: print status\n",
        "        \"\"\"\n",
        "\n",
        "        self._R = R\n",
        "        self._num_users, self._num_items = R.shape\n",
        "        self._k = k\n",
        "        self._learning_rate = learning_rate\n",
        "        self._reg_param = reg_param\n",
        "        self._epochs = epochs\n",
        "        self._verbose = verbose\n",
        "\n",
        "\n",
        "    def fit(self):\n",
        "        \"\"\"\n",
        "        training Matrix Factorization : Update matrix latent weight and bias\n",
        "\n",
        "        참고: self._b에 대한 설명\n",
        "        - global bias: input R에서 평가가 매겨진 rating의 평균값을 global bias로 사용\n",
        "        - 정규화 기능. 최종 rating에 음수가 들어가는 것 대신 latent feature에 음수가 포함되도록 해줌.\n",
        "\n",
        "        :return: training_process\n",
        "        \"\"\"\n",
        "\n",
        "        # init latent features\n",
        "        self._P = np.random.normal(size=(self._num_users, self._k))\n",
        "        self._Q = np.random.normal(size=(self._num_items, self._k))\n",
        "\n",
        "        # init biases\n",
        "        self._b_P = np.zeros(self._num_users)\n",
        "        self._b_Q = np.zeros(self._num_items)\n",
        "        self._b = np.mean(self._R[np.where(self._R != 0)])\n",
        "\n",
        "        # train while epochs\n",
        "        self._training_process = []\n",
        "        for epoch in range(self._epochs):\n",
        "\n",
        "            # rating이 존재하는 index를 기준으로 training\n",
        "            for i in range(self._num_users):\n",
        "                for j in range(self._num_items):\n",
        "                    if self._R[i, j] > 0:\n",
        "                        self.gradient_descent(i, j, self._R[i, j])\n",
        "            cost = self.cost()\n",
        "            self._training_process.append((epoch, cost))\n",
        "\n",
        "            # print status\n",
        "            if self._verbose == True and ((epoch + 1) % 10 == 0):\n",
        "                print(\"Iteration: %d ; cost = %.4f\" % (epoch + 1, cost))\n",
        "\n",
        "\n",
        "    def cost(self):\n",
        "        \"\"\"\n",
        "        compute root mean square error\n",
        "        :return: rmse cost\n",
        "        \"\"\"\n",
        "\n",
        "        # xi, yi: R[xi, yi]는 nonzero인 value를 의미한다.\n",
        "        # 참고: http://codepractice.tistory.com/90\n",
        "        xi, yi = self._R.nonzero()\n",
        "        predicted = self.get_complete_matrix()\n",
        "        cost = 0\n",
        "        for x, y in zip(xi, yi):\n",
        "            cost += pow(self._R[x, y] - predicted[x, y], 2)\n",
        "        return np.sqrt(cost) / len(xi)\n",
        "\n",
        "\n",
        "    def gradient(self, error, i, j):\n",
        "        \"\"\"\n",
        "        gradient of latent feature for GD\n",
        "\n",
        "        :param error: rating - prediction error\n",
        "        :param i: user index\n",
        "        :param j: item index\n",
        "        :return: gradient of latent feature tuple\n",
        "        \"\"\"\n",
        "\n",
        "        dp = (error * self._Q[j, :]) - (self._reg_param * self._P[i, :])\n",
        "        dq = (error * self._P[i, :]) - (self._reg_param * self._Q[j, :])\n",
        "        return dp, dq\n",
        "\n",
        "\n",
        "    def gradient_descent(self, i, j, rating):\n",
        "        \"\"\"\n",
        "        graident descent function\n",
        "\n",
        "        :param i: user index of matrix\n",
        "        :param j: item index of matrix\n",
        "        :param rating: rating of (i,j)\n",
        "        \"\"\"\n",
        "\n",
        "        # get error\n",
        "        prediction = self.get_prediction(i, j)\n",
        "        error = rating - prediction\n",
        "\n",
        "        # update biases\n",
        "        self._b_P[i] += self._learning_rate * (error - self._reg_param * self._b_P[i])\n",
        "        self._b_Q[j] += self._learning_rate * (error - self._reg_param * self._b_Q[j])\n",
        "\n",
        "        # update latent feature\n",
        "        dp, dq = self.gradient(error, i, j)\n",
        "        self._P[i, :] += self._learning_rate * dp\n",
        "        self._Q[j, :] += self._learning_rate * dq\n",
        "\n",
        "\n",
        "    def get_prediction(self, i, j):\n",
        "        \"\"\"\n",
        "        get predicted rating: user_i, item_j\n",
        "        :return: prediction of r_ij\n",
        "        \"\"\"\n",
        "        return self._b + self._b_P[i] + self._b_Q[j] + self._P[i, :].dot(self._Q[j, :].T)\n",
        "\n",
        "\n",
        "    def get_complete_matrix(self):\n",
        "        \"\"\"\n",
        "        computer complete matrix PXQ + P.bias + Q.bias + global bias\n",
        "\n",
        "        - PXQ 행렬에 b_P[:, np.newaxis]를 더하는 것은 각 열마다 bias를 더해주는 것\n",
        "        - b_Q[np.newaxis:, ]를 더하는 것은 각 행마다 bias를 더해주는 것\n",
        "        - b를 더하는 것은 각 element마다 bias를 더해주는 것\n",
        "\n",
        "        - newaxis: 차원을 추가해줌. 1차원인 Latent들로 2차원의 R에 행/열 단위 연산을 해주기위해 차원을 추가하는 것.\n",
        "\n",
        "        :return: complete matrix R^\n",
        "        \"\"\"\n",
        "        return self._b + self._b_P[:, np.newaxis] + self._b_Q[np.newaxis:, ] + self._P.dot(self._Q.T)\n",
        "\n",
        "\n",
        "    def print_results(self):\n",
        "        \"\"\"\n",
        "        print fit results\n",
        "        \"\"\"\n",
        "\n",
        "        print(\"User Latent P:\")\n",
        "        print(self._P)\n",
        "        print(\"Item Latent Q:\")\n",
        "        print(self._Q.T)\n",
        "        print(\"P x Q:\")\n",
        "        print(self._P.dot(self._Q.T))\n",
        "        print(\"bias:\")\n",
        "        print(self._b)\n",
        "        print(\"User Latent bias:\")\n",
        "        print(self._b_P)\n",
        "        print(\"Item Latent bias:\")\n",
        "        print(self._b_Q)\n",
        "        print(\"Final R matrix:\")\n",
        "        print(self.get_complete_matrix())\n",
        "        print(\"Final RMSE:\")\n",
        "        print(self._training_process[self._epochs-1][1])\n",
        "\n",
        "\n",
        "# run example\n",
        "if __name__ == \"__main__\":\n",
        "    # rating matrix - User X Item : (7 X 5)\n",
        "    R = np.array([\n",
        "        [1, 0, 0, 1, 3],\n",
        "        [2, 0, 3, 1, 1],\n",
        "        [1, 2, 0, 5, 0],\n",
        "        [1, 0, 0, 4, 4],\n",
        "        [2, 1, 5, 4, 0],\n",
        "        [5, 1, 5, 4, 0],\n",
        "        [0, 0, 0, 1, 0],\n",
        "    ])\n",
        "\n",
        "    # P, Q is (7 X k), (k X 5) matrix\n",
        "    factorizer = MatrixFactorization(R, k=3, learning_rate=0.01, reg_param=0.01, epochs=300, verbose=True)\n",
        "    factorizer.fit()\n",
        "    factorizer.print_results()"
      ],
      "execution_count": null,
      "outputs": [
        {
          "output_type": "stream",
          "text": [
            "Iteration: 10 ; cost = 0.2490\n",
            "Iteration: 20 ; cost = 0.1810\n",
            "Iteration: 30 ; cost = 0.1478\n",
            "Iteration: 40 ; cost = 0.1245\n",
            "Iteration: 50 ; cost = 0.1040\n",
            "Iteration: 60 ; cost = 0.0850\n",
            "Iteration: 70 ; cost = 0.0685\n",
            "Iteration: 80 ; cost = 0.0552\n",
            "Iteration: 90 ; cost = 0.0452\n",
            "Iteration: 100 ; cost = 0.0378\n",
            "Iteration: 110 ; cost = 0.0324\n",
            "Iteration: 120 ; cost = 0.0282\n",
            "Iteration: 130 ; cost = 0.0249\n",
            "Iteration: 140 ; cost = 0.0222\n",
            "Iteration: 150 ; cost = 0.0200\n",
            "Iteration: 160 ; cost = 0.0180\n",
            "Iteration: 170 ; cost = 0.0164\n",
            "Iteration: 180 ; cost = 0.0149\n",
            "Iteration: 190 ; cost = 0.0136\n",
            "Iteration: 200 ; cost = 0.0125\n",
            "Iteration: 210 ; cost = 0.0115\n",
            "Iteration: 220 ; cost = 0.0106\n",
            "Iteration: 230 ; cost = 0.0098\n",
            "Iteration: 240 ; cost = 0.0091\n",
            "Iteration: 250 ; cost = 0.0085\n",
            "Iteration: 260 ; cost = 0.0080\n",
            "Iteration: 270 ; cost = 0.0075\n",
            "Iteration: 280 ; cost = 0.0070\n",
            "Iteration: 290 ; cost = 0.0066\n",
            "Iteration: 300 ; cost = 0.0063\n",
            "User Latent P:\n",
            "[[ 0.5618006   0.57537486  0.63126051]\n",
            " [-0.91539844 -0.09032298 -0.03291783]\n",
            " [ 0.1997342   0.73436924 -2.19207018]\n",
            " [ 0.89804733  0.46352522 -1.27671658]\n",
            " [ 1.93164901 -0.04943191 -0.32782496]\n",
            " [-0.408238   -1.53146882 -0.86692823]\n",
            " [-1.90559802  1.35202315  0.01429187]]\n",
            "Item Latent Q:\n",
            "[[-0.47983689 -0.73377082  0.23402245  0.41029081  1.10978337]\n",
            " [-1.4509502   0.87328329 -0.63998968 -0.3594692  -0.18373736]\n",
            " [ 0.0988295   0.24404375  0.08828869 -1.34249823 -0.21966299]]\n",
            "P x Q:\n",
            "[[-1.04202576  0.24428754 -0.18102686 -0.82379403  0.37909453]\n",
            " [ 0.56704283  0.58478172 -0.15932428 -0.29891911 -0.99206742]\n",
            " [-1.37801422 -0.04020777 -0.61678144  2.76081632  0.56824731]\n",
            " [-1.22964551 -0.5657468  -0.19920775  1.91582728  1.19191847]\n",
            " [-0.88755199 -1.54055937  0.45474191  1.25041152  2.22480544]\n",
            " [ 2.33229455 -1.24942141  0.80804742  1.54686918  0.01876435]\n",
            " [-1.04592957  2.58245929 -1.30997177 -1.28704684 -2.36635755]]\n",
            "bias:\n",
            "2.590909090909091\n",
            "User Latent bias:\n",
            "[-0.25774674 -0.81683478  0.09674605 -0.05119329  0.61634464  0.32305604\n",
            "  0.17139135]\n",
            "Item Latent bias:\n",
            "[-0.29774646 -0.65154382  1.30477487 -0.46748854  0.26167698]\n",
            "Final R matrix:\n",
            "[[0.99339013 1.92590607 3.45691036 1.04187977 2.97393386]\n",
            " [2.04337069 1.70731221 2.9195249  1.00766665 1.04368387]\n",
            " [1.01189446 1.99590355 3.37564857 4.98098292 3.51757943]\n",
            " [1.01232383 1.32242518 3.64528292 3.98805453 3.99331125]\n",
            " [2.02195528 1.01515054 4.96677051 3.99017671 5.69373615]\n",
            " [4.94851323 1.0129999  5.02678743 3.99334577 3.19440646]\n",
            " [1.41862442 4.6932159  2.75710355 1.00776505 0.65761987]]\n",
            "Final RMSE:\n",
            "0.006300806693866276\n"
          ],
          "name": "stdout"
        }
      ]
    },
    {
      "cell_type": "code",
      "metadata": {
        "id": "gBtAryqgzf5p"
      },
      "source": [
        ""
      ],
      "execution_count": null,
      "outputs": []
    },
    {
      "cell_type": "markdown",
      "metadata": {
        "id": "AMP4U34db9-j"
      },
      "source": [
        "# clustering"
      ]
    },
    {
      "cell_type": "code",
      "metadata": {
        "id": "A87UnSCMcAUG"
      },
      "source": [
        "# user data만 뽑고 중복 제거해서 유저 데이터 모음\n",
        "musilm_user = musilm_review_table[\"user\"]\n",
        "musilm_user.drop_duplicates(inplace=True)\n",
        "musilm_user.dropna(inplace=True)"
      ],
      "execution_count": 19,
      "outputs": []
    },
    {
      "cell_type": "code",
      "metadata": {
        "colab": {
          "base_uri": "https://localhost:8080/"
        },
        "id": "9hkTgmRZcAOK",
        "outputId": "9b57de0c-ca48-4b55-b0f2-45ba1dd3535a"
      },
      "source": [
        "musilm_user.shape"
      ],
      "execution_count": 20,
      "outputs": [
        {
          "output_type": "execute_result",
          "data": {
            "text/plain": [
              "(89,)"
            ]
          },
          "metadata": {
            "tags": []
          },
          "execution_count": 20
        }
      ]
    },
    {
      "cell_type": "code",
      "metadata": {
        "colab": {
          "base_uri": "https://localhost:8080/",
          "height": 216
        },
        "id": "T4TTXR1GcAGY",
        "outputId": "abcf735e-8e03-4aea-ac0c-8cb2cfd8db83"
      },
      "source": [
        "# user 데이터와 merge 해서 데이터 추출\n",
        "musilm_review_user = pd.merge(musilm_user, user_table, left_on='user', right_on='id', how='inner')\n",
        "musilm_review_user.drop_duplicates(inplace=True)\n",
        "print(musilm_review_user.shape)\n",
        "musilm_review_user.reset_index(drop=True, inplace=True)\n",
        "musilm_review_user.head()"
      ],
      "execution_count": 54,
      "outputs": [
        {
          "output_type": "stream",
          "text": [
            "(89, 4)\n"
          ],
          "name": "stdout"
        },
        {
          "output_type": "execute_result",
          "data": {
            "text/html": [
              "<div>\n",
              "<style scoped>\n",
              "    .dataframe tbody tr th:only-of-type {\n",
              "        vertical-align: middle;\n",
              "    }\n",
              "\n",
              "    .dataframe tbody tr th {\n",
              "        vertical-align: top;\n",
              "    }\n",
              "\n",
              "    .dataframe thead th {\n",
              "        text-align: right;\n",
              "    }\n",
              "</style>\n",
              "<table border=\"1\" class=\"dataframe\">\n",
              "  <thead>\n",
              "    <tr style=\"text-align: right;\">\n",
              "      <th></th>\n",
              "      <th>user</th>\n",
              "      <th>id</th>\n",
              "      <th>gender</th>\n",
              "      <th>age</th>\n",
              "    </tr>\n",
              "  </thead>\n",
              "  <tbody>\n",
              "    <tr>\n",
              "      <th>0</th>\n",
              "      <td>225842.0</td>\n",
              "      <td>225842</td>\n",
              "      <td>여</td>\n",
              "      <td>23</td>\n",
              "    </tr>\n",
              "    <tr>\n",
              "      <th>1</th>\n",
              "      <td>90292.0</td>\n",
              "      <td>90292</td>\n",
              "      <td>여</td>\n",
              "      <td>26</td>\n",
              "    </tr>\n",
              "    <tr>\n",
              "      <th>2</th>\n",
              "      <td>52663.0</td>\n",
              "      <td>52663</td>\n",
              "      <td>여</td>\n",
              "      <td>29</td>\n",
              "    </tr>\n",
              "    <tr>\n",
              "      <th>3</th>\n",
              "      <td>442382.0</td>\n",
              "      <td>442382</td>\n",
              "      <td>여</td>\n",
              "      <td>27</td>\n",
              "    </tr>\n",
              "    <tr>\n",
              "      <th>4</th>\n",
              "      <td>688218.0</td>\n",
              "      <td>688218</td>\n",
              "      <td>여</td>\n",
              "      <td>29</td>\n",
              "    </tr>\n",
              "  </tbody>\n",
              "</table>\n",
              "</div>"
            ],
            "text/plain": [
              "       user      id gender  age\n",
              "0  225842.0  225842      여   23\n",
              "1   90292.0   90292      여   26\n",
              "2   52663.0   52663      여   29\n",
              "3  442382.0  442382      여   27\n",
              "4  688218.0  688218      여   29"
            ]
          },
          "metadata": {
            "tags": []
          },
          "execution_count": 54
        }
      ]
    },
    {
      "cell_type": "code",
      "metadata": {
        "colab": {
          "base_uri": "https://localhost:8080/",
          "height": 198
        },
        "id": "bflDYP8ejEmV",
        "outputId": "86b889ae-3346-4df3-ce78-9adfda7be8b3"
      },
      "source": [
        "#나이만 추출\n",
        "musilm_only_user = musilm_review_user[[\"user\",\"age\"]]\n",
        "#정규화\n",
        "scaler = preprocessing.MinMaxScaler()\n",
        "features_normal = scaler.fit_transform(musilm_only_user)\n",
        "musilm_only_user_normal= pd.DataFrame(features_normal ,columns=['nor_user', 'nor_age',])\n",
        "\n",
        "musilm_review_nor_user = pd.concat([musilm_review_user, musilm_only_user_normal], axis=1)\n",
        "musilm_review_nor_user.head()"
      ],
      "execution_count": 55,
      "outputs": [
        {
          "output_type": "execute_result",
          "data": {
            "text/html": [
              "<div>\n",
              "<style scoped>\n",
              "    .dataframe tbody tr th:only-of-type {\n",
              "        vertical-align: middle;\n",
              "    }\n",
              "\n",
              "    .dataframe tbody tr th {\n",
              "        vertical-align: top;\n",
              "    }\n",
              "\n",
              "    .dataframe thead th {\n",
              "        text-align: right;\n",
              "    }\n",
              "</style>\n",
              "<table border=\"1\" class=\"dataframe\">\n",
              "  <thead>\n",
              "    <tr style=\"text-align: right;\">\n",
              "      <th></th>\n",
              "      <th>user</th>\n",
              "      <th>id</th>\n",
              "      <th>gender</th>\n",
              "      <th>age</th>\n",
              "      <th>nor_user</th>\n",
              "      <th>nor_age</th>\n",
              "    </tr>\n",
              "  </thead>\n",
              "  <tbody>\n",
              "    <tr>\n",
              "      <th>0</th>\n",
              "      <td>225842.0</td>\n",
              "      <td>225842</td>\n",
              "      <td>여</td>\n",
              "      <td>23</td>\n",
              "      <td>0.238406</td>\n",
              "      <td>0.000000</td>\n",
              "    </tr>\n",
              "    <tr>\n",
              "      <th>1</th>\n",
              "      <td>90292.0</td>\n",
              "      <td>90292</td>\n",
              "      <td>여</td>\n",
              "      <td>26</td>\n",
              "      <td>0.095210</td>\n",
              "      <td>0.076923</td>\n",
              "    </tr>\n",
              "    <tr>\n",
              "      <th>2</th>\n",
              "      <td>52663.0</td>\n",
              "      <td>52663</td>\n",
              "      <td>여</td>\n",
              "      <td>29</td>\n",
              "      <td>0.055458</td>\n",
              "      <td>0.153846</td>\n",
              "    </tr>\n",
              "    <tr>\n",
              "      <th>3</th>\n",
              "      <td>442382.0</td>\n",
              "      <td>442382</td>\n",
              "      <td>여</td>\n",
              "      <td>27</td>\n",
              "      <td>0.467161</td>\n",
              "      <td>0.102564</td>\n",
              "    </tr>\n",
              "    <tr>\n",
              "      <th>4</th>\n",
              "      <td>688218.0</td>\n",
              "      <td>688218</td>\n",
              "      <td>여</td>\n",
              "      <td>29</td>\n",
              "      <td>0.726864</td>\n",
              "      <td>0.153846</td>\n",
              "    </tr>\n",
              "  </tbody>\n",
              "</table>\n",
              "</div>"
            ],
            "text/plain": [
              "       user      id gender  age  nor_user   nor_age\n",
              "0  225842.0  225842      여   23  0.238406  0.000000\n",
              "1   90292.0   90292      여   26  0.095210  0.076923\n",
              "2   52663.0   52663      여   29  0.055458  0.153846\n",
              "3  442382.0  442382      여   27  0.467161  0.102564\n",
              "4  688218.0  688218      여   29  0.726864  0.153846"
            ]
          },
          "metadata": {
            "tags": []
          },
          "execution_count": 55
        }
      ]
    },
    {
      "cell_type": "code",
      "metadata": {
        "id": "8eJxvq7YhIeZ"
      },
      "source": [
        "musilm_review_nor_user[\"gender_m\"] = musilm_review_nor_user[\"gender\"].apply(lambda x: 1 if x=='남' else 0 )\n",
        "musilm_review_nor_user[\"gender_f\"] = musilm_review_nor_user[\"gender\"].apply(lambda x: 1 if x=='여' else 0 )"
      ],
      "execution_count": 58,
      "outputs": []
    },
    {
      "cell_type": "code",
      "metadata": {
        "colab": {
          "base_uri": "https://localhost:8080/",
          "height": 198
        },
        "id": "qBpVTBOYin3E",
        "outputId": "9a088291-23d1-4c83-ed65-bea222e47600"
      },
      "source": [
        "musilm_review_nor_user.head()"
      ],
      "execution_count": 59,
      "outputs": [
        {
          "output_type": "execute_result",
          "data": {
            "text/html": [
              "<div>\n",
              "<style scoped>\n",
              "    .dataframe tbody tr th:only-of-type {\n",
              "        vertical-align: middle;\n",
              "    }\n",
              "\n",
              "    .dataframe tbody tr th {\n",
              "        vertical-align: top;\n",
              "    }\n",
              "\n",
              "    .dataframe thead th {\n",
              "        text-align: right;\n",
              "    }\n",
              "</style>\n",
              "<table border=\"1\" class=\"dataframe\">\n",
              "  <thead>\n",
              "    <tr style=\"text-align: right;\">\n",
              "      <th></th>\n",
              "      <th>user</th>\n",
              "      <th>id</th>\n",
              "      <th>gender</th>\n",
              "      <th>age</th>\n",
              "      <th>nor_user</th>\n",
              "      <th>nor_age</th>\n",
              "      <th>gender_m</th>\n",
              "      <th>gender_f</th>\n",
              "    </tr>\n",
              "  </thead>\n",
              "  <tbody>\n",
              "    <tr>\n",
              "      <th>0</th>\n",
              "      <td>225842.0</td>\n",
              "      <td>225842</td>\n",
              "      <td>여</td>\n",
              "      <td>23</td>\n",
              "      <td>0.238406</td>\n",
              "      <td>0.000000</td>\n",
              "      <td>0</td>\n",
              "      <td>1</td>\n",
              "    </tr>\n",
              "    <tr>\n",
              "      <th>1</th>\n",
              "      <td>90292.0</td>\n",
              "      <td>90292</td>\n",
              "      <td>여</td>\n",
              "      <td>26</td>\n",
              "      <td>0.095210</td>\n",
              "      <td>0.076923</td>\n",
              "      <td>0</td>\n",
              "      <td>1</td>\n",
              "    </tr>\n",
              "    <tr>\n",
              "      <th>2</th>\n",
              "      <td>52663.0</td>\n",
              "      <td>52663</td>\n",
              "      <td>여</td>\n",
              "      <td>29</td>\n",
              "      <td>0.055458</td>\n",
              "      <td>0.153846</td>\n",
              "      <td>0</td>\n",
              "      <td>1</td>\n",
              "    </tr>\n",
              "    <tr>\n",
              "      <th>3</th>\n",
              "      <td>442382.0</td>\n",
              "      <td>442382</td>\n",
              "      <td>여</td>\n",
              "      <td>27</td>\n",
              "      <td>0.467161</td>\n",
              "      <td>0.102564</td>\n",
              "      <td>0</td>\n",
              "      <td>1</td>\n",
              "    </tr>\n",
              "    <tr>\n",
              "      <th>4</th>\n",
              "      <td>688218.0</td>\n",
              "      <td>688218</td>\n",
              "      <td>여</td>\n",
              "      <td>29</td>\n",
              "      <td>0.726864</td>\n",
              "      <td>0.153846</td>\n",
              "      <td>0</td>\n",
              "      <td>1</td>\n",
              "    </tr>\n",
              "  </tbody>\n",
              "</table>\n",
              "</div>"
            ],
            "text/plain": [
              "       user      id gender  age  nor_user   nor_age  gender_m  gender_f\n",
              "0  225842.0  225842      여   23  0.238406  0.000000         0         1\n",
              "1   90292.0   90292      여   26  0.095210  0.076923         0         1\n",
              "2   52663.0   52663      여   29  0.055458  0.153846         0         1\n",
              "3  442382.0  442382      여   27  0.467161  0.102564         0         1\n",
              "4  688218.0  688218      여   29  0.726864  0.153846         0         1"
            ]
          },
          "metadata": {
            "tags": []
          },
          "execution_count": 59
        }
      ]
    },
    {
      "cell_type": "code",
      "metadata": {
        "colab": {
          "base_uri": "https://localhost:8080/",
          "height": 198
        },
        "id": "-nrO6RsHh8On",
        "outputId": "9b5f3278-cd02-40d3-96d7-d72c459ae2c0"
      },
      "source": [
        "df_review_user = musilm_review_nor_user[[\"id\",\"gender_m\",\"gender_f\"]]\n",
        "df_review_user.head()"
      ],
      "execution_count": 60,
      "outputs": [
        {
          "output_type": "execute_result",
          "data": {
            "text/html": [
              "<div>\n",
              "<style scoped>\n",
              "    .dataframe tbody tr th:only-of-type {\n",
              "        vertical-align: middle;\n",
              "    }\n",
              "\n",
              "    .dataframe tbody tr th {\n",
              "        vertical-align: top;\n",
              "    }\n",
              "\n",
              "    .dataframe thead th {\n",
              "        text-align: right;\n",
              "    }\n",
              "</style>\n",
              "<table border=\"1\" class=\"dataframe\">\n",
              "  <thead>\n",
              "    <tr style=\"text-align: right;\">\n",
              "      <th></th>\n",
              "      <th>id</th>\n",
              "      <th>gender_m</th>\n",
              "      <th>gender_f</th>\n",
              "    </tr>\n",
              "  </thead>\n",
              "  <tbody>\n",
              "    <tr>\n",
              "      <th>0</th>\n",
              "      <td>225842</td>\n",
              "      <td>0</td>\n",
              "      <td>1</td>\n",
              "    </tr>\n",
              "    <tr>\n",
              "      <th>1</th>\n",
              "      <td>90292</td>\n",
              "      <td>0</td>\n",
              "      <td>1</td>\n",
              "    </tr>\n",
              "    <tr>\n",
              "      <th>2</th>\n",
              "      <td>52663</td>\n",
              "      <td>0</td>\n",
              "      <td>1</td>\n",
              "    </tr>\n",
              "    <tr>\n",
              "      <th>3</th>\n",
              "      <td>442382</td>\n",
              "      <td>0</td>\n",
              "      <td>1</td>\n",
              "    </tr>\n",
              "    <tr>\n",
              "      <th>4</th>\n",
              "      <td>688218</td>\n",
              "      <td>0</td>\n",
              "      <td>1</td>\n",
              "    </tr>\n",
              "  </tbody>\n",
              "</table>\n",
              "</div>"
            ],
            "text/plain": [
              "       id  gender_m  gender_f\n",
              "0  225842         0         1\n",
              "1   90292         0         1\n",
              "2   52663         0         1\n",
              "3  442382         0         1\n",
              "4  688218         0         1"
            ]
          },
          "metadata": {
            "tags": []
          },
          "execution_count": 60
        }
      ]
    },
    {
      "cell_type": "markdown",
      "metadata": {
        "id": "aEGMioc3mXW7"
      },
      "source": [
        "k-means"
      ]
    },
    {
      "cell_type": "code",
      "metadata": {
        "id": "Eup_AFcWgFCn"
      },
      "source": [
        "inertia = []\n",
        "K = range(1,10)\n",
        "for k in K:\n",
        "    kmeanModel = KMeans(n_clusters=k).fit(df_review_user)\n",
        "    kmeanModel.fit(df_review_user)\n",
        "    inertia.append(kmeanModel.inertia_)"
      ],
      "execution_count": 61,
      "outputs": []
    },
    {
      "cell_type": "code",
      "metadata": {
        "colab": {
          "base_uri": "https://localhost:8080/",
          "height": 290
        },
        "id": "Cum6XrOGmbI5",
        "outputId": "53bba5ba-011c-4d59-c2d0-619e6b04d00e"
      },
      "source": [
        "# Plot the elbow\n",
        "plt.plot(K, inertia, 'bx-')\n",
        "plt.xlabel('k')\n",
        "plt.ylabel('Inertia')\n",
        "plt.show()"
      ],
      "execution_count": 62,
      "outputs": [
        {
          "output_type": "display_data",
          "data": {
            "image/png": "[encoded data removed]",
            "text/plain": [
              "<Figure size 432x288 with 1 Axes>"
            ]
          },
          "metadata": {
            "tags": [],
            "needs_background": "light"
          }
        }
      ]
    },
    {
      "cell_type": "code",
      "metadata": {
        "id": "OzM43GNOmhjh"
      },
      "source": [
        "kmeans = KMeans(n_clusters=3).fit(features_normal)"
      ],
      "execution_count": 64,
      "outputs": []
    },
    {
      "cell_type": "code",
      "metadata": {
        "id": "rK7Z4EB3mnUf"
      },
      "source": [
        "labels = pd.DataFrame(kmeans.labels_)\n",
        "labeledColleges = pd.concat((musilm_review_user,labels),axis=1)\n",
        "labeledColleges = labeledColleges.rename({0:'labels'},axis=1)"
      ],
      "execution_count": 65,
      "outputs": []
    },
    {
      "cell_type": "code",
      "metadata": {
        "colab": {
          "base_uri": "https://localhost:8080/",
          "height": 198
        },
        "id": "SXJVE0PBm2x4",
        "outputId": "5ce98e48-dd5b-456c-8c87-92326760d86f"
      },
      "source": [
        "labeledColleges.head()"
      ],
      "execution_count": 66,
      "outputs": [
        {
          "output_type": "execute_result",
          "data": {
            "text/html": [
              "<div>\n",
              "<style scoped>\n",
              "    .dataframe tbody tr th:only-of-type {\n",
              "        vertical-align: middle;\n",
              "    }\n",
              "\n",
              "    .dataframe tbody tr th {\n",
              "        vertical-align: top;\n",
              "    }\n",
              "\n",
              "    .dataframe thead th {\n",
              "        text-align: right;\n",
              "    }\n",
              "</style>\n",
              "<table border=\"1\" class=\"dataframe\">\n",
              "  <thead>\n",
              "    <tr style=\"text-align: right;\">\n",
              "      <th></th>\n",
              "      <th>user</th>\n",
              "      <th>id</th>\n",
              "      <th>gender</th>\n",
              "      <th>age</th>\n",
              "      <th>gender_m</th>\n",
              "      <th>gender_f</th>\n",
              "      <th>labels</th>\n",
              "    </tr>\n",
              "  </thead>\n",
              "  <tbody>\n",
              "    <tr>\n",
              "      <th>0</th>\n",
              "      <td>225842.0</td>\n",
              "      <td>225842</td>\n",
              "      <td>여</td>\n",
              "      <td>23</td>\n",
              "      <td>0</td>\n",
              "      <td>1</td>\n",
              "      <td>1</td>\n",
              "    </tr>\n",
              "    <tr>\n",
              "      <th>1</th>\n",
              "      <td>90292.0</td>\n",
              "      <td>90292</td>\n",
              "      <td>여</td>\n",
              "      <td>26</td>\n",
              "      <td>0</td>\n",
              "      <td>1</td>\n",
              "      <td>1</td>\n",
              "    </tr>\n",
              "    <tr>\n",
              "      <th>2</th>\n",
              "      <td>52663.0</td>\n",
              "      <td>52663</td>\n",
              "      <td>여</td>\n",
              "      <td>29</td>\n",
              "      <td>0</td>\n",
              "      <td>1</td>\n",
              "      <td>1</td>\n",
              "    </tr>\n",
              "    <tr>\n",
              "      <th>3</th>\n",
              "      <td>442382.0</td>\n",
              "      <td>442382</td>\n",
              "      <td>여</td>\n",
              "      <td>27</td>\n",
              "      <td>0</td>\n",
              "      <td>1</td>\n",
              "      <td>1</td>\n",
              "    </tr>\n",
              "    <tr>\n",
              "      <th>4</th>\n",
              "      <td>688218.0</td>\n",
              "      <td>688218</td>\n",
              "      <td>여</td>\n",
              "      <td>29</td>\n",
              "      <td>0</td>\n",
              "      <td>1</td>\n",
              "      <td>2</td>\n",
              "    </tr>\n",
              "  </tbody>\n",
              "</table>\n",
              "</div>"
            ],
            "text/plain": [
              "       user      id gender  age  gender_m  gender_f  labels\n",
              "0  225842.0  225842      여   23         0         1       1\n",
              "1   90292.0   90292      여   26         0         1       1\n",
              "2   52663.0   52663      여   29         0         1       1\n",
              "3  442382.0  442382      여   27         0         1       1\n",
              "4  688218.0  688218      여   29         0         1       2"
            ]
          },
          "metadata": {
            "tags": []
          },
          "execution_count": 66
        }
      ]
    },
    {
      "cell_type": "code",
      "metadata": {
        "colab": {
          "base_uri": "https://localhost:8080/",
          "height": 401
        },
        "id": "cfhOzYT3m6WY",
        "outputId": "aa32685b-b2fc-4529-fe17-a1269840e8db"
      },
      "source": [
        "sns.lmplot(x='age',y='gender_m',data=labeledColleges,hue='labels',fit_reg=False)"
      ],
      "execution_count": 68,
      "outputs": [
        {
          "output_type": "execute_result",
          "data": {
            "text/plain": [
              "<seaborn.axisgrid.FacetGrid at 0x7efd19c66850>"
            ]
          },
          "metadata": {
            "tags": []
          },
          "execution_count": 68
        },
        {
          "output_type": "display_data",
          "data": {
            "image/png": "[encoded data removed]",
            "text/plain": [
              "<Figure size 402.375x360 with 1 Axes>"
            ]
          },
          "metadata": {
            "tags": [],
            "needs_background": "light"
          }
        }
      ]
    },
    {
      "cell_type": "code",
      "metadata": {
        "id": "KE9wQCCBnSkA"
      },
      "source": [
        ""
      ],
      "execution_count": null,
      "outputs": []
    }
  ]
}