{
  "nbformat": 4,
  "nbformat_minor": 0,
  "metadata": {
    "colab": {
      "name": "SVD.ipynb",
      "provenance": []
    },
    "kernelspec": {
      "name": "python3",
      "display_name": "Python 3"
    },
    "language_info": {
      "name": "python"
    }
  },
  "cells": [
    {
      "cell_type": "code",
      "metadata": {
        "colab": {
          "base_uri": "https://localhost:8080/"
        },
        "id": "NlWG4_mGvuOG",
        "outputId": "3289a193-91ee-48db-af19-735f33872740"
      },
      "source": [
        "from google.colab import drive\n",
        "drive.mount('/gdrive')"
      ],
      "execution_count": 1,
      "outputs": [
        {
          "output_type": "stream",
          "text": [
            "Mounted at /gdrive\n"
          ],
          "name": "stdout"
        }
      ]
    },
    {
      "cell_type": "code",
      "metadata": {
        "id": "hGvNJbLzvyDk"
      },
      "source": [
        "import json\n",
        "import pandas as pd\n",
        "import numpy as np\n",
        "import os"
      ],
      "execution_count": 5,
      "outputs": []
    },
    {
      "cell_type": "markdown",
      "metadata": {
        "id": "3YpuvOxswKTQ"
      },
      "source": [
        "# import data "
      ]
    },
    {
      "cell_type": "code",
      "metadata": {
        "colab": {
          "base_uri": "https://localhost:8080/"
        },
        "id": "nHCKI8Vyv49_",
        "outputId": "ad1336ca-9784-42a4-91e7-68cb3a672be1"
      },
      "source": [
        "DATA_FILE = \"/gdrive/MyDrive/Colab Notebooks/ssafy/data/data.json\"\n",
        "DUMP_FILE = \"/gdrive/MyDrive/Colab Notebooks/ssafy/data/dump.pkl\"\n",
        "\n",
        "store_columns = (\n",
        "    \"id\",  # 음식점 고유번호\n",
        "    \"store_name\",  # 음식점 이름\n",
        "    \"branch\",  # 음식점 지점 여부\n",
        "    \"area\",  # 음식점 위치\n",
        "    \"tel\",  # 음식점 번호\n",
        "    \"address\",  # 음식점 주소\n",
        "    \"latitude\",  # 음식점 위도\n",
        "    \"longitude\",  # 음식점 경도\n",
        "    \"category\",  # 음식점 카테고리\n",
        ")\n",
        "\n",
        "review_columns = (\n",
        "    \"id\",  # 리뷰 고유번호\n",
        "    \"store\",  # 음식점 고유번호\n",
        "    \"user\",  # 유저 고유번호\n",
        "    \"score\",  # 평점\n",
        "    \"content\",  # 리뷰 내용\n",
        "    \"reg_time\",  # 리뷰 등록 시간\n",
        ")\n",
        "\n",
        "menu_columns = (\n",
        "    \"id\",\n",
        "    \"store\",\n",
        "    \"menu_name\",\n",
        "    \"price\",\n",
        ")\n",
        "\n",
        "user_columns = (\n",
        "    \"id\",\n",
        "    \"gender\",\n",
        "    \"age\",\n",
        ")\n",
        "\n",
        "\n",
        "def import_data(data_path=DATA_FILE):\n",
        "    try:\n",
        "        with open(data_path, encoding=\"utf-8\") as f:\n",
        "            data = json.loads(f.read())\n",
        "    except FileNotFoundError as e:\n",
        "        print(f\"`{data_path}` 가 존재하지 않습니다.\")\n",
        "        exit(1)\n",
        "\n",
        "    stores = []  # 음식점 테이블\n",
        "    reviews = []  # 리뷰 테이블\n",
        "    menus = [] # 메뉴 테이블\n",
        "    users = [] # 유저 테이블\n",
        "    menu_id = 0\n",
        "\n",
        "    for d in data:\n",
        "        categories = [c[\"category\"] for c in d[\"category_list\"]]\n",
        "        stores.append(\n",
        "            [\n",
        "                d[\"id\"],\n",
        "                d[\"name\"],\n",
        "                d[\"branch\"],\n",
        "                d[\"area\"],\n",
        "                d[\"tel\"],\n",
        "                d[\"address\"],\n",
        "                d[\"latitude\"],\n",
        "                d[\"longitude\"],\n",
        "                \"|\".join(categories),\n",
        "            ]\n",
        "        )\n",
        "\n",
        "        for review in d[\"review_list\"]:\n",
        "            r = review[\"review_info\"]\n",
        "            u = review[\"writer_info\"]\n",
        "            user_age = 2021 - int(u[\"born_year\"]) + 1\n",
        "\n",
        "            reviews.append(\n",
        "                [r[\"id\"], d[\"id\"], u[\"id\"], r[\"score\"], r[\"content\"], r[\"reg_time\"]]\n",
        "            )\n",
        "            users.append(\n",
        "                [u[\"id\"], u[\"gender\"], user_age]\n",
        "            )\n",
        "\n",
        "        for menu in d[\"menu_list\"]:\n",
        "            menus.append(\n",
        "                [menu_id, d[\"id\"], menu[\"menu\"], menu[\"price\"]]\n",
        "            )\n",
        "            menu_id +=1\n",
        "\n",
        "    store_frame = pd.DataFrame(data=stores, columns=store_columns)\n",
        "    review_frame = pd.DataFrame(data=reviews, columns=review_columns)\n",
        "    memu_frame = pd.DataFrame(data=menus, columns=menu_columns)\n",
        "    user_frame = pd.DataFrame(data=users, columns=user_columns)\n",
        "\n",
        "    return {\"stores\": store_frame, \"reviews\": review_frame, \"menus\": memu_frame, \"users\":user_frame}\n",
        "\n",
        "\n",
        "def dump_dataframes(dataframes):\n",
        "    pd.to_pickle(dataframes, DUMP_FILE)\n",
        "\n",
        "\n",
        "def load_dataframes():\n",
        "    return pd.read_pickle(DUMP_FILE)\n",
        "\n",
        "\n",
        "print(\"[*] Parsing data...\")\n",
        "raw_data = import_data()\n",
        "print(\"[+] Done\")\n",
        "\n",
        "print(\"[*] Dumping data...\")\n",
        "dump_dataframes(raw_data)\n",
        "print(\"[+] Done\\n\")\n",
        "\n",
        "raw_data = load_dataframes()"
      ],
      "execution_count": 3,
      "outputs": [
        {
          "output_type": "stream",
          "text": [
            "[*] Parsing data...\n",
            "[+] Done\n",
            "[*] Dumping data...\n",
            "[+] Done\n",
            "\n"
          ],
          "name": "stdout"
        }
      ]
    },
    {
      "cell_type": "code",
      "metadata": {
        "id": "i0mnkVoEv9QU"
      },
      "source": [
        ""
      ],
      "execution_count": null,
      "outputs": []
    },
    {
      "cell_type": "code",
      "metadata": {
        "id": "uDpWhbUZwH1L"
      },
      "source": [
        ""
      ],
      "execution_count": null,
      "outputs": []
    },
    {
      "cell_type": "markdown",
      "metadata": {
        "id": "kWMZea8dwOyw"
      },
      "source": [
        "# 분석"
      ]
    },
    {
      "cell_type": "code",
      "metadata": {
        "id": "ZCVRsT-pxLp8"
      },
      "source": [
        "from sklearn.decomposition import TruncatedSVD"
      ],
      "execution_count": 4,
      "outputs": []
    },
    {
      "cell_type": "markdown",
      "metadata": {
        "id": "GZXkDebkwVG-"
      },
      "source": [
        "user_review_data = userID, storeID, rating, title"
      ]
    },
    {
      "cell_type": "code",
      "metadata": {
        "id": "2ZuFqGuMwHyR"
      },
      "source": [
        "user_store_rating = user_store_data.pivot_table('rating',index='userID', columns='title').fillna(0)\n",
        "store_user_rating = user_store_rating.values.T\n",
        "store_user_rating.shape"
      ],
      "execution_count": null,
      "outputs": []
    },
    {
      "cell_type": "code",
      "metadata": {
        "id": "K8PzTzrhwHv6"
      },
      "source": [
        "SVD = TruncatedSVD(n_components=5)"
      ],
      "execution_count": null,
      "outputs": []
    },
    {
      "cell_type": "code",
      "metadata": {
        "id": "tYtugIbwwHm2"
      },
      "source": [
        "matrix = SVD.fit_transform(store_user_rating)\n",
        "matrix.shape"
      ],
      "execution_count": null,
      "outputs": []
    },
    {
      "cell_type": "code",
      "metadata": {
        "id": "hGbxA5mzxuAV"
      },
      "source": [
        "corr = np.corrcoef(matrix)\n",
        "corr.shape"
      ],
      "execution_count": null,
      "outputs": []
    },
    {
      "cell_type": "code",
      "metadata": {
        "id": "EBV2La1cx32_"
      },
      "source": [
        "store_title = user_store_rating.columns\n",
        "store_title_list = list(store_title)\n",
        "coffey_hands = store_title_list.index(\"우스마니아\")\n",
        "print(coffey_hands) #인덱스 값 찾기"
      ],
      "execution_count": null,
      "outputs": []
    },
    {
      "cell_type": "code",
      "metadata": {
        "id": "i4eyWnKgx30W"
      },
      "source": [
        "corr_coffey_hands = corr[coffey_hands]\n",
        "list(store_title[(corr_coffey_hands >= 0.9)])[:10] # 유사한 식당 10개"
      ],
      "execution_count": null,
      "outputs": []
    },
    {
      "cell_type": "code",
      "metadata": {
        "id": "91gDEiY3x3xl"
      },
      "source": [
        ""
      ],
      "execution_count": null,
      "outputs": []
    },
    {
      "cell_type": "code",
      "metadata": {
        "id": "eygWyM3zx3iG"
      },
      "source": [
        ""
      ],
      "execution_count": null,
      "outputs": []
    },
    {
      "cell_type": "code",
      "metadata": {
        "id": "yonFMiuxza3y"
      },
      "source": [
        ""
      ],
      "execution_count": null,
      "outputs": []
    },
    {
      "cell_type": "markdown",
      "metadata": {
        "id": "XiaF3PovzcD7"
      },
      "source": [
        "Matrix Factorization\n",
        "\n",
        "\n",
        "https://yamalab.tistory.com/92?category=747907\n",
        "\n"
      ]
    },
    {
      "cell_type": "code",
      "metadata": {
        "colab": {
          "base_uri": "https://localhost:8080/"
        },
        "id": "bRu7R39ezfln",
        "outputId": "3e0d0095-5057-4fbd-b2a2-fd5d5bba9737"
      },
      "source": [
        "import numpy as np\n",
        "\n",
        "\n",
        "class MatrixFactorization():\n",
        "    def __init__(self, R, k, learning_rate, reg_param, epochs, verbose=False):\n",
        "        \"\"\"\n",
        "        :param R: rating matrix\n",
        "        :param k: latent parameter\n",
        "        :param learning_rate: alpha on weight update\n",
        "        :param reg_param: beta on weight update\n",
        "        :param epochs: training epochs\n",
        "        :param verbose: print status\n",
        "        \"\"\"\n",
        "\n",
        "        self._R = R\n",
        "        self._num_users, self._num_items = R.shape\n",
        "        self._k = k\n",
        "        self._learning_rate = learning_rate\n",
        "        self._reg_param = reg_param\n",
        "        self._epochs = epochs\n",
        "        self._verbose = verbose\n",
        "\n",
        "\n",
        "    def fit(self):\n",
        "        \"\"\"\n",
        "        training Matrix Factorization : Update matrix latent weight and bias\n",
        "\n",
        "        참고: self._b에 대한 설명\n",
        "        - global bias: input R에서 평가가 매겨진 rating의 평균값을 global bias로 사용\n",
        "        - 정규화 기능. 최종 rating에 음수가 들어가는 것 대신 latent feature에 음수가 포함되도록 해줌.\n",
        "\n",
        "        :return: training_process\n",
        "        \"\"\"\n",
        "\n",
        "        # init latent features\n",
        "        self._P = np.random.normal(size=(self._num_users, self._k))\n",
        "        self._Q = np.random.normal(size=(self._num_items, self._k))\n",
        "\n",
        "        # init biases\n",
        "        self._b_P = np.zeros(self._num_users)\n",
        "        self._b_Q = np.zeros(self._num_items)\n",
        "        self._b = np.mean(self._R[np.where(self._R != 0)])\n",
        "\n",
        "        # train while epochs\n",
        "        self._training_process = []\n",
        "        for epoch in range(self._epochs):\n",
        "\n",
        "            # rating이 존재하는 index를 기준으로 training\n",
        "            for i in range(self._num_users):\n",
        "                for j in range(self._num_items):\n",
        "                    if self._R[i, j] > 0:\n",
        "                        self.gradient_descent(i, j, self._R[i, j])\n",
        "            cost = self.cost()\n",
        "            self._training_process.append((epoch, cost))\n",
        "\n",
        "            # print status\n",
        "            if self._verbose == True and ((epoch + 1) % 10 == 0):\n",
        "                print(\"Iteration: %d ; cost = %.4f\" % (epoch + 1, cost))\n",
        "\n",
        "\n",
        "    def cost(self):\n",
        "        \"\"\"\n",
        "        compute root mean square error\n",
        "        :return: rmse cost\n",
        "        \"\"\"\n",
        "\n",
        "        # xi, yi: R[xi, yi]는 nonzero인 value를 의미한다.\n",
        "        # 참고: http://codepractice.tistory.com/90\n",
        "        xi, yi = self._R.nonzero()\n",
        "        predicted = self.get_complete_matrix()\n",
        "        cost = 0\n",
        "        for x, y in zip(xi, yi):\n",
        "            cost += pow(self._R[x, y] - predicted[x, y], 2)\n",
        "        return np.sqrt(cost) / len(xi)\n",
        "\n",
        "\n",
        "    def gradient(self, error, i, j):\n",
        "        \"\"\"\n",
        "        gradient of latent feature for GD\n",
        "\n",
        "        :param error: rating - prediction error\n",
        "        :param i: user index\n",
        "        :param j: item index\n",
        "        :return: gradient of latent feature tuple\n",
        "        \"\"\"\n",
        "\n",
        "        dp = (error * self._Q[j, :]) - (self._reg_param * self._P[i, :])\n",
        "        dq = (error * self._P[i, :]) - (self._reg_param * self._Q[j, :])\n",
        "        return dp, dq\n",
        "\n",
        "\n",
        "    def gradient_descent(self, i, j, rating):\n",
        "        \"\"\"\n",
        "        graident descent function\n",
        "\n",
        "        :param i: user index of matrix\n",
        "        :param j: item index of matrix\n",
        "        :param rating: rating of (i,j)\n",
        "        \"\"\"\n",
        "\n",
        "        # get error\n",
        "        prediction = self.get_prediction(i, j)\n",
        "        error = rating - prediction\n",
        "\n",
        "        # update biases\n",
        "        self._b_P[i] += self._learning_rate * (error - self._reg_param * self._b_P[i])\n",
        "        self._b_Q[j] += self._learning_rate * (error - self._reg_param * self._b_Q[j])\n",
        "\n",
        "        # update latent feature\n",
        "        dp, dq = self.gradient(error, i, j)\n",
        "        self._P[i, :] += self._learning_rate * dp\n",
        "        self._Q[j, :] += self._learning_rate * dq\n",
        "\n",
        "\n",
        "    def get_prediction(self, i, j):\n",
        "        \"\"\"\n",
        "        get predicted rating: user_i, item_j\n",
        "        :return: prediction of r_ij\n",
        "        \"\"\"\n",
        "        return self._b + self._b_P[i] + self._b_Q[j] + self._P[i, :].dot(self._Q[j, :].T)\n",
        "\n",
        "\n",
        "    def get_complete_matrix(self):\n",
        "        \"\"\"\n",
        "        computer complete matrix PXQ + P.bias + Q.bias + global bias\n",
        "\n",
        "        - PXQ 행렬에 b_P[:, np.newaxis]를 더하는 것은 각 열마다 bias를 더해주는 것\n",
        "        - b_Q[np.newaxis:, ]를 더하는 것은 각 행마다 bias를 더해주는 것\n",
        "        - b를 더하는 것은 각 element마다 bias를 더해주는 것\n",
        "\n",
        "        - newaxis: 차원을 추가해줌. 1차원인 Latent들로 2차원의 R에 행/열 단위 연산을 해주기위해 차원을 추가하는 것.\n",
        "\n",
        "        :return: complete matrix R^\n",
        "        \"\"\"\n",
        "        return self._b + self._b_P[:, np.newaxis] + self._b_Q[np.newaxis:, ] + self._P.dot(self._Q.T)\n",
        "\n",
        "\n",
        "    def print_results(self):\n",
        "        \"\"\"\n",
        "        print fit results\n",
        "        \"\"\"\n",
        "\n",
        "        print(\"User Latent P:\")\n",
        "        print(self._P)\n",
        "        print(\"Item Latent Q:\")\n",
        "        print(self._Q.T)\n",
        "        print(\"P x Q:\")\n",
        "        print(self._P.dot(self._Q.T))\n",
        "        print(\"bias:\")\n",
        "        print(self._b)\n",
        "        print(\"User Latent bias:\")\n",
        "        print(self._b_P)\n",
        "        print(\"Item Latent bias:\")\n",
        "        print(self._b_Q)\n",
        "        print(\"Final R matrix:\")\n",
        "        print(self.get_complete_matrix())\n",
        "        print(\"Final RMSE:\")\n",
        "        print(self._training_process[self._epochs-1][1])\n",
        "\n",
        "\n",
        "# run example\n",
        "if __name__ == \"__main__\":\n",
        "    # rating matrix - User X Item : (7 X 5)\n",
        "    R = np.array([\n",
        "        [1, 0, 0, 1, 3],\n",
        "        [2, 0, 3, 1, 1],\n",
        "        [1, 2, 0, 5, 0],\n",
        "        [1, 0, 0, 4, 4],\n",
        "        [2, 1, 5, 4, 0],\n",
        "        [5, 1, 5, 4, 0],\n",
        "        [0, 0, 0, 1, 0],\n",
        "    ])\n",
        "\n",
        "    # P, Q is (7 X k), (k X 5) matrix\n",
        "    factorizer = MatrixFactorization(R, k=3, learning_rate=0.01, reg_param=0.01, epochs=300, verbose=True)\n",
        "    factorizer.fit()\n",
        "    factorizer.print_results()"
      ],
      "execution_count": 6,
      "outputs": [
        {
          "output_type": "stream",
          "text": [
            "Iteration: 10 ; cost = 0.2490\n",
            "Iteration: 20 ; cost = 0.1810\n",
            "Iteration: 30 ; cost = 0.1478\n",
            "Iteration: 40 ; cost = 0.1245\n",
            "Iteration: 50 ; cost = 0.1040\n",
            "Iteration: 60 ; cost = 0.0850\n",
            "Iteration: 70 ; cost = 0.0685\n",
            "Iteration: 80 ; cost = 0.0552\n",
            "Iteration: 90 ; cost = 0.0452\n",
            "Iteration: 100 ; cost = 0.0378\n",
            "Iteration: 110 ; cost = 0.0324\n",
            "Iteration: 120 ; cost = 0.0282\n",
            "Iteration: 130 ; cost = 0.0249\n",
            "Iteration: 140 ; cost = 0.0222\n",
            "Iteration: 150 ; cost = 0.0200\n",
            "Iteration: 160 ; cost = 0.0180\n",
            "Iteration: 170 ; cost = 0.0164\n",
            "Iteration: 180 ; cost = 0.0149\n",
            "Iteration: 190 ; cost = 0.0136\n",
            "Iteration: 200 ; cost = 0.0125\n",
            "Iteration: 210 ; cost = 0.0115\n",
            "Iteration: 220 ; cost = 0.0106\n",
            "Iteration: 230 ; cost = 0.0098\n",
            "Iteration: 240 ; cost = 0.0091\n",
            "Iteration: 250 ; cost = 0.0085\n",
            "Iteration: 260 ; cost = 0.0080\n",
            "Iteration: 270 ; cost = 0.0075\n",
            "Iteration: 280 ; cost = 0.0070\n",
            "Iteration: 290 ; cost = 0.0066\n",
            "Iteration: 300 ; cost = 0.0063\n",
            "User Latent P:\n",
            "[[ 0.5618006   0.57537486  0.63126051]\n",
            " [-0.91539844 -0.09032298 -0.03291783]\n",
            " [ 0.1997342   0.73436924 -2.19207018]\n",
            " [ 0.89804733  0.46352522 -1.27671658]\n",
            " [ 1.93164901 -0.04943191 -0.32782496]\n",
            " [-0.408238   -1.53146882 -0.86692823]\n",
            " [-1.90559802  1.35202315  0.01429187]]\n",
            "Item Latent Q:\n",
            "[[-0.47983689 -0.73377082  0.23402245  0.41029081  1.10978337]\n",
            " [-1.4509502   0.87328329 -0.63998968 -0.3594692  -0.18373736]\n",
            " [ 0.0988295   0.24404375  0.08828869 -1.34249823 -0.21966299]]\n",
            "P x Q:\n",
            "[[-1.04202576  0.24428754 -0.18102686 -0.82379403  0.37909453]\n",
            " [ 0.56704283  0.58478172 -0.15932428 -0.29891911 -0.99206742]\n",
            " [-1.37801422 -0.04020777 -0.61678144  2.76081632  0.56824731]\n",
            " [-1.22964551 -0.5657468  -0.19920775  1.91582728  1.19191847]\n",
            " [-0.88755199 -1.54055937  0.45474191  1.25041152  2.22480544]\n",
            " [ 2.33229455 -1.24942141  0.80804742  1.54686918  0.01876435]\n",
            " [-1.04592957  2.58245929 -1.30997177 -1.28704684 -2.36635755]]\n",
            "bias:\n",
            "2.590909090909091\n",
            "User Latent bias:\n",
            "[-0.25774674 -0.81683478  0.09674605 -0.05119329  0.61634464  0.32305604\n",
            "  0.17139135]\n",
            "Item Latent bias:\n",
            "[-0.29774646 -0.65154382  1.30477487 -0.46748854  0.26167698]\n",
            "Final R matrix:\n",
            "[[0.99339013 1.92590607 3.45691036 1.04187977 2.97393386]\n",
            " [2.04337069 1.70731221 2.9195249  1.00766665 1.04368387]\n",
            " [1.01189446 1.99590355 3.37564857 4.98098292 3.51757943]\n",
            " [1.01232383 1.32242518 3.64528292 3.98805453 3.99331125]\n",
            " [2.02195528 1.01515054 4.96677051 3.99017671 5.69373615]\n",
            " [4.94851323 1.0129999  5.02678743 3.99334577 3.19440646]\n",
            " [1.41862442 4.6932159  2.75710355 1.00776505 0.65761987]]\n",
            "Final RMSE:\n",
            "0.006300806693866276\n"
          ],
          "name": "stdout"
        }
      ]
    },
    {
      "cell_type": "code",
      "metadata": {
        "id": "gBtAryqgzf5p"
      },
      "source": [
        ""
      ],
      "execution_count": null,
      "outputs": []
    }
  ]
}