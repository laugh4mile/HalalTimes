{
  "nbformat": 4,
  "nbformat_minor": 0,
  "metadata": {
    "colab": {
      "name": "할랄가이드.ipynb",
      "provenance": [],
      "collapsed_sections": [
        "xxMc7QHYSQAH",
        "7UW7IUgoz-xk",
        "RrJDiNJ30IE1",
        "hqAqANcA_VdH",
        "5nh8wqhbTYiG",
        "7vRjncl8sYdF",
        "nKK8HLZT9rMu",
        "UGwSM4Sx6VB3",
        "Lfj5xiAb7808",
        "R766l0gYac7H",
        "pt4jDjZ8Rr16",
        "kWZq5u7Jalg9",
        "p2dBpntILPSc",
        "600KZoumlOhr"
      ],
      "toc_visible": true
    },
    "kernelspec": {
      "name": "python3",
      "display_name": "Python 3"
    }
  },
  "cells": [
    {
      "cell_type": "code",
      "metadata": {
        "colab": {
          "base_uri": "https://localhost:8080/"
        },
        "id": "KvOajVqZw1WD",
        "outputId": "7cca3c73-235d-46a2-c56e-be09664223f7"
      },
      "source": [
        "from google.colab import drive\n",
        "drive.mount('/gdrive')"
      ],
      "execution_count": 12,
      "outputs": [
        {
          "output_type": "stream",
          "text": [
            "Drive already mounted at /gdrive; to attempt to forcibly remount, call drive.mount(\"/gdrive\", force_remount=True).\n"
          ],
          "name": "stdout"
        }
      ]
    },
    {
      "cell_type": "code",
      "metadata": {
        "id": "dvkBFn9qcE30"
      },
      "source": [
        "import json\n",
        "import pandas as pd\n",
        "import os"
      ],
      "execution_count": 31,
      "outputs": []
    },
    {
      "cell_type": "markdown",
      "metadata": {
        "id": "xxMc7QHYSQAH"
      },
      "source": [
        "# 데이터분석"
      ]
    },
    {
      "cell_type": "markdown",
      "metadata": {
        "id": "7UW7IUgoz-xk"
      },
      "source": [
        "## skeleton"
      ]
    },
    {
      "cell_type": "code",
      "metadata": {
        "id": "QMtuayKdrf2e",
        "colab": {
          "base_uri": "https://localhost:8080/"
        },
        "outputId": "9776299b-10f2-4c68-ea83-0a2080dafa3d"
      },
      "source": [
        "DATA_FILE = \"/gdrive/MyDrive/Colab Notebooks/ssafy/data/data.json\"\n",
        "DUMP_FILE = \"/gdrive/MyDrive/Colab Notebooks/ssafy/data/dump.pkl\"\n",
        "\n",
        "store_columns = (\n",
        "    \"id\",  # 음식점 고유번호\n",
        "    \"store_name\",  # 음식점 이름\n",
        "    \"branch\",  # 음식점 지점 여부\n",
        "    \"area\",  # 음식점 위치\n",
        "    \"tel\",  # 음식점 번호\n",
        "    \"address\",  # 음식점 주소\n",
        "    \"latitude\",  # 음식점 위도\n",
        "    \"longitude\",  # 음식점 경도\n",
        "    \"category\",  # 음식점 카테고리\n",
        ")\n",
        "\n",
        "review_columns = (\n",
        "    \"id\",  # 리뷰 고유번호\n",
        "    \"store\",  # 음식점 고유번호\n",
        "    \"user\",  # 유저 고유번호\n",
        "    \"score\",  # 평점\n",
        "    \"content\",  # 리뷰 내용\n",
        "    \"reg_time\",  # 리뷰 등록 시간\n",
        ")\n",
        "\n",
        "menu_columns = (\n",
        "    \"id\",\n",
        "    \"store\",\n",
        "    \"menu_name\",\n",
        "    \"price\",\n",
        ")\n",
        "\n",
        "user_columns = (\n",
        "    \"id\",\n",
        "    \"gender\",\n",
        "    \"age\",\n",
        ")\n",
        "\n",
        "\n",
        "def import_data(data_path=DATA_FILE):\n",
        "    try:\n",
        "        with open(data_path, encoding=\"utf-8\") as f:\n",
        "            data = json.loads(f.read())\n",
        "    except FileNotFoundError as e:\n",
        "        print(f\"`{data_path}` 가 존재하지 않습니다.\")\n",
        "        exit(1)\n",
        "\n",
        "    stores = []  # 음식점 테이블\n",
        "    reviews = []  # 리뷰 테이블\n",
        "    menus = [] # 메뉴 테이블\n",
        "    users = [] # 유저 테이블\n",
        "    menu_id = 0\n",
        "\n",
        "    for d in data:\n",
        "        categories = [c[\"category\"] for c in d[\"category_list\"]]\n",
        "        stores.append(\n",
        "            [\n",
        "                d[\"id\"],\n",
        "                d[\"name\"],\n",
        "                d[\"branch\"],\n",
        "                d[\"area\"],\n",
        "                d[\"tel\"],\n",
        "                d[\"address\"],\n",
        "                d[\"latitude\"],\n",
        "                d[\"longitude\"],\n",
        "                \"|\".join(categories),\n",
        "            ]\n",
        "        )\n",
        "\n",
        "        for review in d[\"review_list\"]:\n",
        "            r = review[\"review_info\"]\n",
        "            u = review[\"writer_info\"]\n",
        "            user_age = 2021 - int(u[\"born_year\"]) + 1\n",
        "\n",
        "            reviews.append(\n",
        "                [r[\"id\"], d[\"id\"], u[\"id\"], r[\"score\"], r[\"content\"], r[\"reg_time\"]]\n",
        "            )\n",
        "            users.append(\n",
        "                [u[\"id\"], u[\"gender\"], user_age]\n",
        "            )\n",
        "\n",
        "        for menu in d[\"menu_list\"]:\n",
        "            menus.append(\n",
        "                [menu_id, d[\"id\"], menu[\"menu\"], menu[\"price\"]]\n",
        "            )\n",
        "            menu_id +=1\n",
        "\n",
        "    store_frame = pd.DataFrame(data=stores, columns=store_columns)\n",
        "    review_frame = pd.DataFrame(data=reviews, columns=review_columns)\n",
        "    memu_frame = pd.DataFrame(data=menus, columns=menu_columns)\n",
        "    user_frame = pd.DataFrame(data=users, columns=user_columns)\n",
        "\n",
        "    return {\"stores\": store_frame, \"reviews\": review_frame, \"menus\": memu_frame, \"users\":user_frame}\n",
        "\n",
        "\n",
        "def dump_dataframes(dataframes):\n",
        "    pd.to_pickle(dataframes, DUMP_FILE)\n",
        "\n",
        "\n",
        "def load_dataframes():\n",
        "    return pd.read_pickle(DUMP_FILE)\n",
        "\n",
        "\n",
        "print(\"[*] Parsing data...\")\n",
        "raw_data = import_data()\n",
        "print(\"[+] Done\")\n",
        "\n",
        "print(\"[*] Dumping data...\")\n",
        "dump_dataframes(raw_data)\n",
        "print(\"[+] Done\\n\")\n",
        "\n",
        "raw_data = load_dataframes()"
      ],
      "execution_count": null,
      "outputs": [
        {
          "output_type": "stream",
          "text": [
            "[*] Parsing data...\n",
            "[+] Done\n",
            "[*] Dumping data...\n",
            "[+] Done\n",
            "\n"
          ],
          "name": "stdout"
        }
      ]
    },
    {
      "cell_type": "code",
      "metadata": {
        "colab": {
          "base_uri": "https://localhost:8080/"
        },
        "id": "IAN1UjV9SLDF",
        "outputId": "7445353c-dd5d-44de-c8fc-9de70dfb54ba"
      },
      "source": [
        "print(raw_data[\"stores\"].head())\n",
        "# print(data[\"reviews\"].head())\n",
        "# print(data[\"users\"].head())"
      ],
      "execution_count": null,
      "outputs": [
        {
          "output_type": "stream",
          "text": [
            "   id     store_name branch  ...   latitude   longitude   category\n",
            "0   1           Agal   None  ...  37.556862  126.926666   아구찜|포장마차\n",
            "1   2         Assisy   None  ...  35.150746  126.890062         카페\n",
            "2   3  Battered Sole   None  ...  37.535032  126.991664    피쉬앤칩스|펍\n",
            "3   4      Chakyoung   None  ...  35.158587  129.175004  레스토랑|카프레제\n",
            "4   5       Delabobo   None  ...  37.559904  126.840512  디저트카페|디저트\n",
            "\n",
            "[5 rows x 9 columns]\n"
          ],
          "name": "stdout"
        }
      ]
    },
    {
      "cell_type": "markdown",
      "metadata": {
        "id": "RrJDiNJ30IE1"
      },
      "source": [
        "## 무슬림친화레스토랑"
      ]
    },
    {
      "cell_type": "code",
      "metadata": {
        "colab": {
          "base_uri": "https://localhost:8080/"
        },
        "id": "xFJm7tk4Ot_X",
        "outputId": "3d0dda58-e571-4223-96f0-7e6935c689ca"
      },
      "source": [
        "MUSLIM_PATH = '/gdrive/MyDrive/Colab Notebooks/ssafy/data/무슬림친화레스토랑.csv'\n",
        "CSV_MUSLIM_PATH = pd.read_csv(MUSLIM_PATH, engine='python', encoding='cp949')\n",
        "print(CSV_MUSLIM_PATH.head())"
      ],
      "execution_count": 32,
      "outputs": [
        {
          "output_type": "stream",
          "text": [
            "        레스토랑명     무슬림친화도  지역  ...      휴일 주차                관광지\n",
            "0       우스마니아  무슬림 자가 인증  서울  ...     NaN  X  국립중앙박물관, 이태원 쇼핑거리\n",
            "1   미스터케밥 2호점   할랄 공식 인증  서울  ...     NaN  X  국립중앙박물관, 이태원 쇼핑거리\n",
            "2       카파도키아  무슬림 자가 인증  부산  ...    연중무휴  O                범어사\n",
            "3     올리브레스토랑  무슬림 자가 인증  인천  ...     NaN  O            송도센트럴파크\n",
            "4  봄베이인도요리전문점   무슬림 프렌들리  경남  ...  매주 월요일  O          창원시립마산박물관\n",
            "\n",
            "[5 rows x 10 columns]\n"
          ],
          "name": "stdout"
        }
      ]
    },
    {
      "cell_type": "markdown",
      "metadata": {
        "id": "hqAqANcA_VdH"
      },
      "source": [
        "## 기초통계"
      ]
    },
    {
      "cell_type": "markdown",
      "metadata": {
        "id": "b5PUwmLKuSmm"
      },
      "source": [
        "Store_name 최대 글자 길이"
      ]
    },
    {
      "cell_type": "code",
      "metadata": {
        "id": "zr2VJFcTqoH_",
        "colab": {
          "base_uri": "https://localhost:8080/"
        },
        "outputId": "f25631bb-948b-4486-e798-ad4448040440"
      },
      "source": [
        "max(raw_data['stores'].store_name.map(lambda x: len(x)).max(), CSV_MUSLIM_PATH['레스토랑명'].map(lambda x: len(x)).max())"
      ],
      "execution_count": null,
      "outputs": [
        {
          "output_type": "execute_result",
          "data": {
            "text/plain": [
              "30"
            ]
          },
          "metadata": {
            "tags": []
          },
          "execution_count": 60
        }
      ]
    },
    {
      "cell_type": "markdown",
      "metadata": {
        "id": "w6Btb6SKun4k"
      },
      "source": [
        "MUSLIM_FRIENDLY 최대 길이"
      ]
    },
    {
      "cell_type": "code",
      "metadata": {
        "colab": {
          "base_uri": "https://localhost:8080/"
        },
        "id": "aq6-Sb0insQq",
        "outputId": "fcdae8e9-c3fd-43b7-e6c6-7bcae44280eb"
      },
      "source": [
        "CSV_MUSLIM_PATH[\"무슬림친화도\"].map(lambda x: len(x)).max()"
      ],
      "execution_count": null,
      "outputs": [
        {
          "output_type": "execute_result",
          "data": {
            "text/plain": [
              "9"
            ]
          },
          "metadata": {
            "tags": []
          },
          "execution_count": 61
        }
      ]
    },
    {
      "cell_type": "markdown",
      "metadata": {
        "id": "M7Coqj4mu2mt"
      },
      "source": [
        "무슬림레스토랑 지역 종류 및 빈도수"
      ]
    },
    {
      "cell_type": "code",
      "metadata": {
        "colab": {
          "base_uri": "https://localhost:8080/"
        },
        "id": "VN3EM-UYu0YO",
        "outputId": "376e5a8c-3bf2-4139-875c-e3438d20bc1a"
      },
      "source": [
        "CSV_MUSLIM_PATH['지역'].value_counts()"
      ],
      "execution_count": null,
      "outputs": [
        {
          "output_type": "execute_result",
          "data": {
            "text/plain": [
              "서울    135\n",
              "경기     46\n",
              "부산     30\n",
              "강원     26\n",
              "제주     23\n",
              "대구     19\n",
              "전북     12\n",
              "경북     12\n",
              "인천     11\n",
              "경남     10\n",
              "울산      9\n",
              "충북      5\n",
              "전남      4\n",
              "광주      3\n",
              "대전      1\n",
              "충남      1\n",
              "Name: 지역, dtype: int64"
            ]
          },
          "metadata": {
            "tags": []
          },
          "execution_count": 63
        }
      ]
    },
    {
      "cell_type": "markdown",
      "metadata": {
        "id": "TnztMfZgvv1t"
      },
      "source": [
        "주소 최대 길이"
      ]
    },
    {
      "cell_type": "code",
      "metadata": {
        "colab": {
          "base_uri": "https://localhost:8080/"
        },
        "id": "mzn-EzIJv2vS",
        "outputId": "1d7437ea-e04a-4b2e-c496-0af916fe046f"
      },
      "source": [
        "# print(raw_data['stores']['address'].map(lambda x: len(x)).max())\n",
        "print(CSV_MUSLIM_PATH['주소'].map(lambda x: len(x)).max())"
      ],
      "execution_count": null,
      "outputs": [
        {
          "output_type": "stream",
          "text": [
            "46\n"
          ],
          "name": "stdout"
        }
      ]
    },
    {
      "cell_type": "markdown",
      "metadata": {
        "id": "5nh8wqhbTYiG"
      },
      "source": [
        "## merge : skeleton + 무슬림레스토랑\n"
      ]
    },
    {
      "cell_type": "code",
      "metadata": {
        "id": "Fhbe0LFFvmN3"
      },
      "source": [
        "store_table = raw_data[\"stores\"].copy()\n",
        "muslim_table = CSV_MUSLIM_PATH.copy()"
      ],
      "execution_count": null,
      "outputs": []
    },
    {
      "cell_type": "code",
      "metadata": {
        "id": "csLpPXfjU0Or"
      },
      "source": [
        "# store_table['full_store_name'] = store_table[['store_name', 'branch']].apply(' '.join, axis=1)\n",
        "# store_table['full_store_name'] = store_table[\"store_name\"] + \" \" + store_table[\"branch\"]"
      ],
      "execution_count": null,
      "outputs": []
    },
    {
      "cell_type": "code",
      "metadata": {
        "colab": {
          "base_uri": "https://localhost:8080/"
        },
        "id": "9qOfWkT0Vrm9",
        "outputId": "c641c693-42e5-461a-e2d4-8d9ba410c113"
      },
      "source": [
        "print(store_table.head())"
      ],
      "execution_count": null,
      "outputs": [
        {
          "output_type": "stream",
          "text": [
            "   id     store_name branch  ...   latitude   longitude   category\n",
            "0   1           Agal   None  ...  37.556862  126.926666   아구찜|포장마차\n",
            "1   2         Assisy   None  ...  35.150746  126.890062         카페\n",
            "2   3  Battered Sole   None  ...  37.535032  126.991664    피쉬앤칩스|펍\n",
            "3   4      Chakyoung   None  ...  35.158587  129.175004  레스토랑|카프레제\n",
            "4   5       Delabobo   None  ...  37.559904  126.840512  디저트카페|디저트\n",
            "\n",
            "[5 rows x 9 columns]\n"
          ],
          "name": "stdout"
        }
      ]
    },
    {
      "cell_type": "code",
      "metadata": {
        "colab": {
          "base_uri": "https://localhost:8080/",
          "height": 407
        },
        "id": "r-tKZq7_XVb1",
        "outputId": "65d1cb9d-5857-4c34-888f-effbe8915723"
      },
      "source": [
        "store_table.drop_duplicates()"
      ],
      "execution_count": null,
      "outputs": [
        {
          "output_type": "execute_result",
          "data": {
            "text/html": [
              "<div>\n",
              "<style scoped>\n",
              "    .dataframe tbody tr th:only-of-type {\n",
              "        vertical-align: middle;\n",
              "    }\n",
              "\n",
              "    .dataframe tbody tr th {\n",
              "        vertical-align: top;\n",
              "    }\n",
              "\n",
              "    .dataframe thead th {\n",
              "        text-align: right;\n",
              "    }\n",
              "</style>\n",
              "<table border=\"1\" class=\"dataframe\">\n",
              "  <thead>\n",
              "    <tr style=\"text-align: right;\">\n",
              "      <th></th>\n",
              "      <th>id</th>\n",
              "      <th>store_name</th>\n",
              "      <th>branch</th>\n",
              "      <th>area</th>\n",
              "      <th>tel</th>\n",
              "      <th>address</th>\n",
              "      <th>latitude</th>\n",
              "      <th>longitude</th>\n",
              "      <th>category</th>\n",
              "    </tr>\n",
              "  </thead>\n",
              "  <tbody>\n",
              "    <tr>\n",
              "      <th>0</th>\n",
              "      <td>1</td>\n",
              "      <td>Agal</td>\n",
              "      <td>None</td>\n",
              "      <td>홍대</td>\n",
              "      <td>010-6689-5886</td>\n",
              "      <td>서울특별시 마포구 동교동 170-13</td>\n",
              "      <td>37.556862</td>\n",
              "      <td>126.926666</td>\n",
              "      <td>아구찜|포장마차</td>\n",
              "    </tr>\n",
              "    <tr>\n",
              "      <th>1</th>\n",
              "      <td>2</td>\n",
              "      <td>Assisy</td>\n",
              "      <td>None</td>\n",
              "      <td>광주</td>\n",
              "      <td>062-367-0700</td>\n",
              "      <td>광주광역시 서구 농성동 631-33</td>\n",
              "      <td>35.150746</td>\n",
              "      <td>126.890062</td>\n",
              "      <td>카페</td>\n",
              "    </tr>\n",
              "    <tr>\n",
              "      <th>2</th>\n",
              "      <td>3</td>\n",
              "      <td>Battered Sole</td>\n",
              "      <td>None</td>\n",
              "      <td>이태원</td>\n",
              "      <td>02-749-6867</td>\n",
              "      <td>서울특별시 용산구 이태원동 118-9</td>\n",
              "      <td>37.535032</td>\n",
              "      <td>126.991664</td>\n",
              "      <td>피쉬앤칩스|펍</td>\n",
              "    </tr>\n",
              "    <tr>\n",
              "      <th>3</th>\n",
              "      <td>4</td>\n",
              "      <td>Chakyoung</td>\n",
              "      <td>None</td>\n",
              "      <td>달맞이길</td>\n",
              "      <td>051-756-5566</td>\n",
              "      <td>부산광역시 해운대구 중2동 1509-5</td>\n",
              "      <td>35.158587</td>\n",
              "      <td>129.175004</td>\n",
              "      <td>레스토랑|카프레제</td>\n",
              "    </tr>\n",
              "    <tr>\n",
              "      <th>4</th>\n",
              "      <td>5</td>\n",
              "      <td>Delabobo</td>\n",
              "      <td>None</td>\n",
              "      <td>발산역</td>\n",
              "      <td>02-2667-9854</td>\n",
              "      <td>서울특별시 강서구 등촌동 689</td>\n",
              "      <td>37.559904</td>\n",
              "      <td>126.840512</td>\n",
              "      <td>디저트카페|디저트</td>\n",
              "    </tr>\n",
              "    <tr>\n",
              "      <th>...</th>\n",
              "      <td>...</td>\n",
              "      <td>...</td>\n",
              "      <td>...</td>\n",
              "      <td>...</td>\n",
              "      <td>...</td>\n",
              "      <td>...</td>\n",
              "      <td>...</td>\n",
              "      <td>...</td>\n",
              "      <td>...</td>\n",
              "    </tr>\n",
              "    <tr>\n",
              "      <th>459983</th>\n",
              "      <td>459996</td>\n",
              "      <td>행복부대찌개</td>\n",
              "      <td>None</td>\n",
              "      <td>녹양동</td>\n",
              "      <td>031-877-2410</td>\n",
              "      <td>경기도 의정부시 녹양동 154-6</td>\n",
              "      <td>37.757939</td>\n",
              "      <td>127.032758</td>\n",
              "      <td></td>\n",
              "    </tr>\n",
              "    <tr>\n",
              "      <th>459984</th>\n",
              "      <td>459997</td>\n",
              "      <td>행복부페</td>\n",
              "      <td>None</td>\n",
              "      <td>안중읍</td>\n",
              "      <td>031-682-1733</td>\n",
              "      <td>경기도 평택시 안중읍 용성리 718-3</td>\n",
              "      <td>37.002743</td>\n",
              "      <td>126.944991</td>\n",
              "      <td></td>\n",
              "    </tr>\n",
              "    <tr>\n",
              "      <th>459985</th>\n",
              "      <td>459998</td>\n",
              "      <td>행복분식</td>\n",
              "      <td>None</td>\n",
              "      <td>퇴촌면</td>\n",
              "      <td>031-8071-2668</td>\n",
              "      <td>경기도 광주 퇴촌면 도수리 611-6</td>\n",
              "      <td>37.471677</td>\n",
              "      <td>127.315744</td>\n",
              "      <td></td>\n",
              "    </tr>\n",
              "    <tr>\n",
              "      <th>459986</th>\n",
              "      <td>459999</td>\n",
              "      <td>행복분식</td>\n",
              "      <td>None</td>\n",
              "      <td>소주동</td>\n",
              "      <td>055-312-3713</td>\n",
              "      <td>경상남도 양산시 소주동 147-1</td>\n",
              "      <td>35.407860</td>\n",
              "      <td>129.158564</td>\n",
              "      <td></td>\n",
              "    </tr>\n",
              "    <tr>\n",
              "      <th>459987</th>\n",
              "      <td>460000</td>\n",
              "      <td>행복분식</td>\n",
              "      <td>None</td>\n",
              "      <td>의정부동</td>\n",
              "      <td>031-772-6624</td>\n",
              "      <td>경기도 의정부시 의정부동 479-7</td>\n",
              "      <td>37.739845</td>\n",
              "      <td>127.038074</td>\n",
              "      <td></td>\n",
              "    </tr>\n",
              "  </tbody>\n",
              "</table>\n",
              "<p>459988 rows × 9 columns</p>\n",
              "</div>"
            ],
            "text/plain": [
              "            id     store_name branch  ...   latitude   longitude   category\n",
              "0            1           Agal   None  ...  37.556862  126.926666   아구찜|포장마차\n",
              "1            2         Assisy   None  ...  35.150746  126.890062         카페\n",
              "2            3  Battered Sole   None  ...  37.535032  126.991664    피쉬앤칩스|펍\n",
              "3            4      Chakyoung   None  ...  35.158587  129.175004  레스토랑|카프레제\n",
              "4            5       Delabobo   None  ...  37.559904  126.840512  디저트카페|디저트\n",
              "...        ...            ...    ...  ...        ...         ...        ...\n",
              "459983  459996         행복부대찌개   None  ...  37.757939  127.032758           \n",
              "459984  459997           행복부페   None  ...  37.002743  126.944991           \n",
              "459985  459998           행복분식   None  ...  37.471677  127.315744           \n",
              "459986  459999           행복분식   None  ...  35.407860  129.158564           \n",
              "459987  460000           행복분식   None  ...  37.739845  127.038074           \n",
              "\n",
              "[459988 rows x 9 columns]"
            ]
          },
          "metadata": {
            "tags": []
          },
          "execution_count": 9
        }
      ]
    },
    {
      "cell_type": "code",
      "metadata": {
        "colab": {
          "base_uri": "https://localhost:8080/"
        },
        "id": "8U6Lsd8ba1fV",
        "outputId": "7786d396-3aa5-4f1f-afbd-7705bf955c1b"
      },
      "source": [
        "store_table.columns"
      ],
      "execution_count": null,
      "outputs": [
        {
          "output_type": "execute_result",
          "data": {
            "text/plain": [
              "Index(['id', 'store_name', 'branch', 'area', 'tel', 'address', 'latitude',\n",
              "       'longitude', 'category'],\n",
              "      dtype='object')"
            ]
          },
          "metadata": {
            "tags": []
          },
          "execution_count": 10
        }
      ]
    },
    {
      "cell_type": "code",
      "metadata": {
        "colab": {
          "base_uri": "https://localhost:8080/",
          "height": 319
        },
        "id": "tXFVNiOeZCiu",
        "outputId": "e3b31487-bb0f-404e-ff1f-a09b4c98df79"
      },
      "source": [
        "muslim_table.columns = ['store_name', 'muslim_friendly', 'location_region', 'food_category', 'address', 'tel', 'working_time', 'days_closed','parking','tourism']\n",
        "muslim_table.head()"
      ],
      "execution_count": null,
      "outputs": [
        {
          "output_type": "execute_result",
          "data": {
            "text/html": [
              "<div>\n",
              "<style scoped>\n",
              "    .dataframe tbody tr th:only-of-type {\n",
              "        vertical-align: middle;\n",
              "    }\n",
              "\n",
              "    .dataframe tbody tr th {\n",
              "        vertical-align: top;\n",
              "    }\n",
              "\n",
              "    .dataframe thead th {\n",
              "        text-align: right;\n",
              "    }\n",
              "</style>\n",
              "<table border=\"1\" class=\"dataframe\">\n",
              "  <thead>\n",
              "    <tr style=\"text-align: right;\">\n",
              "      <th></th>\n",
              "      <th>store_name</th>\n",
              "      <th>muslim_friendly</th>\n",
              "      <th>location_region</th>\n",
              "      <th>food_category</th>\n",
              "      <th>address</th>\n",
              "      <th>tel</th>\n",
              "      <th>working_time</th>\n",
              "      <th>days_closed</th>\n",
              "      <th>parking</th>\n",
              "      <th>tourism</th>\n",
              "    </tr>\n",
              "  </thead>\n",
              "  <tbody>\n",
              "    <tr>\n",
              "      <th>0</th>\n",
              "      <td>우스마니아</td>\n",
              "      <td>무슬림 자가 인증</td>\n",
              "      <td>서울</td>\n",
              "      <td>파키스탄음식</td>\n",
              "      <td>서울 용산구 우사단로 34</td>\n",
              "      <td>02-798-7155</td>\n",
              "      <td>11:00-22:00</td>\n",
              "      <td>NaN</td>\n",
              "      <td>X</td>\n",
              "      <td>국립중앙박물관, 이태원 쇼핑거리</td>\n",
              "    </tr>\n",
              "    <tr>\n",
              "      <th>1</th>\n",
              "      <td>미스터케밥 2호점</td>\n",
              "      <td>할랄 공식 인증</td>\n",
              "      <td>서울</td>\n",
              "      <td>터키음식</td>\n",
              "      <td>서울 용산구 우사단로 42</td>\n",
              "      <td>070-7532-1997</td>\n",
              "      <td>08:00-05:00</td>\n",
              "      <td>NaN</td>\n",
              "      <td>X</td>\n",
              "      <td>국립중앙박물관, 이태원 쇼핑거리</td>\n",
              "    </tr>\n",
              "    <tr>\n",
              "      <th>2</th>\n",
              "      <td>카파도키아</td>\n",
              "      <td>무슬림 자가 인증</td>\n",
              "      <td>부산</td>\n",
              "      <td>터키음식</td>\n",
              "      <td>부산 금정구 금단로 123-9</td>\n",
              "      <td>051-515-5981</td>\n",
              "      <td>11:30-22:00</td>\n",
              "      <td>연중무휴</td>\n",
              "      <td>O</td>\n",
              "      <td>범어사</td>\n",
              "    </tr>\n",
              "    <tr>\n",
              "      <th>3</th>\n",
              "      <td>올리브레스토랑</td>\n",
              "      <td>무슬림 자가 인증</td>\n",
              "      <td>인천</td>\n",
              "      <td>아랍음식</td>\n",
              "      <td>인천 연수구 옥련로 31</td>\n",
              "      <td>032-874-2800</td>\n",
              "      <td>10.30-22:00</td>\n",
              "      <td>NaN</td>\n",
              "      <td>O</td>\n",
              "      <td>송도센트럴파크</td>\n",
              "    </tr>\n",
              "    <tr>\n",
              "      <th>4</th>\n",
              "      <td>봄베이인도요리전문점</td>\n",
              "      <td>무슬림 프렌들리</td>\n",
              "      <td>경남</td>\n",
              "      <td>인도음식</td>\n",
              "      <td>경남 창원시 성산구 용지로 74</td>\n",
              "      <td>055-263-4111</td>\n",
              "      <td>11:30-22:00(브레이크 타임 15:00-17:00, 주말에는 브레이크 타임 없음)</td>\n",
              "      <td>매주 월요일</td>\n",
              "      <td>O</td>\n",
              "      <td>창원시립마산박물관</td>\n",
              "    </tr>\n",
              "  </tbody>\n",
              "</table>\n",
              "</div>"
            ],
            "text/plain": [
              "   store_name muslim_friendly  ... parking            tourism\n",
              "0       우스마니아       무슬림 자가 인증  ...       X  국립중앙박물관, 이태원 쇼핑거리\n",
              "1   미스터케밥 2호점        할랄 공식 인증  ...       X  국립중앙박물관, 이태원 쇼핑거리\n",
              "2       카파도키아       무슬림 자가 인증  ...       O                범어사\n",
              "3     올리브레스토랑       무슬림 자가 인증  ...       O            송도센트럴파크\n",
              "4  봄베이인도요리전문점        무슬림 프렌들리  ...       O          창원시립마산박물관\n",
              "\n",
              "[5 rows x 10 columns]"
            ]
          },
          "metadata": {
            "tags": []
          },
          "execution_count": 11
        }
      ]
    },
    {
      "cell_type": "markdown",
      "metadata": {
        "id": "j2h6ouyw9xFJ"
      },
      "source": [
        "### 가게 이름으로 묶기\n"
      ]
    },
    {
      "cell_type": "code",
      "metadata": {
        "colab": {
          "base_uri": "https://localhost:8080/",
          "height": 186
        },
        "id": "jKaf63ACYE_E",
        "outputId": "0d6bb4fc-538a-46a3-cd95-437663daccd7"
      },
      "source": [
        "df_merge = pd.merge(muslim_table, store_table, on='store_name', how='left')\n",
        "print(df_merge)"
      ],
      "execution_count": 138,
      "outputs": [
        {
          "output_type": "error",
          "ename": "NameError",
          "evalue": "ignored",
          "traceback": [
            "\u001b[0;31m---------------------------------------------------------------------------\u001b[0m",
            "\u001b[0;31mNameError\u001b[0m                                 Traceback (most recent call last)",
            "\u001b[0;32m<ipython-input-138-60ccb52c8e56>\u001b[0m in \u001b[0;36m<module>\u001b[0;34m()\u001b[0m\n\u001b[0;32m----> 1\u001b[0;31m \u001b[0mdf_merge\u001b[0m \u001b[0;34m=\u001b[0m \u001b[0mpd\u001b[0m\u001b[0;34m.\u001b[0m\u001b[0mmerge\u001b[0m\u001b[0;34m(\u001b[0m\u001b[0mmuslim_table\u001b[0m\u001b[0;34m,\u001b[0m \u001b[0mstore_table\u001b[0m\u001b[0;34m,\u001b[0m \u001b[0mon\u001b[0m\u001b[0;34m=\u001b[0m\u001b[0;34m'store_name'\u001b[0m\u001b[0;34m,\u001b[0m \u001b[0mhow\u001b[0m\u001b[0;34m=\u001b[0m\u001b[0;34m'left'\u001b[0m\u001b[0;34m)\u001b[0m\u001b[0;34m\u001b[0m\u001b[0;34m\u001b[0m\u001b[0m\n\u001b[0m\u001b[1;32m      2\u001b[0m \u001b[0mprint\u001b[0m\u001b[0;34m(\u001b[0m\u001b[0mdf_merge\u001b[0m\u001b[0;34m)\u001b[0m\u001b[0;34m\u001b[0m\u001b[0;34m\u001b[0m\u001b[0m\n",
            "\u001b[0;31mNameError\u001b[0m: name 'muslim_table' is not defined"
          ]
        }
      ]
    },
    {
      "cell_type": "code",
      "metadata": {
        "colab": {
          "base_uri": "https://localhost:8080/"
        },
        "id": "TVnvtIpzcJyN",
        "outputId": "2bdbe367-ee1d-4769-a6b5-40f299a622aa"
      },
      "source": [
        "df_merge.drop_duplicates(\"store_name\", inplace=True)\n",
        "print(df_merge.shape)"
      ],
      "execution_count": null,
      "outputs": [
        {
          "output_type": "stream",
          "text": [
            "(345, 18)\n"
          ],
          "name": "stdout"
        }
      ]
    },
    {
      "cell_type": "code",
      "metadata": {
        "colab": {
          "base_uri": "https://localhost:8080/"
        },
        "id": "j5XE4RTtcL2a",
        "outputId": "89380a64-5b7e-42fc-c657-63c0f2a9a830"
      },
      "source": [
        "print(muslim_table.shape)"
      ],
      "execution_count": null,
      "outputs": [
        {
          "output_type": "stream",
          "text": [
            "(347, 10)\n"
          ],
          "name": "stdout"
        }
      ]
    },
    {
      "cell_type": "markdown",
      "metadata": {
        "id": "7vRjncl8sYdF"
      },
      "source": [
        "#### 가게이름으로 기초통계"
      ]
    },
    {
      "cell_type": "code",
      "metadata": {
        "colab": {
          "base_uri": "https://localhost:8080/"
        },
        "id": "JKV4pWvre58o",
        "outputId": "028ba954-4e07-4775-fe5b-49253623f408"
      },
      "source": [
        "df_merge.info()"
      ],
      "execution_count": null,
      "outputs": [
        {
          "output_type": "stream",
          "text": [
            "<class 'pandas.core.frame.DataFrame'>\n",
            "Int64Index: 345 entries, 0 to 976\n",
            "Data columns (total 18 columns):\n",
            " #   Column           Non-Null Count  Dtype  \n",
            "---  ------           --------------  -----  \n",
            " 0   store_name       345 non-null    object \n",
            " 1   muslim_friendly  345 non-null    object \n",
            " 2   location_region  345 non-null    object \n",
            " 3   food_category    288 non-null    object \n",
            " 4   address_x        345 non-null    object \n",
            " 5   tel_x            345 non-null    object \n",
            " 6   working_time     345 non-null    object \n",
            " 7   days_closed      222 non-null    object \n",
            " 8   parking          345 non-null    object \n",
            " 9   tourism          345 non-null    object \n",
            " 10  id               141 non-null    float64\n",
            " 11  branch           11 non-null     object \n",
            " 12  area             139 non-null    object \n",
            " 13  tel_y            140 non-null    object \n",
            " 14  address_y        141 non-null    object \n",
            " 15  latitude         141 non-null    object \n",
            " 16  longitude        141 non-null    object \n",
            " 17  category         141 non-null    object \n",
            "dtypes: float64(1), object(17)\n",
            "memory usage: 51.2+ KB\n"
          ],
          "name": "stdout"
        }
      ]
    },
    {
      "cell_type": "markdown",
      "metadata": {
        "id": "zhfRl_c6wrCm"
      },
      "source": [
        "주소 교집합"
      ]
    },
    {
      "cell_type": "code",
      "metadata": {
        "colab": {
          "base_uri": "https://localhost:8080/"
        },
        "id": "IgB066tavQkE",
        "outputId": "95648d11-2b18-49ee-8dae-c3f66329a3e0"
      },
      "source": [
        "df_merge.columns"
      ],
      "execution_count": null,
      "outputs": [
        {
          "output_type": "execute_result",
          "data": {
            "text/plain": [
              "Index(['store_name', 'muslim_friendly', 'location_region', 'food_category',\n",
              "       'address_x', 'tel_x', 'working_time', 'days_closed', 'parking',\n",
              "       'tourism', 'id', 'branch', 'area', 'tel_y', 'address_y', 'latitude',\n",
              "       'longitude', 'category'],\n",
              "      dtype='object')"
            ]
          },
          "metadata": {
            "tags": []
          },
          "execution_count": 24
        }
      ]
    },
    {
      "cell_type": "code",
      "metadata": {
        "colab": {
          "base_uri": "https://localhost:8080/",
          "height": 68
        },
        "id": "t1f5TPMiw14l",
        "outputId": "e7ecbcad-e535-42ef-fcd6-a4f2bd4c7f32"
      },
      "source": [
        "df_merge[df_merge['address_x'] == df_merge['address_y']]"
      ],
      "execution_count": null,
      "outputs": [
        {
          "output_type": "execute_result",
          "data": {
            "text/html": [
              "<div>\n",
              "<style scoped>\n",
              "    .dataframe tbody tr th:only-of-type {\n",
              "        vertical-align: middle;\n",
              "    }\n",
              "\n",
              "    .dataframe tbody tr th {\n",
              "        vertical-align: top;\n",
              "    }\n",
              "\n",
              "    .dataframe thead th {\n",
              "        text-align: right;\n",
              "    }\n",
              "</style>\n",
              "<table border=\"1\" class=\"dataframe\">\n",
              "  <thead>\n",
              "    <tr style=\"text-align: right;\">\n",
              "      <th></th>\n",
              "      <th>store_name</th>\n",
              "      <th>muslim_friendly</th>\n",
              "      <th>location_region</th>\n",
              "      <th>food_category</th>\n",
              "      <th>address_x</th>\n",
              "      <th>tel_x</th>\n",
              "      <th>working_time</th>\n",
              "      <th>days_closed</th>\n",
              "      <th>parking</th>\n",
              "      <th>tourism</th>\n",
              "      <th>id</th>\n",
              "      <th>branch</th>\n",
              "      <th>area</th>\n",
              "      <th>tel_y</th>\n",
              "      <th>address_y</th>\n",
              "      <th>latitude</th>\n",
              "      <th>longitude</th>\n",
              "      <th>category</th>\n",
              "    </tr>\n",
              "  </thead>\n",
              "  <tbody>\n",
              "  </tbody>\n",
              "</table>\n",
              "</div>"
            ],
            "text/plain": [
              "Empty DataFrame\n",
              "Columns: [store_name, muslim_friendly, location_region, food_category, address_x, tel_x, working_time, days_closed, parking, tourism, id, branch, area, tel_y, address_y, latitude, longitude, category]\n",
              "Index: []"
            ]
          },
          "metadata": {
            "tags": []
          },
          "execution_count": 34
        }
      ]
    },
    {
      "cell_type": "code",
      "metadata": {
        "colab": {
          "base_uri": "https://localhost:8080/"
        },
        "id": "EX7rr0bsxcoC",
        "outputId": "cd73522b-62b3-4c2e-adec-92a1f6ef3f40"
      },
      "source": [
        "df_merge[df_merge['tel_x'] == df_merge['tel_y']].info()"
      ],
      "execution_count": null,
      "outputs": [
        {
          "output_type": "stream",
          "text": [
            "<class 'pandas.core.frame.DataFrame'>\n",
            "Int64Index: 74 entries, 0 to 962\n",
            "Data columns (total 18 columns):\n",
            " #   Column           Non-Null Count  Dtype  \n",
            "---  ------           --------------  -----  \n",
            " 0   store_name       74 non-null     object \n",
            " 1   muslim_friendly  74 non-null     object \n",
            " 2   location_region  74 non-null     object \n",
            " 3   food_category    63 non-null     object \n",
            " 4   address_x        74 non-null     object \n",
            " 5   tel_x            74 non-null     object \n",
            " 6   working_time     74 non-null     object \n",
            " 7   days_closed      48 non-null     object \n",
            " 8   parking          74 non-null     object \n",
            " 9   tourism          74 non-null     object \n",
            " 10  id               74 non-null     float64\n",
            " 11  branch           4 non-null      object \n",
            " 12  area             72 non-null     object \n",
            " 13  tel_y            74 non-null     object \n",
            " 14  address_y        74 non-null     object \n",
            " 15  latitude         74 non-null     object \n",
            " 16  longitude        74 non-null     object \n",
            " 17  category         74 non-null     object \n",
            "dtypes: float64(1), object(17)\n",
            "memory usage: 11.0+ KB\n"
          ],
          "name": "stdout"
        }
      ]
    },
    {
      "cell_type": "markdown",
      "metadata": {
        "id": "nKK8HLZT9rMu"
      },
      "source": [
        "### 전화번호로 묶기"
      ]
    },
    {
      "cell_type": "code",
      "metadata": {
        "colab": {
          "base_uri": "https://localhost:8080/"
        },
        "id": "y-obI4M9-QpR",
        "outputId": "2552388d-669c-4d7e-8ebb-bdf109f14998"
      },
      "source": [
        "# null 값 일 수도  있음\n",
        "df_tel.drop_duplicates(\"tel\").shape"
      ],
      "execution_count": null,
      "outputs": [
        {
          "output_type": "execute_result",
          "data": {
            "text/plain": [
              "(234, 18)"
            ]
          },
          "metadata": {
            "tags": []
          },
          "execution_count": 56
        }
      ]
    },
    {
      "cell_type": "code",
      "metadata": {
        "colab": {
          "base_uri": "https://localhost:8080/"
        },
        "id": "SWSvf44282VV",
        "outputId": "995d26f8-39ca-48f8-c249-edda3a5cebb7"
      },
      "source": [
        "df_tel= pd.merge(muslim_table, store_table, on='tel')\n",
        "df_tel.info()"
      ],
      "execution_count": null,
      "outputs": [
        {
          "output_type": "stream",
          "text": [
            "<class 'pandas.core.frame.DataFrame'>\n",
            "Int64Index: 244 entries, 0 to 243\n",
            "Data columns (total 18 columns):\n",
            " #   Column           Non-Null Count  Dtype \n",
            "---  ------           --------------  ----- \n",
            " 0   store_name_x     244 non-null    object\n",
            " 1   muslim_friendly  244 non-null    object\n",
            " 2   location_region  244 non-null    object\n",
            " 3   food_category    200 non-null    object\n",
            " 4   address_x        244 non-null    object\n",
            " 5   tel              244 non-null    object\n",
            " 6   working_time     244 non-null    object\n",
            " 7   days_closed      162 non-null    object\n",
            " 8   parking          244 non-null    object\n",
            " 9   tourism          244 non-null    object\n",
            " 10  id               244 non-null    int64 \n",
            " 11  store_name_y     244 non-null    object\n",
            " 12  branch           32 non-null     object\n",
            " 13  area             240 non-null    object\n",
            " 14  address_y        244 non-null    object\n",
            " 15  latitude         244 non-null    object\n",
            " 16  longitude        244 non-null    object\n",
            " 17  category         244 non-null    object\n",
            "dtypes: int64(1), object(17)\n",
            "memory usage: 36.2+ KB\n"
          ],
          "name": "stdout"
        }
      ]
    },
    {
      "cell_type": "markdown",
      "metadata": {
        "id": "UGwSM4Sx6VB3"
      },
      "source": [
        "## merge : review + user"
      ]
    },
    {
      "cell_type": "code",
      "metadata": {
        "colab": {
          "base_uri": "https://localhost:8080/"
        },
        "id": "Isam1SKL64tb",
        "outputId": "ebd53c7b-fe24-490e-f37c-3675b4bfd664"
      },
      "source": [
        "user_table = raw_data[\"users\"].copy()\n",
        "user_table.columns"
      ],
      "execution_count": null,
      "outputs": [
        {
          "output_type": "execute_result",
          "data": {
            "text/plain": [
              "Index(['id', 'gender', 'age'], dtype='object')"
            ]
          },
          "metadata": {
            "tags": []
          },
          "execution_count": 40
        }
      ]
    },
    {
      "cell_type": "code",
      "metadata": {
        "colab": {
          "base_uri": "https://localhost:8080/"
        },
        "id": "6WabFd-345vo",
        "outputId": "a1b1e242-90c2-4ff9-f76e-a3086608058c"
      },
      "source": [
        "review_table = raw_data[\"reviews\"].copy()\n",
        "review_table.columns"
      ],
      "execution_count": null,
      "outputs": [
        {
          "output_type": "execute_result",
          "data": {
            "text/plain": [
              "Index(['id', 'store', 'user', 'score', 'content', 'reg_time'], dtype='object')"
            ]
          },
          "metadata": {
            "tags": []
          },
          "execution_count": 39
        }
      ]
    },
    {
      "cell_type": "code",
      "metadata": {
        "colab": {
          "base_uri": "https://localhost:8080/"
        },
        "id": "FJhOsBrc6-nf",
        "outputId": "a7da3720-4bf8-4b43-cf9f-c7ee89e75530"
      },
      "source": [
        "df_review_user = pd.merge(review_table, user_table, left_on='user', right_on='id')\n",
        "df_review_user.drop_duplicates(\"content\", inplace=True)\n",
        "df_review_user.columns"
      ],
      "execution_count": null,
      "outputs": [
        {
          "output_type": "execute_result",
          "data": {
            "text/plain": [
              "Index(['id_x', 'store', 'user', 'score', 'content', 'reg_time', 'id_y',\n",
              "       'gender', 'age'],\n",
              "      dtype='object')"
            ]
          },
          "metadata": {
            "tags": []
          },
          "execution_count": 47
        }
      ]
    },
    {
      "cell_type": "markdown",
      "metadata": {
        "id": "Lfj5xiAb7808"
      },
      "source": [
        "## merge: merged + reivew_merged"
      ]
    },
    {
      "cell_type": "code",
      "metadata": {
        "colab": {
          "base_uri": "https://localhost:8080/"
        },
        "id": "k7DDt3K06sEb",
        "outputId": "8be28558-940b-4615-ebb1-5545de1cae18"
      },
      "source": [
        "df_merged = pd.merge(df_merge, df_review_user, left_on='id', right_on='store')\n",
        "df_merged.shape"
      ],
      "execution_count": null,
      "outputs": [
        {
          "output_type": "execute_result",
          "data": {
            "text/plain": [
              "(113, 27)"
            ]
          },
          "metadata": {
            "tags": []
          },
          "execution_count": 50
        }
      ]
    },
    {
      "cell_type": "code",
      "metadata": {
        "colab": {
          "base_uri": "https://localhost:8080/"
        },
        "id": "WepMdB518g9x",
        "outputId": "122f7f52-be4b-4193-f07a-72b263fd7249"
      },
      "source": [
        "df_tel_merged = pd.merge(df_tel, df_review_user, left_on='id', right_on='store')\n",
        "df_tel_merged.shape"
      ],
      "execution_count": null,
      "outputs": [
        {
          "output_type": "execute_result",
          "data": {
            "text/plain": [
              "(179, 27)"
            ]
          },
          "metadata": {
            "tags": []
          },
          "execution_count": 78
        }
      ]
    },
    {
      "cell_type": "code",
      "metadata": {
        "id": "HCuQLXpNQsPn"
      },
      "source": [
        "df_tel_merged.head()"
      ],
      "execution_count": null,
      "outputs": []
    },
    {
      "cell_type": "markdown",
      "metadata": {
        "id": "gRZ9_iWfLPkf"
      },
      "source": [
        ""
      ]
    },
    {
      "cell_type": "markdown",
      "metadata": {
        "id": "bSX8jWmYLROB"
      },
      "source": [
        "# 이미지 크롤링"
      ]
    },
    {
      "cell_type": "markdown",
      "metadata": {
        "id": "R766l0gYac7H"
      },
      "source": [
        "## 최종 선택"
      ]
    },
    {
      "cell_type": "code",
      "metadata": {
        "colab": {
          "base_uri": "https://localhost:8080/"
        },
        "id": "y6-3SsoFMutx",
        "outputId": "70ce01f9-816e-4613-c78f-20f7c891b959"
      },
      "source": [
        "!pip install icrawler"
      ],
      "execution_count": null,
      "outputs": [
        {
          "output_type": "stream",
          "text": [
            "Collecting icrawler\n",
            "  Downloading https://files.pythonhosted.org/packages/b4/b2/c58ff189f662fb5807a921a590a55bad3ce29bd42252135916711ee00a59/icrawler-0.6.4.tar.gz\n",
            "Requirement already satisfied: beautifulsoup4>=4.4.1 in /usr/local/lib/python3.7/dist-packages (from icrawler) (4.6.3)\n",
            "Requirement already satisfied: lxml in /usr/local/lib/python3.7/dist-packages (from icrawler) (4.2.6)\n",
            "Requirement already satisfied: requests>=2.9.1 in /usr/local/lib/python3.7/dist-packages (from icrawler) (2.23.0)\n",
            "Requirement already satisfied: six>=1.10.0 in /usr/local/lib/python3.7/dist-packages (from icrawler) (1.15.0)\n",
            "Requirement already satisfied: Pillow in /usr/local/lib/python3.7/dist-packages (from icrawler) (7.0.0)\n",
            "Requirement already satisfied: certifi>=2017.4.17 in /usr/local/lib/python3.7/dist-packages (from requests>=2.9.1->icrawler) (2020.12.5)\n",
            "Requirement already satisfied: idna<3,>=2.5 in /usr/local/lib/python3.7/dist-packages (from requests>=2.9.1->icrawler) (2.10)\n",
            "Requirement already satisfied: chardet<4,>=3.0.2 in /usr/local/lib/python3.7/dist-packages (from requests>=2.9.1->icrawler) (3.0.4)\n",
            "Requirement already satisfied: urllib3!=1.25.0,!=1.25.1,<1.26,>=1.21.1 in /usr/local/lib/python3.7/dist-packages (from requests>=2.9.1->icrawler) (1.24.3)\n",
            "Building wheels for collected packages: icrawler\n",
            "  Building wheel for icrawler (setup.py) ... \u001b[?25l\u001b[?25hdone\n",
            "  Created wheel for icrawler: filename=icrawler-0.6.4-py2.py3-none-any.whl size=35063 sha256=5a9b4e65e1bc4da7b61f04a660254962b81a41f9454f292667c39bcf28dc7fc4\n",
            "  Stored in directory: /root/.cache/pip/wheels/57/f7/08/e89027083863374b83f7b3e3ce52a9afa1674424a379c7faf9\n",
            "Successfully built icrawler\n",
            "Installing collected packages: icrawler\n",
            "Successfully installed icrawler-0.6.4\n"
          ],
          "name": "stdout"
        }
      ]
    },
    {
      "cell_type": "code",
      "metadata": {
        "id": "byglbPgNLUYL"
      },
      "source": [
        "import base64\n",
        "\n",
        "from icrawler import ImageDownloader\n",
        "from icrawler.builtin import GoogleImageCrawler\n",
        "from six.moves.urllib.parse import urlparse\n"
      ],
      "execution_count": null,
      "outputs": []
    },
    {
      "cell_type": "code",
      "metadata": {
        "id": "yeLE0bSDNMhf"
      },
      "source": [
        "def load_img(word, num, search_path):\n",
        "    google_crawler = GoogleImageCrawler(\n",
        "        feeder_threads=1,\n",
        "        parser_threads=1,\n",
        "        downloader_threads=4,\n",
        "        storage={'root_dir': search_path})\n",
        "    \n",
        "    google_crawler.crawl(keyword='식당 '+word, offset=0, max_num=num, max_size=None, file_idx_offset=0)"
      ],
      "execution_count": 131,
      "outputs": []
    },
    {
      "cell_type": "code",
      "metadata": {
        "colab": {
          "base_uri": "https://localhost:8080/"
        },
        "id": "Y5_vZ0qfl4I9",
        "outputId": "a3ea5b3e-5562-4d39-9ed3-203cc86f846b"
      },
      "source": [
        "def load_store_img(df_list, num, search_path):\n",
        "    length = len(df_list)\n",
        "    for img in range(3):\n",
        "        os.mkdir(search_path + df_list[img])\n",
        "        dir_name = search_path + df_list[img] + '/'\n",
        "        load_img(df_list[img], num, dir_name)\n",
        "\n",
        "dir_path = '/gdrive/MyDrive/Colab Notebooks/ssafy/data/image/'\n",
        "load_store_img(CSV_MUSLIM_PATH['레스토랑명'], 3, dir_path) "
      ],
      "execution_count": 132,
      "outputs": [
        {
          "output_type": "stream",
          "text": [
            "2021-03-24 07:58:02,152 - INFO - icrawler.crawler - start crawling...\n",
            "2021-03-24 07:58:02,154 - INFO - icrawler.crawler - starting 1 feeder threads...\n",
            "2021-03-24 07:58:02,163 - INFO - feeder - thread feeder-001 exit\n",
            "2021-03-24 07:58:02,165 - INFO - icrawler.crawler - starting 1 parser threads...\n",
            "2021-03-24 07:58:02,173 - INFO - icrawler.crawler - starting 4 downloader threads...\n",
            "2021-03-24 07:58:02,951 - INFO - parser - parsing result page https://www.google.com/search?q=%EC%8B%9D%EB%8B%B9+%EC%9A%B0%EC%8A%A4%EB%A7%88%EB%8B%88%EC%95%84&ijn=0&start=0&tbs=&tbm=isch\n",
            "2021-03-24 07:58:03,104 - INFO - downloader - image #1\thttps://mp-seoul-image-production-s3.mangoplate.com/801050_1580021490753445.jpg\n",
            "2021-03-24 07:58:03,188 - INFO - downloader - image #2\thttps://media-cdn.tripadvisor.com/media/photo-s/02/1c/fa/14/view-1.jpg\n",
            "2021-03-24 07:58:03,318 - INFO - downloader - downloaded images reach max num, thread downloader-002 is ready to exit\n",
            "2021-03-24 07:58:03,319 - INFO - downloader - thread downloader-002 exit\n",
            "2021-03-24 07:58:03,419 - INFO - downloader - downloaded images reach max num, thread downloader-003 is ready to exit\n",
            "2021-03-24 07:58:03,420 - INFO - downloader - thread downloader-003 exit\n",
            "2021-03-24 07:58:03,717 - INFO - downloader - downloaded images reach max num, thread downloader-004 is ready to exit\n",
            "2021-03-24 07:58:03,718 - INFO - downloader - thread downloader-004 exit\n",
            "2021-03-24 07:58:03,761 - INFO - downloader - downloaded images reach max num, thread downloader-001 is ready to exit\n",
            "2021-03-24 07:58:03,762 - INFO - downloader - thread downloader-001 exit\n",
            "2021-03-24 07:58:04,184 - INFO - icrawler.crawler - Crawling task done!\n",
            "2021-03-24 07:58:04,188 - INFO - icrawler.crawler - start crawling...\n",
            "2021-03-24 07:58:04,189 - INFO - icrawler.crawler - starting 1 feeder threads...\n",
            "2021-03-24 07:58:04,192 - INFO - feeder - thread feeder-001 exit\n",
            "2021-03-24 07:58:04,192 - INFO - icrawler.crawler - starting 1 parser threads...\n",
            "2021-03-24 07:58:04,196 - INFO - icrawler.crawler - starting 4 downloader threads...\n",
            "2021-03-24 07:58:04,197 - INFO - parser - downloaded image reached max num, thread parser-001 is ready to exit\n",
            "2021-03-24 07:58:04,199 - INFO - parser - thread parser-001 exit\n",
            "2021-03-24 07:58:04,956 - INFO - parser - parsing result page https://www.google.com/search?q=%EC%8B%9D%EB%8B%B9+%EB%AF%B8%EC%8A%A4%ED%84%B0%EC%BC%80%EB%B0%A5+2%ED%98%B8%EC%A0%90&ijn=0&start=0&tbs=&tbm=isch\n",
            "2021-03-24 07:58:05,215 - ERROR - downloader - Response status code 403, file https://scontent-iad3-1.cdninstagram.com/v/t51.2885-15/sh0.08/e35/c135.0.810.810a/s640x640/83093619_163543374925110_2705058877312087122_n.jpg\n",
            "2021-03-24 07:58:05,237 - ERROR - downloader - Response status code 404, file https://mblogthumb-phinf.pstatic.net/MjAyMTAyMDdfMjcz/MDAxNjEyNjYzOTg2OTc4.bXhFFXyifP8iEswm0o1DoI1dahahnHBL5qBvpwe-4b8g.Ls30YpU_mghnGn_aGc4kPU7ItZaX74Yrwx25v3rXq6Qg.JPEG.xazig/20190212_173017.jpg\n",
            "2021-03-24 07:58:05,270 - ERROR - downloader - Response status code 403, file https://scontent-iad3-1.cdninstagram.com/v/t51.2885-15/sh0.08/e35/s640x640/80627249_129652878078509_6308999792617305425_n.jpg\n",
            "2021-03-24 07:58:05,342 - ERROR - downloader - Response status code 403, file https://scontent-iad3-1.cdninstagram.com/v/t51.2885-15/e35/c236.0.608.608a/73512696_3264198236940331_5578980148134338798_n.jpg\n",
            "2021-03-24 07:58:06,056 - INFO - downloader - image #1\thttps://s3-ap-northeast-1.amazonaws.com/dcreviewsresized/pre_20200920102334_photo1_04a99cc1ecc2.jpg\n",
            "2021-03-24 07:58:06,130 - ERROR - downloader - Response status code 403, file https://scontent-iad3-1.cdninstagram.com/v/t51.2885-15/sh0.08/e35/c180.0.720.720a/s640x640/75158658_410801616259221_726481974042274446_n.jpg\n",
            "2021-03-24 07:58:06,304 - ERROR - downloader - Response status code 403, file https://scontent-ort2-1.cdninstagram.com/v/t51.2885-15/sh0.08/e35/c170.0.1100.1100a/s640x640/121567948_1263904817308999_747313407156277341_n.jpg\n",
            "2021-03-24 07:58:06,586 - INFO - downloader - image #2\thttps://mp-seoul-image-production-s3.mangoplate.com/89878/reviews/e5561a82aca1.jpg\n",
            "2021-03-24 07:58:06,903 - INFO - downloader - downloaded images reach max num, thread downloader-004 is ready to exit\n",
            "2021-03-24 07:58:06,904 - INFO - downloader - thread downloader-004 exit\n",
            "2021-03-24 07:58:07,066 - INFO - downloader - downloaded images reach max num, thread downloader-001 is ready to exit\n",
            "2021-03-24 07:58:07,068 - INFO - downloader - thread downloader-001 exit\n",
            "2021-03-24 07:58:07,536 - INFO - downloader - downloaded images reach max num, thread downloader-003 is ready to exit\n",
            "2021-03-24 07:58:07,537 - INFO - downloader - thread downloader-003 exit\n",
            "2021-03-24 07:58:07,889 - INFO - downloader - downloaded images reach max num, thread downloader-002 is ready to exit\n",
            "2021-03-24 07:58:07,890 - INFO - downloader - thread downloader-002 exit\n",
            "2021-03-24 07:58:08,216 - INFO - icrawler.crawler - Crawling task done!\n",
            "2021-03-24 07:58:08,221 - INFO - icrawler.crawler - start crawling...\n",
            "2021-03-24 07:58:08,222 - INFO - icrawler.crawler - starting 1 feeder threads...\n",
            "2021-03-24 07:58:08,224 - INFO - feeder - thread feeder-001 exit\n",
            "2021-03-24 07:58:08,224 - INFO - icrawler.crawler - starting 1 parser threads...\n",
            "2021-03-24 07:58:08,227 - INFO - icrawler.crawler - starting 4 downloader threads...\n",
            "2021-03-24 07:58:08,599 - INFO - parser - downloaded image reached max num, thread parser-001 is ready to exit\n",
            "2021-03-24 07:58:08,600 - INFO - parser - thread parser-001 exit\n",
            "2021-03-24 07:58:09,092 - INFO - parser - parsing result page https://www.google.com/search?q=%EC%8B%9D%EB%8B%B9+%EC%B9%B4%ED%8C%8C%EB%8F%84%ED%82%A4%EC%95%84&ijn=0&start=0&tbs=&tbm=isch\n",
            "2021-03-24 07:58:09,285 - INFO - downloader - image #1\thttps://media-cdn.tripadvisor.com/media/photo-s/18/1e/7e/20/caption.jpg\n",
            "2021-03-24 07:58:09,363 - INFO - downloader - image #2\thttps://media-cdn.tripadvisor.com/media/photo-s/0b/76/43/a3/chicken-kebab.jpg\n",
            "2021-03-24 07:58:09,528 - INFO - downloader - downloaded images reach max num, thread downloader-003 is ready to exit\n",
            "2021-03-24 07:58:09,529 - INFO - downloader - thread downloader-003 exit\n",
            "2021-03-24 07:58:09,589 - INFO - downloader - downloaded images reach max num, thread downloader-004 is ready to exit\n",
            "2021-03-24 07:58:09,589 - INFO - downloader - thread downloader-004 exit\n",
            "2021-03-24 07:58:09,998 - INFO - downloader - downloaded images reach max num, thread downloader-001 is ready to exit\n",
            "2021-03-24 07:58:09,999 - INFO - downloader - thread downloader-001 exit\n",
            "2021-03-24 07:58:10,206 - INFO - downloader - downloaded images reach max num, thread downloader-002 is ready to exit\n",
            "2021-03-24 07:58:10,207 - INFO - downloader - thread downloader-002 exit\n",
            "2021-03-24 07:58:10,243 - INFO - icrawler.crawler - Crawling task done!\n"
          ],
          "name": "stderr"
        }
      ]
    },
    {
      "cell_type": "markdown",
      "metadata": {
        "id": "pt4jDjZ8Rr16"
      },
      "source": [
        "## 연습용"
      ]
    },
    {
      "cell_type": "code",
      "metadata": {
        "id": "EhG2mgaRpqOS"
      },
      "source": [
        "class PrefixNameDownloader(ImageDownloader):\n",
        "    txt = '선언해서'\n",
        "    def get_filename(self,task, default_ext):\n",
        "        filename = super(PrefixNameDownloader, self).get_filename(\n",
        "            task, default_ext)\n",
        "        return txt+ filename"
      ],
      "execution_count": 133,
      "outputs": []
    },
    {
      "cell_type": "code",
      "metadata": {
        "id": "_8RvoTDKNvZJ"
      },
      "source": [
        "\n",
        "def load_image(word, num, search_path):\n",
        "    txt = '고슴도치'\n",
        "    google_crawler = GoogleImageCrawler(\n",
        "        downloader_cls=PrefixNameDownloader,\n",
        "        feeder_threads=1,\n",
        "        parser_threads=1,\n",
        "        downloader_threads=4,\n",
        "        storage={'root_dir': search_path})\n",
        "\n",
        "    google_crawler.crawl(keyword=word, max_num=num, max_size=None)"
      ],
      "execution_count": 134,
      "outputs": []
    },
    {
      "cell_type": "code",
      "metadata": {
        "colab": {
          "base_uri": "https://localhost:8080/"
        },
        "id": "z1FAJbmmNrIm",
        "outputId": "4acf56f8-7aa9-4217-941e-f24cb8cf3387"
      },
      "source": [
        "search_path = '/gdrive/MyDrive/Colab Notebooks/ssafy/data/image/'\n",
        "load_image(\"고슴도치\", 2, search_path)"
      ],
      "execution_count": 135,
      "outputs": [
        {
          "output_type": "stream",
          "text": [
            "2021-03-24 08:09:17,486 - INFO - icrawler.crawler - start crawling...\n",
            "2021-03-24 08:09:17,487 - INFO - icrawler.crawler - starting 1 feeder threads...\n",
            "2021-03-24 08:09:17,488 - INFO - feeder - thread feeder-001 exit\n",
            "2021-03-24 08:09:17,488 - INFO - icrawler.crawler - starting 1 parser threads...\n",
            "2021-03-24 08:09:17,492 - INFO - icrawler.crawler - starting 4 downloader threads...\n",
            "2021-03-24 08:09:18,073 - INFO - parser - parsing result page https://www.google.com/search?q=%EA%B3%A0%EC%8A%B4%EB%8F%84%EC%B9%98&ijn=0&start=0&tbs=&tbm=isch\n",
            "Exception in thread downloader-002:\n",
            "Traceback (most recent call last):\n",
            "  File \"/usr/lib/python3.7/threading.py\", line 926, in _bootstrap_inner\n",
            "    self.run()\n",
            "  File \"/usr/lib/python3.7/threading.py\", line 870, in run\n",
            "    self._target(*self._args, **self._kwargs)\n",
            "  File \"/usr/local/lib/python3.7/dist-packages/icrawler/downloader.py\", line 275, in worker_exec\n",
            "    max_num, default_ext, queue_timeout, req_timeout, **kwargs)\n",
            "  File \"/usr/local/lib/python3.7/dist-packages/icrawler/downloader.py\", line 213, in worker_exec\n",
            "    self.download(task, default_ext, req_timeout, **kwargs)\n",
            "  File \"/usr/local/lib/python3.7/dist-packages/icrawler/downloader.py\", line 119, in download\n",
            "    filename = self.get_filename(task, default_ext)\n",
            "  File \"<ipython-input-133-66672541c54f>\", line 6, in get_filename\n",
            "    return txt+ filename\n",
            "NameError: name 'txt' is not defined\n",
            "\n",
            "Exception in thread downloader-001:\n",
            "Traceback (most recent call last):\n",
            "  File \"/usr/lib/python3.7/threading.py\", line 926, in _bootstrap_inner\n",
            "    self.run()\n",
            "  File \"/usr/lib/python3.7/threading.py\", line 870, in run\n",
            "    self._target(*self._args, **self._kwargs)\n",
            "  File \"/usr/local/lib/python3.7/dist-packages/icrawler/downloader.py\", line 275, in worker_exec\n",
            "    max_num, default_ext, queue_timeout, req_timeout, **kwargs)\n",
            "  File \"/usr/local/lib/python3.7/dist-packages/icrawler/downloader.py\", line 213, in worker_exec\n",
            "    self.download(task, default_ext, req_timeout, **kwargs)\n",
            "  File \"/usr/local/lib/python3.7/dist-packages/icrawler/downloader.py\", line 119, in download\n",
            "    filename = self.get_filename(task, default_ext)\n",
            "  File \"<ipython-input-133-66672541c54f>\", line 6, in get_filename\n",
            "    return txt+ filename\n",
            "NameError: name 'txt' is not defined\n",
            "\n",
            "Exception in thread downloader-004:\n",
            "Traceback (most recent call last):\n",
            "  File \"/usr/lib/python3.7/threading.py\", line 926, in _bootstrap_inner\n",
            "    self.run()\n",
            "  File \"/usr/lib/python3.7/threading.py\", line 870, in run\n",
            "    self._target(*self._args, **self._kwargs)\n",
            "  File \"/usr/local/lib/python3.7/dist-packages/icrawler/downloader.py\", line 275, in worker_exec\n",
            "    max_num, default_ext, queue_timeout, req_timeout, **kwargs)\n",
            "  File \"/usr/local/lib/python3.7/dist-packages/icrawler/downloader.py\", line 213, in worker_exec\n",
            "    self.download(task, default_ext, req_timeout, **kwargs)\n",
            "  File \"/usr/local/lib/python3.7/dist-packages/icrawler/downloader.py\", line 119, in download\n",
            "    filename = self.get_filename(task, default_ext)\n",
            "  File \"<ipython-input-133-66672541c54f>\", line 6, in get_filename\n",
            "    return txt+ filename\n",
            "NameError: name 'txt' is not defined\n",
            "\n",
            "Exception in thread downloader-003:\n",
            "Traceback (most recent call last):\n",
            "  File \"/usr/lib/python3.7/threading.py\", line 926, in _bootstrap_inner\n",
            "    self.run()\n",
            "  File \"/usr/lib/python3.7/threading.py\", line 870, in run\n",
            "    self._target(*self._args, **self._kwargs)\n",
            "  File \"/usr/local/lib/python3.7/dist-packages/icrawler/downloader.py\", line 275, in worker_exec\n",
            "    max_num, default_ext, queue_timeout, req_timeout, **kwargs)\n",
            "  File \"/usr/local/lib/python3.7/dist-packages/icrawler/downloader.py\", line 213, in worker_exec\n",
            "    self.download(task, default_ext, req_timeout, **kwargs)\n",
            "  File \"/usr/local/lib/python3.7/dist-packages/icrawler/downloader.py\", line 119, in download\n",
            "    filename = self.get_filename(task, default_ext)\n",
            "  File \"<ipython-input-133-66672541c54f>\", line 6, in get_filename\n",
            "    return txt+ filename\n",
            "NameError: name 'txt' is not defined\n",
            "\n",
            "2021-03-24 08:09:18,515 - INFO - icrawler.crawler - Crawling task done!\n"
          ],
          "name": "stderr"
        }
      ]
    },
    {
      "cell_type": "code",
      "metadata": {
        "colab": {
          "base_uri": "https://localhost:8080/",
          "height": 439
        },
        "id": "hKIfD5mhteok",
        "outputId": "9e2fdc80-5752-4ee2-ef21-02942322d642"
      },
      "source": [
        "import base64\n",
        "\n",
        "from icrawler import ImageDownloader\n",
        "from icrawler.builtin import GoogleImageCrawler\n",
        "from six.moves.urllib.parse import urlparse\n",
        "\n",
        "\n",
        "class PrefixNameDownloader(ImageDownloader):\n",
        "\n",
        "    def get_filename(self, task, default_ext):\n",
        "        filename = super(PrefixNameDownloader, self).get_filename(\n",
        "            task, default_ext)\n",
        "        return 'prefix_' + filename\n",
        "\n",
        "\n",
        "class Base64NameDownloader(ImageDownloader):\n",
        "\n",
        "    def get_filename(self, task, default_ext):\n",
        "        url_path = urlparse(task['file_url'])[2]\n",
        "        if '.' in url_path:\n",
        "            extension = url_path.split('.')[-1]\n",
        "            if extension.lower() not in [\n",
        "                    'jpg', 'jpeg', 'png', 'bmp', 'tiff', 'gif', 'ppm', 'pgm'\n",
        "            ]:\n",
        "                extension = default_ext\n",
        "        else:\n",
        "            extension = default_ext\n",
        "        # works for python 3\n",
        "        # filename = base64.b64encode(url_path.encode()).decode()\n",
        "        filename = '강쥐'\n",
        "        return '{}.{}'.format(filename, extension)\n",
        "\n",
        "dir_name = '/gdrive/MyDrive/Colab Notebooks/ssafy/data/image'\n",
        "\n",
        "google_crawler = GoogleImageCrawler(\n",
        "    downloader_cls=PrefixNameDownloader,\n",
        "    # downloader_cls=Base64NameDownloader,\n",
        "    downloader_threads=4,\n",
        "    storage={'root_dir': dir_name})\n",
        "google_crawler.crawl('햄스터', max_num=6)"
      ],
      "execution_count": 136,
      "outputs": [
        {
          "output_type": "stream",
          "text": [
            "2021-03-24 08:09:18,550 - INFO - icrawler.crawler - start crawling...\n",
            "2021-03-24 08:09:18,551 - INFO - icrawler.crawler - starting 1 feeder threads...\n",
            "2021-03-24 08:09:18,553 - INFO - feeder - thread feeder-001 exit\n",
            "2021-03-24 08:09:18,554 - INFO - icrawler.crawler - starting 1 parser threads...\n",
            "2021-03-24 08:09:18,556 - INFO - icrawler.crawler - starting 4 downloader threads...\n"
          ],
          "name": "stderr"
        },
        {
          "output_type": "error",
          "ename": "KeyboardInterrupt",
          "evalue": "ignored",
          "traceback": [
            "\u001b[0;31m---------------------------------------------------------------------------\u001b[0m",
            "\u001b[0;31mKeyboardInterrupt\u001b[0m                         Traceback (most recent call last)",
            "\u001b[0;32m<ipython-input-136-0b460475eb84>\u001b[0m in \u001b[0;36m<module>\u001b[0;34m()\u001b[0m\n\u001b[1;32m     38\u001b[0m     \u001b[0mdownloader_threads\u001b[0m\u001b[0;34m=\u001b[0m\u001b[0;36m4\u001b[0m\u001b[0;34m,\u001b[0m\u001b[0;34m\u001b[0m\u001b[0;34m\u001b[0m\u001b[0m\n\u001b[1;32m     39\u001b[0m     storage={'root_dir': dir_name})\n\u001b[0;32m---> 40\u001b[0;31m \u001b[0mgoogle_crawler\u001b[0m\u001b[0;34m.\u001b[0m\u001b[0mcrawl\u001b[0m\u001b[0;34m(\u001b[0m\u001b[0;34m'햄스터'\u001b[0m\u001b[0;34m,\u001b[0m \u001b[0mmax_num\u001b[0m\u001b[0;34m=\u001b[0m\u001b[0;36m6\u001b[0m\u001b[0;34m)\u001b[0m\u001b[0;34m\u001b[0m\u001b[0;34m\u001b[0m\u001b[0m\n\u001b[0m",
            "\u001b[0;32m/usr/local/lib/python3.7/dist-packages/icrawler/builtin/google.py\u001b[0m in \u001b[0;36mcrawl\u001b[0;34m(self, keyword, filters, offset, max_num, min_size, max_size, language, file_idx_offset, overwrite)\u001b[0m\n\u001b[1;32m    212\u001b[0m             overwrite=overwrite)\n\u001b[1;32m    213\u001b[0m         super(GoogleImageCrawler, self).crawl(\n\u001b[0;32m--> 214\u001b[0;31m             feeder_kwargs=feeder_kwargs, downloader_kwargs=downloader_kwargs)\n\u001b[0m",
            "\u001b[0;32m/usr/local/lib/python3.7/dist-packages/icrawler/crawler.py\u001b[0m in \u001b[0;36mcrawl\u001b[0;34m(self, feeder_kwargs, parser_kwargs, downloader_kwargs)\u001b[0m\n\u001b[1;32m    193\u001b[0m             \u001b[0;32mif\u001b[0m \u001b[0;32mnot\u001b[0m \u001b[0mself\u001b[0m\u001b[0;34m.\u001b[0m\u001b[0mdownloader\u001b[0m\u001b[0;34m.\u001b[0m\u001b[0mis_alive\u001b[0m\u001b[0;34m(\u001b[0m\u001b[0;34m)\u001b[0m\u001b[0;34m:\u001b[0m\u001b[0;34m\u001b[0m\u001b[0;34m\u001b[0m\u001b[0m\n\u001b[1;32m    194\u001b[0m                 \u001b[0;32mbreak\u001b[0m\u001b[0;34m\u001b[0m\u001b[0;34m\u001b[0m\u001b[0m\n\u001b[0;32m--> 195\u001b[0;31m             \u001b[0mtime\u001b[0m\u001b[0;34m.\u001b[0m\u001b[0msleep\u001b[0m\u001b[0;34m(\u001b[0m\u001b[0;36m1\u001b[0m\u001b[0;34m)\u001b[0m\u001b[0;34m\u001b[0m\u001b[0;34m\u001b[0m\u001b[0m\n\u001b[0m\u001b[1;32m    196\u001b[0m \u001b[0;34m\u001b[0m\u001b[0m\n\u001b[1;32m    197\u001b[0m         \u001b[0;32mif\u001b[0m \u001b[0;32mnot\u001b[0m \u001b[0mself\u001b[0m\u001b[0;34m.\u001b[0m\u001b[0mfeeder\u001b[0m\u001b[0;34m.\u001b[0m\u001b[0min_queue\u001b[0m\u001b[0;34m.\u001b[0m\u001b[0mempty\u001b[0m\u001b[0;34m(\u001b[0m\u001b[0;34m)\u001b[0m\u001b[0;34m:\u001b[0m\u001b[0;34m\u001b[0m\u001b[0;34m\u001b[0m\u001b[0m\n",
            "\u001b[0;31mKeyboardInterrupt\u001b[0m: "
          ]
        }
      ]
    },
    {
      "cell_type": "code",
      "metadata": {
        "id": "1mNPvSzateq5"
      },
      "source": [
        ""
      ],
      "execution_count": null,
      "outputs": []
    },
    {
      "cell_type": "code",
      "metadata": {
        "id": "rfBx-CAptetf"
      },
      "source": [
        ""
      ],
      "execution_count": null,
      "outputs": []
    },
    {
      "cell_type": "markdown",
      "metadata": {
        "id": "w9oTEBY4ajOp"
      },
      "source": [
        "FlickrImageCrawler"
      ]
    },
    {
      "cell_type": "code",
      "metadata": {
        "id": "Au2Tl6x0_46o"
      },
      "source": [
        "from icrawler.builtin import FlickrImageCrawler\n",
        "dir_name = '/gdrive/MyDrive/Colab Notebooks/ssafy/data/image'\n",
        "\n",
        "def load_flick(word):\n",
        "    flickr_crawler = FlickrImageCrawler( word, storage={'root_dir': dir_name})\n",
        "    flickr_crawler.crawl(max_num=5, tags=word)\n",
        "\n",
        "load_flick('우스마니아')"
      ],
      "execution_count": null,
      "outputs": []
    },
    {
      "cell_type": "markdown",
      "metadata": {
        "id": "kWZq5u7Jalg9"
      },
      "source": [
        "### beautifulsoup4 "
      ]
    },
    {
      "cell_type": "code",
      "metadata": {
        "id": "T54in7FsBPvd"
      },
      "source": [
        "!pip install beautifulsoup4"
      ],
      "execution_count": null,
      "outputs": []
    },
    {
      "cell_type": "code",
      "metadata": {
        "id": "yFjsM-WyEIWT"
      },
      "source": [
        "from bs4 import BeautifulSoup as bs\n",
        "from urllib.request import urlopen\n",
        "from urllib.parse import quote_plus\n",
        "\n",
        "def bs_img(word, num):\n",
        "    baseUrl = 'https://search.naver.com/search.naver?where=image&sm=tab_jum&query='\n",
        "    \n",
        "    url = baseUrl + quote_plus(word) # 한글 검색 자동 변환\n",
        "    html = urlopen(url)\n",
        "    soup = bs(html, \"html.parser\")\n",
        "    img = soup.find_all(\"img\", class_=\"_img\")\n",
        "    \n",
        "    n = 1\n",
        "    print(url)\n",
        "    for i in img:\n",
        "        print(n)\n",
        "        imgUrl = i['data-source']\n",
        "        with urlopen(imgUrl) as f:\n",
        "            with open('/gdrive/MyDrive/Colab Notebooks/ssafy/data/image/' + word + str(n)+'.jpg','wb') as h: # w - write b - binary\n",
        "                img = f.read()\n",
        "                h.write(img)\n",
        "        n += 1\n",
        "        if n > num:\n",
        "            break\n",
        "\n",
        "    print('Image Crawling is done.')\n",
        "\n",
        "bs_img('다람쥐',3)\n",
        "\n"
      ],
      "execution_count": null,
      "outputs": []
    },
    {
      "cell_type": "code",
      "metadata": {
        "id": "cE6bIaCY1s6A"
      },
      "source": [
        "from urllib.request import urlopen\n",
        "from urllib.parse import quote_plus\n",
        "from bs4 import BeautifulSoup\n",
        "\n",
        "baseUrl = 'https://search.naver.com/search.naver?sm=tab_hty.top&where=image&query='\n",
        "plusUrl = input('검색어 입력해')\n",
        "url = baseUrl + quote_plus(plusUrl)\n",
        "\n",
        "html = urlopen(url).read()\n",
        "soup = BeautifulSoup(html, 'html.parser')\n",
        "img = soup.find_all(class_='_img', limit=10)\n",
        "\n",
        "n = 1\n",
        "for i in img:\n",
        "    imgUrl = i['data-source']\n",
        "    with urlopen(imgUrl) as f:\n",
        "        with open(plusUrl + str(n) + 'jpg', 'wb') as na:\n",
        "            img = f.read()\n",
        "            na.write(img)\n",
        "    n +=1 \n",
        "print ('다했음')"
      ],
      "execution_count": null,
      "outputs": []
    },
    {
      "cell_type": "code",
      "metadata": {
        "id": "L41qp-Tf1s3v"
      },
      "source": [
        ""
      ],
      "execution_count": null,
      "outputs": []
    },
    {
      "cell_type": "code",
      "metadata": {
        "id": "7CYQ6nVf1s0z"
      },
      "source": [
        ""
      ],
      "execution_count": null,
      "outputs": []
    },
    {
      "cell_type": "markdown",
      "metadata": {
        "id": "p2dBpntILPSc"
      },
      "source": [
        "### selenium"
      ]
    },
    {
      "cell_type": "code",
      "metadata": {
        "id": "iylyvBORJhpZ"
      },
      "source": [
        "# install chromium, its driver, and selenium\n",
        "!apt-get update\n",
        "!apt install chromium-chromedriver\n",
        "!cp /usr/lib/chromium-browser/chromedriver /usr/bin\n",
        "!pip install selenium\n",
        "# set options to be headless, ..\n",
        "from selenium import webdriver\n",
        "options = webdriver.ChromeOptions()\n",
        "options.add_argument('--headless')\n",
        "options.add_argument('--no-sandbox')\n",
        "options.add_argument('--disable-dev-shm-usage')\n",
        "# open it, go to a website, and get results\n",
        "wd = webdriver.Chrome('chromedriver',options=options)\n",
        "wd.get(\"https://www.website.com\")\n",
        "# print(wd.page_source)  # results"
      ],
      "execution_count": null,
      "outputs": []
    },
    {
      "cell_type": "code",
      "metadata": {
        "id": "uY4znhPwGsAZ"
      },
      "source": [
        "from selenium import webdriver\n",
        "from bs4 import BeautifulSoup as soups\n",
        " \n",
        "def search_selenium(search_name, search_limit, search_path) :\n",
        "    search_url = \"https://www.google.com/search?q=\" + str(search_name) + \"&hl=ko&tbm=isch\"\n",
        "\n",
        "    browser = webdriver.Chrome('chromedriver',options=options)\n",
        "    browser.get(search_url)    \n",
        "    # image_count = len(browser.find_elements_by_tag_name(\"img\"))\n",
        "    # print(\"로드된 이미지 개수 : \", image_count)\n",
        "    browser.implicitly_wait(2)\n",
        " \n",
        "    for i in range( search_limit ) :\n",
        "        image = browser.find_elements_by_tag_name(\"img\")[i]\n",
        "        image.screenshot(search_path + search_name +'_'+str(i+1) + \".png\")\n",
        " \n",
        "    browser.close()\n",
        " \n",
        "# if __name__ == \"__main__\" :\n",
        "#     search_path = '/gdrive/MyDrive/Colab Notebooks/ssafy/data/image/'\n",
        "#     search_selenium('고양이',3, search_path)"
      ],
      "execution_count": null,
      "outputs": []
    },
    {
      "cell_type": "code",
      "metadata": {
        "id": "74xQOAemKOhO"
      },
      "source": [
        "def load_store_img(df_list, num, search_path):\n",
        "    length = len(df_list)\n",
        "    for img in range(3):\n",
        "        search_selenium(df_list[img], num, search_path)"
      ],
      "execution_count": null,
      "outputs": []
    },
    {
      "cell_type": "code",
      "metadata": {
        "id": "oSkUi3qadQ-K"
      },
      "source": [
        "dir_path = '/gdrive/MyDrive/Colab Notebooks/ssafy/data/image/'\n",
        "load_store_img(CSV_MUSLIM_PATH['레스토랑명'], 2, dir_path) "
      ],
      "execution_count": null,
      "outputs": []
    },
    {
      "cell_type": "code",
      "metadata": {
        "id": "XEEdCBeij7QB"
      },
      "source": [
        "from selenium import webdriver\n",
        "from bs4 import BeautifulSoup as soups\n",
        " \n",
        "def search_selenium(search_name, search_limit, search_path) :\n",
        "    search_url = \"https://www.google.com/search?q=\" + str(search_name) + \"&hl=ko&tbm=isch\"\n",
        "\n",
        "    browser = webdriver.Chrome('chromedriver',options=options)\n",
        "    browser.get(search_url)    \n",
        "\n",
        "    count = 1\n",
        "    images = browser.find_elements_by_css_selector(\".rg_i.Q4LuWd\")\n",
        "\n",
        "\n",
        "    for image in images:\n",
        "        try:\n",
        "            image.click()\n",
        "            time.sleep(3)\n",
        "            img_url = driver.find_element_by_xpath(\"/html/body/div[2]/c-wiz/div[3]/div[2]/div[3]/div/div/div[3]/div[2]/c-wiz/div[1]/div[1]/div/div[2]/a/img\").get_attribute(\"src\")\n",
        "            opener = urllib.request.build_opener()\n",
        "            opener.addheaders = [('User-Agent','Mozilla/5.0 (Windows NT 6.1; WOW64) AppleWebKit/537.36 (KHTML, like Gecko) Chrome/36.0.1941.0 Safari/537.36')]\n",
        "            urllib.request.install_opener(opener)\n",
        "            urllib.request.urlretrieve(img_url, str(count) + \".jpg\")\n",
        "            count = count + 1\n",
        "        except:\n",
        "            pass\n",
        " \n",
        "    browser.close()\n"
      ],
      "execution_count": null,
      "outputs": []
    },
    {
      "cell_type": "code",
      "metadata": {
        "id": "mLXnPkcikbza"
      },
      "source": [
        "dir_path = '/gdrive/MyDrive/Colab Notebooks/ssafy/data/image/'\n",
        "load_store_img(CSV_MUSLIM_PATH['레스토랑명'], 2, dir_path) "
      ],
      "execution_count": null,
      "outputs": []
    },
    {
      "cell_type": "markdown",
      "metadata": {
        "id": "u_fuS2h3gzKF"
      },
      "source": [
        "### download"
      ]
    },
    {
      "cell_type": "code",
      "metadata": {
        "id": "GSQdLxxzg6sz"
      },
      "source": [
        "!apt install chromium-chromedriver -q\n",
        "!pip install google_images_download selenium -q\n",
        "\n",
        "import sys\n",
        "\n",
        "from fastai.vision import *\n",
        "from google.colab import drive, files\n",
        "from google_images_download import google_images_download\n",
        "from selenium import webdriver  # needed for google_images_download\n",
        "\n",
        "# Put chromedriver in the right spot\n",
        "!cp /usr/lib/chromium-browser/chromedriver /usr/bin\n",
        "sys.path.insert(0,'/usr/lib/chromium-browser/chromedriver')\n",
        "\n",
        "# set options to be headless, ..\n",
        "options = webdriver.ChromeOptions()\n",
        "options.add_argument('--headless')\n",
        "options.add_argument('--no-sandbox')\n",
        "options.add_argument('--disable-dev-shm-usage')\n",
        "\n",
        "# mount google drive\n",
        "drive.mount('/content/drive')\n",
        "\n",
        "output_directory = \"/content/drive/My Drive/anime_vs_cartoon_images\"\n",
        "\n",
        "# Category Google Searches\n",
        "# `-` excludes the string from the search\n",
        "categories = {\"cartoon\": \"cartoon -political -election -economist -contest -news -hedgeye -comic -trump -clipart\",\n",
        "              \"anime\": \"anime\"}"
      ],
      "execution_count": null,
      "outputs": []
    },
    {
      "cell_type": "code",
      "metadata": {
        "id": "q49quvx1g3mi"
      },
      "source": [
        "def download_images(query, **kwargs):\n",
        "    \"\"\"\n",
        "    Args:\n",
        "        query (str): The search string to use with Google Images.\n",
        "        **kwargs: See https://github.com/hardikvasa/google-images-download/blob/master/google_images_download/google_images_download.py#L65 for options.\n",
        "    Returns\n",
        "        List of paths to download files.\n",
        "    \"\"\"\n",
        "    response = google_images_download.googleimagesdownload()\n",
        "    arguments = {\"keywords\": query,\n",
        "                 \"limit\": 750,\n",
        "                 \"print_urls\": False,\n",
        "                 \"chromedriver\": \"/usr/bin/chromedriver\"}\n",
        "    arguments.update(kwargs)\n",
        "    paths = response.download(arguments)\n",
        "    \n",
        "    return paths[0][query]\n",
        "\n",
        "img_paths = {}\n",
        "for name, query in categories.items():\n",
        "    img_paths[name] = download_images(query=query,\n",
        "                                      output_directory=output_directory,\n",
        "                                      image_directory=name)"
      ],
      "execution_count": null,
      "outputs": []
    },
    {
      "cell_type": "markdown",
      "metadata": {
        "id": "600KZoumlOhr"
      },
      "source": [
        "### webdriver-manager"
      ]
    },
    {
      "cell_type": "code",
      "metadata": {
        "id": "ice4BT_rlD4i"
      },
      "source": [
        "!pip install webdriver-manager"
      ],
      "execution_count": null,
      "outputs": []
    },
    {
      "cell_type": "code",
      "metadata": {
        "id": "eMC60SCVlDij"
      },
      "source": [
        "from selenium import webdriver\n",
        "from webdriver_manager.chrome import ChromeDriverManager\n",
        "from selenium.webdriver.common.keys import Keys\n",
        "\n",
        "driver = webdriver.Chrome(ChromeDriverManager().install())\n",
        "driver.get(\"http://www.python.org\")"
      ],
      "execution_count": null,
      "outputs": []
    },
    {
      "cell_type": "code",
      "metadata": {
        "id": "j5yHx4dlPHza"
      },
      "source": [
        ""
      ],
      "execution_count": null,
      "outputs": []
    }
  ]
}